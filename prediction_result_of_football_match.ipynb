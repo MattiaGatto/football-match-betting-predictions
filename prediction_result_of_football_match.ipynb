{
  "cells": [
    {
      "cell_type": "markdown",
      "metadata": {
        "id": "view-in-github",
        "colab_type": "text"
      },
      "source": [
        "<a href=\"https://colab.research.google.com/github/MattiaGatto/football-match-betting-predictions/blob/main/prediction_result_of_football_match.ipynb\" target=\"_parent\"><img src=\"https://colab.research.google.com/assets/colab-badge.svg\" alt=\"Open In Colab\"/></a>"
      ]
    },
    {
      "cell_type": "markdown",
      "metadata": {
        "id": "LYDRiqakSmox"
      },
      "source": [
        "# Modello che predice il risultato delle partite della serie A"
      ]
    },
    {
      "cell_type": "markdown",
      "metadata": {
        "id": "QX7Le44Bum0a"
      },
      "source": [
        "---\n",
        "# Librerie necessarie all'utilizzo"
      ]
    },
    {
      "cell_type": "code",
      "execution_count": 1,
      "metadata": {
        "colab": {
          "base_uri": "https://localhost:8080/"
        },
        "id": "IITWNHjySb6d",
        "outputId": "394d5572-c56c-4956-8338-6e5fb642de9c"
      },
      "outputs": [
        {
          "output_type": "stream",
          "name": "stdout",
          "text": [
            "Looking in indexes: https://pypi.org/simple, https://us-python.pkg.dev/colab-wheels/public/simple/\n",
            "Requirement already satisfied: pandas in /usr/local/lib/python3.7/dist-packages (1.3.5)\n",
            "Requirement already satisfied: numpy>=1.17.3 in /usr/local/lib/python3.7/dist-packages (from pandas) (1.21.6)\n",
            "Requirement already satisfied: python-dateutil>=2.7.3 in /usr/local/lib/python3.7/dist-packages (from pandas) (2.8.2)\n",
            "Requirement already satisfied: pytz>=2017.3 in /usr/local/lib/python3.7/dist-packages (from pandas) (2022.2.1)\n",
            "Requirement already satisfied: six>=1.5 in /usr/local/lib/python3.7/dist-packages (from python-dateutil>=2.7.3->pandas) (1.15.0)\n",
            "Mounted at /content/drive\n"
          ]
        }
      ],
      "source": [
        "!pip install --upgrade pandas\n",
        "import numpy as np\n",
        "import pandas as pd\n",
        "import matplotlib.pyplot as plt\n",
        "from pathlib import Path\n",
        "import requests\n",
        "from datetime import date\n",
        "from bs4 import BeautifulSoup\n",
        "# plt.style.use('fivethirtyeight')\n",
        "from google.colab import drive\n",
        "import math\n",
        "from sklearn.preprocessing import MinMaxScaler\n",
        "from keras.models import Sequential\n",
        "from keras.layers import Dense, LSTM\n",
        "import matplotlib.pyplot as plt\n",
        "from datetime import datetime\n",
        "from joblib import dump, load \n",
        "from pathlib import Path\n",
        "from sklearn.metrics import mean_squared_error\n",
        "import time\n",
        "import datetime\n",
        "from sklearn.preprocessing import StandardScaler\n",
        "import sklearn\n",
        "from sklearn.model_selection import train_test_split\n",
        "from sklearn.metrics import accuracy_score\n",
        "from sklearn.metrics import classification_report\n",
        "from sklearn.multiclass import OneVsRestClassifier\n",
        "drive.mount('/content/drive')\n",
        "\n",
        "import warnings\n",
        "warnings.simplefilter(\"ignore\")"
      ]
    },
    {
      "cell_type": "markdown",
      "metadata": {
        "id": "gjODt-p_SzLu"
      },
      "source": [
        "## Riceverò i dati attraverso il seguente url.\n",
        "\n"
      ]
    },
    {
      "cell_type": "code",
      "execution_count": 2,
      "metadata": {
        "colab": {
          "base_uri": "https://localhost:8080/"
        },
        "id": "NGDjBUPAnw5j",
        "outputId": "4c3f64c4-9631-4151-d8af-caf6e92652f2"
      },
      "outputs": [
        {
          "output_type": "stream",
          "name": "stdout",
          "text": [
            "200\n"
          ]
        }
      ],
      "source": [
        "OGGI=date.today()\n",
        "URL = \"https://www.football-data.co.uk/italym.php\"\n",
        "resp = requests.get(URL)\n",
        "print(resp.status_code)"
      ]
    },
    {
      "cell_type": "code",
      "source": [
        "import urllib\n",
        "import csv\n",
        "\n",
        "resp = requests.get(URL)\n",
        "# print(resp.status_code)\n",
        "\n",
        "# creazione di un oggetto \"soup\"\n",
        "data = BeautifulSoup(resp.content)\n",
        "# print(data)\n",
        "\n",
        "def Dataframe_RES(path):\n",
        "  try:\n",
        "    res = urllib.request.urlopen('https://www.football-data.co.uk/'+path)\n",
        "    df = pd.read_csv(res)\n",
        "    return df\n",
        "  except:\n",
        "    error.append('https://www.football-data.co.uk/'+path)\n",
        "    print(\"An exception occurred\")\n",
        "\n",
        "  \n",
        "error=[]\n",
        "SERIE_A=[]\n",
        "SERIE_B=[]\n",
        "for link in data.find_all('a'):\n",
        "  l=link.get('href')\n",
        "  if (str(l)[len(l)-4:]==\".csv\"):\n",
        "    path=str(link.get('href'))\n",
        "    print(path,path[len(path)-6:len(path)-4])\n",
        "    if (path[len(path)-6:len(path)-4]=='I1'):\n",
        "      SERIE_A.append(Dataframe_RES(path))\n",
        "      print('SERIE_A')\n",
        "    if (path[len(path)-6:len(path)-4]=='I2'):\n",
        "      SERIE_B.append(Dataframe_RES(path))\n",
        "      print('SERIE_B')\n",
        "\n",
        "print(len(error))\n",
        "for e in error:\n",
        "  res = urllib.request.urlopen(e)\n",
        "  df = pd.read_csv(res, encoding ='latin1', error_bad_lines=False)\n",
        "  if (e[len(e)-6:len(e)-4]=='I1'):\n",
        "      SERIE_A.append(df)\n",
        "      print('SERIE_A')\n",
        "  if (e[len(e)-6:len(e)-4]=='I2'):\n",
        "    SERIE_B.append(df)\n",
        "    print('SERIE_B')"
      ],
      "metadata": {
        "colab": {
          "base_uri": "https://localhost:8080/"
        },
        "id": "PX85PjuQBgD_",
        "outputId": "e8397f48-819e-46aa-98c6-b596edcd9b33"
      },
      "execution_count": 3,
      "outputs": [
        {
          "output_type": "stream",
          "name": "stdout",
          "text": [
            "mmz4281/2223/I1.csv I1\n",
            "SERIE_A\n",
            "mmz4281/2223/I2.csv I2\n",
            "SERIE_B\n",
            "mmz4281/2122/I1.csv I1\n",
            "SERIE_A\n",
            "mmz4281/2122/I2.csv I2\n",
            "SERIE_B\n",
            "mmz4281/2021/I1.csv I1\n",
            "SERIE_A\n",
            "mmz4281/2021/I2.csv I2\n",
            "SERIE_B\n",
            "mmz4281/1920/I1.csv I1\n",
            "SERIE_A\n",
            "mmz4281/1920/I2.csv I2\n",
            "SERIE_B\n",
            "mmz4281/1819/I1.csv I1\n",
            "SERIE_A\n",
            "mmz4281/1819/I2.csv I2\n",
            "An exception occurred\n",
            "SERIE_B\n",
            "mmz4281/1718/I1.csv I1\n",
            "SERIE_A\n",
            "mmz4281/1718/I2.csv I2\n",
            "SERIE_B\n",
            "mmz4281/1617/I1.csv I1\n",
            "SERIE_A\n",
            "mmz4281/1617/I2.csv I2\n",
            "SERIE_B\n",
            "mmz4281/1516/I1.csv I1\n",
            "SERIE_A\n",
            "mmz4281/1516/I2.csv I2\n",
            "SERIE_B\n",
            "mmz4281/1415/I1.csv I1\n",
            "SERIE_A\n",
            "mmz4281/1415/I2.csv I2\n",
            "SERIE_B\n",
            "mmz4281/1314/I1.csv I1\n",
            "SERIE_A\n",
            "mmz4281/1314/I2.csv I2\n",
            "SERIE_B\n",
            "mmz4281/1213/I1.csv I1\n",
            "SERIE_A\n",
            "mmz4281/1213/I2.csv I2\n",
            "SERIE_B\n",
            "mmz4281/1112/I1.csv I1\n",
            "SERIE_A\n",
            "mmz4281/1112/I2.csv I2\n",
            "SERIE_B\n",
            "mmz4281/1011/I1.csv I1\n",
            "SERIE_A\n",
            "mmz4281/1011/I2.csv I2\n",
            "SERIE_B\n",
            "mmz4281/0910/I1.csv I1\n",
            "SERIE_A\n",
            "mmz4281/0910/I2.csv I2\n",
            "SERIE_B\n",
            "mmz4281/0809/I1.csv I1\n",
            "SERIE_A\n",
            "mmz4281/0809/I2.csv I2\n",
            "SERIE_B\n",
            "mmz4281/0708/I1.csv I1\n",
            "SERIE_A\n",
            "mmz4281/0708/I2.csv I2\n",
            "SERIE_B\n",
            "mmz4281/0607/I1.csv I1\n",
            "SERIE_A\n",
            "mmz4281/0607/I2.csv I2\n",
            "SERIE_B\n",
            "mmz4281/0506/I1.csv I1\n",
            "SERIE_A\n",
            "mmz4281/0506/I2.csv I2\n",
            "SERIE_B\n",
            "mmz4281/0405/I1.csv I1\n",
            "An exception occurred\n",
            "SERIE_A\n",
            "mmz4281/0405/I2.csv I2\n",
            "An exception occurred\n",
            "SERIE_B\n",
            "mmz4281/0304/I1.csv I1\n",
            "An exception occurred\n",
            "SERIE_A\n",
            "mmz4281/0304/I2.csv I2\n",
            "An exception occurred\n",
            "SERIE_B\n",
            "mmz4281/0203/I1.csv I1\n",
            "SERIE_A\n",
            "mmz4281/0203/I2.csv I2\n",
            "An exception occurred\n",
            "SERIE_B\n",
            "mmz4281/0102/I1.csv I1\n",
            "SERIE_A\n",
            "mmz4281/0102/I2.csv I2\n",
            "An exception occurred\n",
            "SERIE_B\n",
            "mmz4281/0001/I1.csv I1\n",
            "SERIE_A\n",
            "mmz4281/0001/I2.csv I2\n",
            "SERIE_B\n",
            "mmz4281/9900/I1.csv I1\n",
            "SERIE_A\n",
            "mmz4281/9900/I2.csv I2\n",
            "SERIE_B\n",
            "mmz4281/9899/I1.csv I1\n",
            "SERIE_A\n",
            "mmz4281/9899/I2.csv I2\n",
            "SERIE_B\n",
            "mmz4281/9798/I1.csv I1\n",
            "SERIE_A\n",
            "mmz4281/9798/I2.csv I2\n",
            "SERIE_B\n",
            "mmz4281/9697/I1.csv I1\n",
            "SERIE_A\n",
            "mmz4281/9596/I1.csv I1\n",
            "SERIE_A\n",
            "mmz4281/9495/I1.csv I1\n",
            "SERIE_A\n",
            "mmz4281/9394/I1.csv I1\n",
            "SERIE_A\n",
            "7\n",
            "SERIE_B\n"
          ]
        },
        {
          "output_type": "stream",
          "name": "stderr",
          "text": [
            "b'Skipping line 177: expected 49 fields, saw 51\\nSkipping line 178: expected 49 fields, saw 51\\nSkipping line 179: expected 49 fields, saw 51\\nSkipping line 180: expected 49 fields, saw 51\\nSkipping line 181: expected 49 fields, saw 51\\nSkipping line 182: expected 49 fields, saw 51\\nSkipping line 183: expected 49 fields, saw 51\\nSkipping line 184: expected 49 fields, saw 51\\nSkipping line 185: expected 49 fields, saw 51\\nSkipping line 186: expected 49 fields, saw 51\\nSkipping line 187: expected 49 fields, saw 51\\nSkipping line 188: expected 49 fields, saw 51\\nSkipping line 189: expected 49 fields, saw 51\\nSkipping line 190: expected 49 fields, saw 51\\nSkipping line 191: expected 49 fields, saw 51\\nSkipping line 192: expected 49 fields, saw 51\\nSkipping line 193: expected 49 fields, saw 50\\nSkipping line 194: expected 49 fields, saw 50\\nSkipping line 195: expected 49 fields, saw 50\\nSkipping line 196: expected 49 fields, saw 50\\nSkipping line 197: expected 49 fields, saw 50\\nSkipping line 198: expected 49 fields, saw 50\\nSkipping line 199: expected 49 fields, saw 50\\nSkipping line 200: expected 49 fields, saw 50\\nSkipping line 201: expected 49 fields, saw 50\\nSkipping line 202: expected 49 fields, saw 50\\nSkipping line 203: expected 49 fields, saw 50\\nSkipping line 204: expected 49 fields, saw 50\\nSkipping line 205: expected 49 fields, saw 50\\nSkipping line 206: expected 49 fields, saw 50\\nSkipping line 207: expected 49 fields, saw 50\\nSkipping line 208: expected 49 fields, saw 50\\nSkipping line 225: expected 49 fields, saw 50\\nSkipping line 226: expected 49 fields, saw 50\\nSkipping line 227: expected 49 fields, saw 50\\nSkipping line 228: expected 49 fields, saw 50\\nSkipping line 229: expected 49 fields, saw 50\\nSkipping line 230: expected 49 fields, saw 50\\nSkipping line 231: expected 49 fields, saw 50\\nSkipping line 232: expected 49 fields, saw 50\\nSkipping line 233: expected 49 fields, saw 50\\nSkipping line 234: expected 49 fields, saw 50\\nSkipping line 235: expected 49 fields, saw 50\\nSkipping line 236: expected 49 fields, saw 50\\nSkipping line 237: expected 49 fields, saw 50\\nSkipping line 238: expected 49 fields, saw 50\\nSkipping line 239: expected 49 fields, saw 50\\nSkipping line 240: expected 49 fields, saw 50\\nSkipping line 241: expected 49 fields, saw 50\\nSkipping line 242: expected 49 fields, saw 50\\nSkipping line 243: expected 49 fields, saw 50\\nSkipping line 244: expected 49 fields, saw 50\\nSkipping line 245: expected 49 fields, saw 50\\nSkipping line 246: expected 49 fields, saw 50\\nSkipping line 247: expected 49 fields, saw 50\\nSkipping line 248: expected 49 fields, saw 50\\nSkipping line 249: expected 49 fields, saw 50\\nSkipping line 250: expected 49 fields, saw 50\\nSkipping line 251: expected 49 fields, saw 50\\nSkipping line 252: expected 49 fields, saw 50\\nSkipping line 253: expected 49 fields, saw 50\\nSkipping line 254: expected 49 fields, saw 50\\nSkipping line 255: expected 49 fields, saw 50\\nSkipping line 256: expected 49 fields, saw 50\\nSkipping line 289: expected 49 fields, saw 50\\nSkipping line 290: expected 49 fields, saw 50\\nSkipping line 291: expected 49 fields, saw 50\\nSkipping line 292: expected 49 fields, saw 50\\nSkipping line 293: expected 49 fields, saw 50\\nSkipping line 294: expected 49 fields, saw 50\\nSkipping line 295: expected 49 fields, saw 50\\nSkipping line 296: expected 49 fields, saw 50\\nSkipping line 297: expected 49 fields, saw 50\\nSkipping line 298: expected 49 fields, saw 50\\nSkipping line 299: expected 49 fields, saw 50\\nSkipping line 300: expected 49 fields, saw 50\\nSkipping line 301: expected 49 fields, saw 50\\nSkipping line 302: expected 49 fields, saw 50\\nSkipping line 303: expected 49 fields, saw 50\\nSkipping line 304: expected 49 fields, saw 50\\n'\n"
          ]
        },
        {
          "output_type": "stream",
          "name": "stdout",
          "text": [
            "SERIE_A\n"
          ]
        },
        {
          "output_type": "stream",
          "name": "stderr",
          "text": [
            "b'Skipping line 17: expected 46 fields, saw 47\\nSkipping line 18: expected 46 fields, saw 47\\nSkipping line 19: expected 46 fields, saw 47\\nSkipping line 20: expected 46 fields, saw 47\\nSkipping line 21: expected 46 fields, saw 47\\nSkipping line 22: expected 46 fields, saw 47\\nSkipping line 23: expected 46 fields, saw 47\\nSkipping line 24: expected 46 fields, saw 47\\nSkipping line 25: expected 46 fields, saw 47\\nSkipping line 26: expected 46 fields, saw 47\\nSkipping line 27: expected 46 fields, saw 47\\nSkipping line 28: expected 46 fields, saw 47\\nSkipping line 29: expected 46 fields, saw 47\\nSkipping line 30: expected 46 fields, saw 47\\nSkipping line 31: expected 46 fields, saw 47\\nSkipping line 32: expected 46 fields, saw 47\\nSkipping line 33: expected 46 fields, saw 47\\nSkipping line 34: expected 46 fields, saw 47\\nSkipping line 35: expected 46 fields, saw 47\\nSkipping line 36: expected 46 fields, saw 47\\nSkipping line 37: expected 46 fields, saw 47\\nSkipping line 38: expected 46 fields, saw 47\\nSkipping line 39: expected 46 fields, saw 47\\nSkipping line 40: expected 46 fields, saw 47\\nSkipping line 41: expected 46 fields, saw 47\\nSkipping line 42: expected 46 fields, saw 47\\nSkipping line 43: expected 46 fields, saw 47\\nSkipping line 44: expected 46 fields, saw 47\\nSkipping line 45: expected 46 fields, saw 47\\nSkipping line 46: expected 46 fields, saw 47\\nSkipping line 47: expected 46 fields, saw 47\\nSkipping line 48: expected 46 fields, saw 47\\nSkipping line 49: expected 46 fields, saw 47\\nSkipping line 50: expected 46 fields, saw 47\\nSkipping line 51: expected 46 fields, saw 47\\nSkipping line 52: expected 46 fields, saw 47\\nSkipping line 53: expected 46 fields, saw 47\\nSkipping line 54: expected 46 fields, saw 47\\nSkipping line 55: expected 46 fields, saw 47\\nSkipping line 56: expected 46 fields, saw 47\\nSkipping line 57: expected 46 fields, saw 47\\nSkipping line 58: expected 46 fields, saw 47\\nSkipping line 59: expected 46 fields, saw 47\\nSkipping line 60: expected 46 fields, saw 47\\nSkipping line 61: expected 46 fields, saw 47\\nSkipping line 62: expected 46 fields, saw 47\\nSkipping line 63: expected 46 fields, saw 47\\nSkipping line 64: expected 46 fields, saw 47\\nSkipping line 65: expected 46 fields, saw 47\\nSkipping line 66: expected 46 fields, saw 47\\nSkipping line 67: expected 46 fields, saw 47\\nSkipping line 68: expected 46 fields, saw 47\\nSkipping line 69: expected 46 fields, saw 47\\nSkipping line 70: expected 46 fields, saw 47\\nSkipping line 71: expected 46 fields, saw 47\\nSkipping line 72: expected 46 fields, saw 47\\nSkipping line 73: expected 46 fields, saw 47\\nSkipping line 74: expected 46 fields, saw 47\\nSkipping line 75: expected 46 fields, saw 47\\nSkipping line 76: expected 46 fields, saw 47\\nSkipping line 77: expected 46 fields, saw 47\\nSkipping line 78: expected 46 fields, saw 47\\nSkipping line 79: expected 46 fields, saw 47\\nSkipping line 80: expected 46 fields, saw 47\\nSkipping line 81: expected 46 fields, saw 47\\nSkipping line 82: expected 46 fields, saw 47\\nSkipping line 83: expected 46 fields, saw 47\\nSkipping line 84: expected 46 fields, saw 47\\nSkipping line 85: expected 46 fields, saw 47\\nSkipping line 86: expected 46 fields, saw 47\\nSkipping line 87: expected 46 fields, saw 47\\nSkipping line 88: expected 46 fields, saw 47\\nSkipping line 89: expected 46 fields, saw 47\\nSkipping line 90: expected 46 fields, saw 47\\nSkipping line 91: expected 46 fields, saw 47\\nSkipping line 92: expected 46 fields, saw 47\\nSkipping line 93: expected 46 fields, saw 47\\nSkipping line 94: expected 46 fields, saw 47\\nSkipping line 95: expected 46 fields, saw 47\\nSkipping line 96: expected 46 fields, saw 47\\nSkipping line 97: expected 46 fields, saw 47\\nSkipping line 98: expected 46 fields, saw 47\\nSkipping line 99: expected 46 fields, saw 47\\nSkipping line 100: expected 46 fields, saw 47\\nSkipping line 101: expected 46 fields, saw 47\\nSkipping line 102: expected 46 fields, saw 47\\nSkipping line 103: expected 46 fields, saw 47\\nSkipping line 104: expected 46 fields, saw 47\\nSkipping line 105: expected 46 fields, saw 47\\nSkipping line 106: expected 46 fields, saw 47\\nSkipping line 107: expected 46 fields, saw 47\\nSkipping line 108: expected 46 fields, saw 47\\nSkipping line 109: expected 46 fields, saw 47\\nSkipping line 110: expected 46 fields, saw 47\\nSkipping line 111: expected 46 fields, saw 47\\nSkipping line 112: expected 46 fields, saw 47\\nSkipping line 113: expected 46 fields, saw 47\\nSkipping line 114: expected 46 fields, saw 47\\nSkipping line 115: expected 46 fields, saw 47\\nSkipping line 116: expected 46 fields, saw 47\\nSkipping line 117: expected 46 fields, saw 47\\nSkipping line 118: expected 46 fields, saw 47\\nSkipping line 119: expected 46 fields, saw 47\\nSkipping line 120: expected 46 fields, saw 47\\nSkipping line 121: expected 46 fields, saw 47\\nSkipping line 122: expected 46 fields, saw 47\\nSkipping line 123: expected 46 fields, saw 47\\nSkipping line 124: expected 46 fields, saw 47\\nSkipping line 125: expected 46 fields, saw 47\\nSkipping line 126: expected 46 fields, saw 47\\nSkipping line 127: expected 46 fields, saw 47\\nSkipping line 128: expected 46 fields, saw 47\\nSkipping line 129: expected 46 fields, saw 47\\nSkipping line 130: expected 46 fields, saw 47\\nSkipping line 131: expected 46 fields, saw 47\\nSkipping line 132: expected 46 fields, saw 47\\nSkipping line 133: expected 46 fields, saw 47\\nSkipping line 134: expected 46 fields, saw 47\\nSkipping line 135: expected 46 fields, saw 47\\nSkipping line 136: expected 46 fields, saw 47\\nSkipping line 137: expected 46 fields, saw 47\\nSkipping line 138: expected 46 fields, saw 47\\nSkipping line 139: expected 46 fields, saw 47\\nSkipping line 140: expected 46 fields, saw 47\\nSkipping line 141: expected 46 fields, saw 47\\nSkipping line 142: expected 46 fields, saw 47\\nSkipping line 143: expected 46 fields, saw 47\\nSkipping line 144: expected 46 fields, saw 47\\nSkipping line 145: expected 46 fields, saw 48\\nSkipping line 146: expected 46 fields, saw 48\\nSkipping line 147: expected 46 fields, saw 48\\nSkipping line 148: expected 46 fields, saw 48\\nSkipping line 149: expected 46 fields, saw 48\\nSkipping line 150: expected 46 fields, saw 48\\nSkipping line 151: expected 46 fields, saw 48\\nSkipping line 152: expected 46 fields, saw 48\\nSkipping line 153: expected 46 fields, saw 48\\nSkipping line 154: expected 46 fields, saw 48\\nSkipping line 155: expected 46 fields, saw 48\\nSkipping line 156: expected 46 fields, saw 48\\nSkipping line 157: expected 46 fields, saw 48\\nSkipping line 158: expected 46 fields, saw 48\\nSkipping line 159: expected 46 fields, saw 48\\nSkipping line 160: expected 46 fields, saw 48\\nSkipping line 161: expected 46 fields, saw 47\\nSkipping line 162: expected 46 fields, saw 47\\nSkipping line 163: expected 46 fields, saw 47\\nSkipping line 164: expected 46 fields, saw 47\\nSkipping line 165: expected 46 fields, saw 47\\nSkipping line 166: expected 46 fields, saw 47\\nSkipping line 167: expected 46 fields, saw 47\\nSkipping line 168: expected 46 fields, saw 47\\nSkipping line 169: expected 46 fields, saw 47\\nSkipping line 170: expected 46 fields, saw 47\\nSkipping line 171: expected 46 fields, saw 47\\nSkipping line 172: expected 46 fields, saw 47\\nSkipping line 173: expected 46 fields, saw 47\\nSkipping line 174: expected 46 fields, saw 47\\nSkipping line 175: expected 46 fields, saw 47\\nSkipping line 176: expected 46 fields, saw 47\\nSkipping line 177: expected 46 fields, saw 47\\nSkipping line 178: expected 46 fields, saw 47\\nSkipping line 179: expected 46 fields, saw 47\\nSkipping line 180: expected 46 fields, saw 47\\nSkipping line 181: expected 46 fields, saw 47\\nSkipping line 182: expected 46 fields, saw 47\\nSkipping line 183: expected 46 fields, saw 47\\nSkipping line 184: expected 46 fields, saw 47\\nSkipping line 185: expected 46 fields, saw 47\\nSkipping line 186: expected 46 fields, saw 47\\nSkipping line 187: expected 46 fields, saw 47\\nSkipping line 188: expected 46 fields, saw 47\\nSkipping line 189: expected 46 fields, saw 47\\nSkipping line 190: expected 46 fields, saw 47\\nSkipping line 191: expected 46 fields, saw 47\\nSkipping line 192: expected 46 fields, saw 47\\nSkipping line 209: expected 46 fields, saw 47\\nSkipping line 210: expected 46 fields, saw 47\\nSkipping line 211: expected 46 fields, saw 47\\nSkipping line 212: expected 46 fields, saw 47\\nSkipping line 213: expected 46 fields, saw 47\\nSkipping line 214: expected 46 fields, saw 47\\nSkipping line 215: expected 46 fields, saw 47\\nSkipping line 216: expected 46 fields, saw 47\\nSkipping line 217: expected 46 fields, saw 47\\nSkipping line 218: expected 46 fields, saw 47\\nSkipping line 219: expected 46 fields, saw 47\\nSkipping line 220: expected 46 fields, saw 47\\nSkipping line 221: expected 46 fields, saw 47\\nSkipping line 222: expected 46 fields, saw 47\\nSkipping line 223: expected 46 fields, saw 47\\nSkipping line 224: expected 46 fields, saw 47\\nSkipping line 225: expected 46 fields, saw 47\\nSkipping line 226: expected 46 fields, saw 47\\nSkipping line 227: expected 46 fields, saw 47\\nSkipping line 228: expected 46 fields, saw 47\\nSkipping line 229: expected 46 fields, saw 47\\nSkipping line 230: expected 46 fields, saw 47\\nSkipping line 231: expected 46 fields, saw 47\\nSkipping line 232: expected 46 fields, saw 47\\nSkipping line 233: expected 46 fields, saw 47\\nSkipping line 234: expected 46 fields, saw 47\\nSkipping line 235: expected 46 fields, saw 47\\nSkipping line 236: expected 46 fields, saw 47\\nSkipping line 237: expected 46 fields, saw 47\\nSkipping line 238: expected 46 fields, saw 47\\nSkipping line 239: expected 46 fields, saw 47\\nSkipping line 240: expected 46 fields, saw 47\\nSkipping line 241: expected 46 fields, saw 48\\nSkipping line 242: expected 46 fields, saw 48\\nSkipping line 243: expected 46 fields, saw 48\\nSkipping line 244: expected 46 fields, saw 48\\nSkipping line 245: expected 46 fields, saw 48\\nSkipping line 246: expected 46 fields, saw 48\\nSkipping line 247: expected 46 fields, saw 48\\nSkipping line 248: expected 46 fields, saw 48\\nSkipping line 249: expected 46 fields, saw 48\\nSkipping line 250: expected 46 fields, saw 48\\nSkipping line 251: expected 46 fields, saw 48\\nSkipping line 252: expected 46 fields, saw 48\\nSkipping line 253: expected 46 fields, saw 48\\nSkipping line 254: expected 46 fields, saw 48\\nSkipping line 255: expected 46 fields, saw 48\\nSkipping line 256: expected 46 fields, saw 48\\nSkipping line 257: expected 46 fields, saw 51\\nSkipping line 258: expected 46 fields, saw 51\\nSkipping line 259: expected 46 fields, saw 51\\nSkipping line 260: expected 46 fields, saw 51\\nSkipping line 261: expected 46 fields, saw 51\\nSkipping line 262: expected 46 fields, saw 51\\nSkipping line 263: expected 46 fields, saw 51\\nSkipping line 264: expected 46 fields, saw 51\\nSkipping line 265: expected 46 fields, saw 51\\nSkipping line 266: expected 46 fields, saw 51\\nSkipping line 267: expected 46 fields, saw 51\\nSkipping line 268: expected 46 fields, saw 51\\nSkipping line 269: expected 46 fields, saw 51\\nSkipping line 270: expected 46 fields, saw 51\\nSkipping line 271: expected 46 fields, saw 51\\nSkipping line 272: expected 46 fields, saw 51\\nSkipping line 273: expected 46 fields, saw 48\\nSkipping line 274: expected 46 fields, saw 48\\nSkipping line 275: expected 46 fields, saw 48\\nSkipping line 276: expected 46 fields, saw 48\\nSkipping line 277: expected 46 fields, saw 48\\nSkipping line 278: expected 46 fields, saw 48\\nSkipping line 279: expected 46 fields, saw 48\\nSkipping line 280: expected 46 fields, saw 48\\nSkipping line 281: expected 46 fields, saw 48\\nSkipping line 282: expected 46 fields, saw 48\\nSkipping line 283: expected 46 fields, saw 48\\nSkipping line 284: expected 46 fields, saw 48\\nSkipping line 285: expected 46 fields, saw 48\\nSkipping line 286: expected 46 fields, saw 48\\nSkipping line 287: expected 46 fields, saw 48\\nSkipping line 288: expected 46 fields, saw 48\\nSkipping line 321: expected 46 fields, saw 48\\nSkipping line 322: expected 46 fields, saw 48\\nSkipping line 323: expected 46 fields, saw 48\\nSkipping line 324: expected 46 fields, saw 48\\nSkipping line 325: expected 46 fields, saw 48\\nSkipping line 326: expected 46 fields, saw 48\\nSkipping line 327: expected 46 fields, saw 48\\nSkipping line 328: expected 46 fields, saw 48\\nSkipping line 329: expected 46 fields, saw 48\\nSkipping line 330: expected 46 fields, saw 48\\nSkipping line 331: expected 46 fields, saw 48\\nSkipping line 332: expected 46 fields, saw 48\\nSkipping line 333: expected 46 fields, saw 48\\nSkipping line 334: expected 46 fields, saw 48\\nSkipping line 335: expected 46 fields, saw 48\\nSkipping line 336: expected 46 fields, saw 48\\nSkipping line 337: expected 46 fields, saw 48\\nSkipping line 338: expected 46 fields, saw 48\\nSkipping line 339: expected 46 fields, saw 48\\nSkipping line 340: expected 46 fields, saw 48\\nSkipping line 341: expected 46 fields, saw 48\\nSkipping line 342: expected 46 fields, saw 48\\nSkipping line 343: expected 46 fields, saw 48\\nSkipping line 344: expected 46 fields, saw 48\\nSkipping line 345: expected 46 fields, saw 48\\nSkipping line 346: expected 46 fields, saw 48\\nSkipping line 347: expected 46 fields, saw 48\\nSkipping line 348: expected 46 fields, saw 48\\nSkipping line 349: expected 46 fields, saw 48\\nSkipping line 350: expected 46 fields, saw 48\\nSkipping line 351: expected 46 fields, saw 48\\nSkipping line 352: expected 46 fields, saw 48\\nSkipping line 353: expected 46 fields, saw 49\\nSkipping line 354: expected 46 fields, saw 49\\nSkipping line 355: expected 46 fields, saw 49\\nSkipping line 356: expected 46 fields, saw 49\\nSkipping line 357: expected 46 fields, saw 49\\nSkipping line 358: expected 46 fields, saw 49\\nSkipping line 359: expected 46 fields, saw 49\\nSkipping line 360: expected 46 fields, saw 49\\nSkipping line 361: expected 46 fields, saw 49\\nSkipping line 362: expected 46 fields, saw 49\\nSkipping line 363: expected 46 fields, saw 49\\nSkipping line 364: expected 46 fields, saw 49\\nSkipping line 365: expected 46 fields, saw 49\\nSkipping line 366: expected 46 fields, saw 49\\nSkipping line 367: expected 46 fields, saw 49\\nSkipping line 368: expected 46 fields, saw 49\\nSkipping line 369: expected 46 fields, saw 49\\nSkipping line 370: expected 46 fields, saw 49\\nSkipping line 371: expected 46 fields, saw 49\\nSkipping line 372: expected 46 fields, saw 49\\nSkipping line 373: expected 46 fields, saw 49\\nSkipping line 374: expected 46 fields, saw 49\\nSkipping line 375: expected 46 fields, saw 49\\nSkipping line 376: expected 46 fields, saw 49\\nSkipping line 377: expected 46 fields, saw 49\\nSkipping line 378: expected 46 fields, saw 49\\nSkipping line 379: expected 46 fields, saw 49\\nSkipping line 380: expected 46 fields, saw 49\\nSkipping line 381: expected 46 fields, saw 49\\nSkipping line 382: expected 46 fields, saw 49\\nSkipping line 383: expected 46 fields, saw 49\\nSkipping line 384: expected 46 fields, saw 49\\nSkipping line 385: expected 46 fields, saw 47\\nSkipping line 386: expected 46 fields, saw 47\\nSkipping line 387: expected 46 fields, saw 47\\nSkipping line 388: expected 46 fields, saw 47\\nSkipping line 389: expected 46 fields, saw 47\\nSkipping line 390: expected 46 fields, saw 47\\nSkipping line 391: expected 46 fields, saw 47\\nSkipping line 392: expected 46 fields, saw 47\\nSkipping line 393: expected 46 fields, saw 47\\nSkipping line 394: expected 46 fields, saw 47\\nSkipping line 395: expected 46 fields, saw 47\\nSkipping line 396: expected 46 fields, saw 47\\nSkipping line 397: expected 46 fields, saw 47\\nSkipping line 398: expected 46 fields, saw 47\\nSkipping line 399: expected 46 fields, saw 47\\nSkipping line 400: expected 46 fields, saw 47\\nSkipping line 401: expected 46 fields, saw 47\\nSkipping line 402: expected 46 fields, saw 47\\nSkipping line 403: expected 46 fields, saw 47\\nSkipping line 404: expected 46 fields, saw 47\\nSkipping line 405: expected 46 fields, saw 47\\nSkipping line 406: expected 46 fields, saw 47\\nSkipping line 407: expected 46 fields, saw 47\\nSkipping line 408: expected 46 fields, saw 47\\nSkipping line 409: expected 46 fields, saw 47\\nSkipping line 410: expected 46 fields, saw 47\\nSkipping line 411: expected 46 fields, saw 47\\nSkipping line 412: expected 46 fields, saw 47\\nSkipping line 413: expected 46 fields, saw 47\\nSkipping line 414: expected 46 fields, saw 47\\nSkipping line 415: expected 46 fields, saw 47\\nSkipping line 416: expected 46 fields, saw 47\\nSkipping line 417: expected 46 fields, saw 47\\nSkipping line 418: expected 46 fields, saw 47\\nSkipping line 419: expected 46 fields, saw 47\\nSkipping line 420: expected 46 fields, saw 47\\nSkipping line 421: expected 46 fields, saw 47\\nSkipping line 422: expected 46 fields, saw 47\\nSkipping line 423: expected 46 fields, saw 47\\nSkipping line 424: expected 46 fields, saw 47\\nSkipping line 425: expected 46 fields, saw 47\\nSkipping line 426: expected 46 fields, saw 47\\nSkipping line 427: expected 46 fields, saw 47\\nSkipping line 428: expected 46 fields, saw 47\\nSkipping line 429: expected 46 fields, saw 47\\nSkipping line 430: expected 46 fields, saw 47\\nSkipping line 431: expected 46 fields, saw 47\\nSkipping line 432: expected 46 fields, saw 47\\n'\n"
          ]
        },
        {
          "output_type": "stream",
          "name": "stdout",
          "text": [
            "SERIE_B\n"
          ]
        },
        {
          "output_type": "stream",
          "name": "stderr",
          "text": [
            "b'Skipping line 49: expected 45 fields, saw 46\\nSkipping line 50: expected 45 fields, saw 46\\nSkipping line 51: expected 45 fields, saw 46\\nSkipping line 52: expected 45 fields, saw 46\\nSkipping line 53: expected 45 fields, saw 46\\nSkipping line 54: expected 45 fields, saw 46\\nSkipping line 55: expected 45 fields, saw 46\\nSkipping line 56: expected 45 fields, saw 46\\nSkipping line 57: expected 45 fields, saw 46\\nSkipping line 58: expected 45 fields, saw 46\\nSkipping line 59: expected 45 fields, saw 46\\nSkipping line 60: expected 45 fields, saw 46\\nSkipping line 61: expected 45 fields, saw 46\\nSkipping line 62: expected 45 fields, saw 46\\nSkipping line 63: expected 45 fields, saw 46\\nSkipping line 64: expected 45 fields, saw 46\\nSkipping line 81: expected 45 fields, saw 49\\nSkipping line 82: expected 45 fields, saw 49\\nSkipping line 83: expected 45 fields, saw 49\\nSkipping line 84: expected 45 fields, saw 49\\nSkipping line 85: expected 45 fields, saw 49\\nSkipping line 86: expected 45 fields, saw 49\\nSkipping line 87: expected 45 fields, saw 49\\nSkipping line 88: expected 45 fields, saw 49\\nSkipping line 89: expected 45 fields, saw 49\\nSkipping line 90: expected 45 fields, saw 49\\nSkipping line 91: expected 45 fields, saw 49\\nSkipping line 92: expected 45 fields, saw 49\\nSkipping line 93: expected 45 fields, saw 49\\nSkipping line 94: expected 45 fields, saw 49\\nSkipping line 95: expected 45 fields, saw 49\\nSkipping line 96: expected 45 fields, saw 49\\nSkipping line 97: expected 45 fields, saw 49\\nSkipping line 98: expected 45 fields, saw 49\\nSkipping line 99: expected 45 fields, saw 49\\nSkipping line 100: expected 45 fields, saw 49\\nSkipping line 101: expected 45 fields, saw 49\\nSkipping line 102: expected 45 fields, saw 49\\nSkipping line 103: expected 45 fields, saw 49\\nSkipping line 104: expected 45 fields, saw 49\\nSkipping line 105: expected 45 fields, saw 49\\nSkipping line 106: expected 45 fields, saw 49\\nSkipping line 107: expected 45 fields, saw 49\\nSkipping line 108: expected 45 fields, saw 49\\nSkipping line 109: expected 45 fields, saw 49\\nSkipping line 110: expected 45 fields, saw 49\\nSkipping line 111: expected 45 fields, saw 49\\nSkipping line 112: expected 45 fields, saw 49\\nSkipping line 113: expected 45 fields, saw 51\\nSkipping line 114: expected 45 fields, saw 51\\nSkipping line 115: expected 45 fields, saw 51\\nSkipping line 116: expected 45 fields, saw 51\\nSkipping line 117: expected 45 fields, saw 51\\nSkipping line 118: expected 45 fields, saw 51\\nSkipping line 119: expected 45 fields, saw 51\\nSkipping line 120: expected 45 fields, saw 51\\nSkipping line 121: expected 45 fields, saw 51\\nSkipping line 122: expected 45 fields, saw 51\\nSkipping line 123: expected 45 fields, saw 51\\nSkipping line 124: expected 45 fields, saw 51\\nSkipping line 125: expected 45 fields, saw 51\\nSkipping line 126: expected 45 fields, saw 51\\nSkipping line 127: expected 45 fields, saw 51\\nSkipping line 128: expected 45 fields, saw 51\\nSkipping line 161: expected 45 fields, saw 46\\nSkipping line 162: expected 45 fields, saw 46\\nSkipping line 163: expected 45 fields, saw 46\\nSkipping line 164: expected 45 fields, saw 46\\nSkipping line 165: expected 45 fields, saw 46\\nSkipping line 166: expected 45 fields, saw 46\\nSkipping line 167: expected 45 fields, saw 46\\nSkipping line 168: expected 45 fields, saw 46\\nSkipping line 169: expected 45 fields, saw 46\\nSkipping line 170: expected 45 fields, saw 46\\nSkipping line 171: expected 45 fields, saw 46\\nSkipping line 172: expected 45 fields, saw 46\\nSkipping line 173: expected 45 fields, saw 46\\nSkipping line 174: expected 45 fields, saw 46\\nSkipping line 175: expected 45 fields, saw 46\\nSkipping line 176: expected 45 fields, saw 46\\nSkipping line 177: expected 45 fields, saw 50\\nSkipping line 178: expected 45 fields, saw 50\\nSkipping line 179: expected 45 fields, saw 50\\nSkipping line 180: expected 45 fields, saw 50\\nSkipping line 181: expected 45 fields, saw 50\\nSkipping line 182: expected 45 fields, saw 50\\nSkipping line 183: expected 45 fields, saw 50\\nSkipping line 184: expected 45 fields, saw 50\\nSkipping line 185: expected 45 fields, saw 50\\nSkipping line 186: expected 45 fields, saw 50\\nSkipping line 187: expected 45 fields, saw 50\\nSkipping line 188: expected 45 fields, saw 50\\nSkipping line 189: expected 45 fields, saw 50\\nSkipping line 190: expected 45 fields, saw 50\\nSkipping line 191: expected 45 fields, saw 50\\nSkipping line 192: expected 45 fields, saw 50\\nSkipping line 193: expected 45 fields, saw 50\\nSkipping line 194: expected 45 fields, saw 50\\nSkipping line 195: expected 45 fields, saw 50\\nSkipping line 196: expected 45 fields, saw 50\\nSkipping line 197: expected 45 fields, saw 50\\nSkipping line 198: expected 45 fields, saw 50\\nSkipping line 199: expected 45 fields, saw 50\\nSkipping line 200: expected 45 fields, saw 50\\nSkipping line 201: expected 45 fields, saw 50\\nSkipping line 202: expected 45 fields, saw 50\\nSkipping line 203: expected 45 fields, saw 50\\nSkipping line 204: expected 45 fields, saw 50\\nSkipping line 205: expected 45 fields, saw 50\\nSkipping line 206: expected 45 fields, saw 50\\nSkipping line 207: expected 45 fields, saw 50\\nSkipping line 208: expected 45 fields, saw 50\\n'\n"
          ]
        },
        {
          "output_type": "stream",
          "name": "stdout",
          "text": [
            "SERIE_A\n"
          ]
        },
        {
          "output_type": "stream",
          "name": "stderr",
          "text": [
            "b'Skipping line 81: expected 42 fields, saw 49\\nSkipping line 82: expected 42 fields, saw 49\\nSkipping line 83: expected 42 fields, saw 49\\nSkipping line 84: expected 42 fields, saw 49\\nSkipping line 85: expected 42 fields, saw 49\\nSkipping line 86: expected 42 fields, saw 49\\nSkipping line 87: expected 42 fields, saw 49\\nSkipping line 88: expected 42 fields, saw 49\\nSkipping line 89: expected 42 fields, saw 49\\nSkipping line 90: expected 42 fields, saw 49\\nSkipping line 91: expected 42 fields, saw 49\\nSkipping line 92: expected 42 fields, saw 49\\nSkipping line 93: expected 42 fields, saw 49\\nSkipping line 94: expected 42 fields, saw 49\\nSkipping line 95: expected 42 fields, saw 49\\nSkipping line 96: expected 42 fields, saw 49\\nSkipping line 97: expected 42 fields, saw 53\\nSkipping line 98: expected 42 fields, saw 53\\nSkipping line 99: expected 42 fields, saw 53\\nSkipping line 100: expected 42 fields, saw 53\\nSkipping line 101: expected 42 fields, saw 53\\nSkipping line 102: expected 42 fields, saw 53\\nSkipping line 103: expected 42 fields, saw 53\\nSkipping line 104: expected 42 fields, saw 53\\nSkipping line 105: expected 42 fields, saw 53\\nSkipping line 106: expected 42 fields, saw 53\\nSkipping line 107: expected 42 fields, saw 53\\nSkipping line 108: expected 42 fields, saw 53\\nSkipping line 109: expected 42 fields, saw 53\\nSkipping line 110: expected 42 fields, saw 53\\nSkipping line 111: expected 42 fields, saw 53\\nSkipping line 112: expected 42 fields, saw 53\\nSkipping line 113: expected 42 fields, saw 43\\nSkipping line 114: expected 42 fields, saw 43\\nSkipping line 115: expected 42 fields, saw 43\\nSkipping line 116: expected 42 fields, saw 43\\nSkipping line 117: expected 42 fields, saw 43\\nSkipping line 118: expected 42 fields, saw 43\\nSkipping line 119: expected 42 fields, saw 43\\nSkipping line 120: expected 42 fields, saw 43\\nSkipping line 121: expected 42 fields, saw 43\\nSkipping line 122: expected 42 fields, saw 43\\nSkipping line 123: expected 42 fields, saw 43\\nSkipping line 124: expected 42 fields, saw 43\\nSkipping line 125: expected 42 fields, saw 43\\nSkipping line 126: expected 42 fields, saw 43\\nSkipping line 127: expected 42 fields, saw 43\\nSkipping line 128: expected 42 fields, saw 43\\nSkipping line 129: expected 42 fields, saw 43\\nSkipping line 130: expected 42 fields, saw 43\\nSkipping line 131: expected 42 fields, saw 43\\nSkipping line 132: expected 42 fields, saw 43\\nSkipping line 133: expected 42 fields, saw 43\\nSkipping line 134: expected 42 fields, saw 43\\nSkipping line 135: expected 42 fields, saw 43\\nSkipping line 136: expected 42 fields, saw 43\\nSkipping line 137: expected 42 fields, saw 43\\nSkipping line 138: expected 42 fields, saw 43\\nSkipping line 139: expected 42 fields, saw 43\\nSkipping line 140: expected 42 fields, saw 43\\nSkipping line 141: expected 42 fields, saw 43\\nSkipping line 142: expected 42 fields, saw 43\\nSkipping line 143: expected 42 fields, saw 43\\nSkipping line 144: expected 42 fields, saw 43\\nSkipping line 177: expected 42 fields, saw 43\\nSkipping line 178: expected 42 fields, saw 43\\nSkipping line 179: expected 42 fields, saw 43\\nSkipping line 180: expected 42 fields, saw 43\\nSkipping line 181: expected 42 fields, saw 43\\nSkipping line 182: expected 42 fields, saw 43\\nSkipping line 183: expected 42 fields, saw 43\\nSkipping line 184: expected 42 fields, saw 43\\nSkipping line 185: expected 42 fields, saw 43\\nSkipping line 186: expected 42 fields, saw 43\\nSkipping line 187: expected 42 fields, saw 43\\nSkipping line 188: expected 42 fields, saw 43\\nSkipping line 189: expected 42 fields, saw 43\\nSkipping line 190: expected 42 fields, saw 43\\nSkipping line 191: expected 42 fields, saw 43\\nSkipping line 192: expected 42 fields, saw 43\\nSkipping line 193: expected 42 fields, saw 44\\nSkipping line 194: expected 42 fields, saw 44\\nSkipping line 195: expected 42 fields, saw 44\\nSkipping line 196: expected 42 fields, saw 44\\nSkipping line 197: expected 42 fields, saw 44\\nSkipping line 198: expected 42 fields, saw 44\\nSkipping line 199: expected 42 fields, saw 44\\nSkipping line 200: expected 42 fields, saw 44\\nSkipping line 201: expected 42 fields, saw 44\\nSkipping line 202: expected 42 fields, saw 44\\nSkipping line 203: expected 42 fields, saw 44\\nSkipping line 204: expected 42 fields, saw 44\\nSkipping line 205: expected 42 fields, saw 44\\nSkipping line 206: expected 42 fields, saw 44\\nSkipping line 207: expected 42 fields, saw 44\\nSkipping line 208: expected 42 fields, saw 44\\nSkipping line 225: expected 42 fields, saw 48\\nSkipping line 226: expected 42 fields, saw 48\\nSkipping line 227: expected 42 fields, saw 48\\nSkipping line 228: expected 42 fields, saw 48\\nSkipping line 229: expected 42 fields, saw 48\\nSkipping line 230: expected 42 fields, saw 48\\nSkipping line 231: expected 42 fields, saw 48\\nSkipping line 232: expected 42 fields, saw 48\\nSkipping line 233: expected 42 fields, saw 48\\nSkipping line 234: expected 42 fields, saw 48\\nSkipping line 235: expected 42 fields, saw 48\\nSkipping line 236: expected 42 fields, saw 48\\nSkipping line 237: expected 42 fields, saw 48\\nSkipping line 238: expected 42 fields, saw 48\\nSkipping line 239: expected 42 fields, saw 48\\nSkipping line 240: expected 42 fields, saw 48\\nSkipping line 241: expected 42 fields, saw 48\\nSkipping line 242: expected 42 fields, saw 48\\nSkipping line 243: expected 42 fields, saw 48\\nSkipping line 244: expected 42 fields, saw 48\\nSkipping line 245: expected 42 fields, saw 48\\nSkipping line 246: expected 42 fields, saw 48\\nSkipping line 247: expected 42 fields, saw 48\\nSkipping line 248: expected 42 fields, saw 48\\nSkipping line 249: expected 42 fields, saw 48\\nSkipping line 250: expected 42 fields, saw 48\\nSkipping line 251: expected 42 fields, saw 48\\nSkipping line 252: expected 42 fields, saw 48\\nSkipping line 253: expected 42 fields, saw 48\\nSkipping line 254: expected 42 fields, saw 48\\nSkipping line 255: expected 42 fields, saw 48\\nSkipping line 256: expected 42 fields, saw 48\\nSkipping line 321: expected 42 fields, saw 45\\nSkipping line 322: expected 42 fields, saw 45\\nSkipping line 323: expected 42 fields, saw 45\\nSkipping line 324: expected 42 fields, saw 45\\nSkipping line 325: expected 42 fields, saw 45\\nSkipping line 326: expected 42 fields, saw 45\\nSkipping line 327: expected 42 fields, saw 45\\nSkipping line 328: expected 42 fields, saw 45\\nSkipping line 329: expected 42 fields, saw 45\\nSkipping line 330: expected 42 fields, saw 45\\nSkipping line 331: expected 42 fields, saw 45\\nSkipping line 332: expected 42 fields, saw 45\\nSkipping line 333: expected 42 fields, saw 45\\nSkipping line 334: expected 42 fields, saw 45\\nSkipping line 335: expected 42 fields, saw 45\\nSkipping line 336: expected 42 fields, saw 45\\nSkipping line 337: expected 42 fields, saw 45\\nSkipping line 338: expected 42 fields, saw 45\\nSkipping line 339: expected 42 fields, saw 45\\nSkipping line 340: expected 42 fields, saw 45\\nSkipping line 341: expected 42 fields, saw 45\\nSkipping line 342: expected 42 fields, saw 45\\nSkipping line 343: expected 42 fields, saw 45\\nSkipping line 344: expected 42 fields, saw 45\\nSkipping line 345: expected 42 fields, saw 45\\nSkipping line 346: expected 42 fields, saw 45\\nSkipping line 347: expected 42 fields, saw 45\\nSkipping line 348: expected 42 fields, saw 45\\nSkipping line 349: expected 42 fields, saw 45\\nSkipping line 350: expected 42 fields, saw 45\\nSkipping line 351: expected 42 fields, saw 45\\nSkipping line 352: expected 42 fields, saw 45\\nSkipping line 353: expected 42 fields, saw 43\\nSkipping line 354: expected 42 fields, saw 43\\nSkipping line 355: expected 42 fields, saw 43\\nSkipping line 356: expected 42 fields, saw 43\\nSkipping line 357: expected 42 fields, saw 43\\nSkipping line 358: expected 42 fields, saw 43\\nSkipping line 359: expected 42 fields, saw 43\\nSkipping line 360: expected 42 fields, saw 43\\nSkipping line 361: expected 42 fields, saw 43\\nSkipping line 362: expected 42 fields, saw 43\\nSkipping line 363: expected 42 fields, saw 43\\nSkipping line 364: expected 42 fields, saw 43\\nSkipping line 365: expected 42 fields, saw 43\\nSkipping line 366: expected 42 fields, saw 43\\nSkipping line 367: expected 42 fields, saw 43\\nSkipping line 368: expected 42 fields, saw 43\\nSkipping line 481: expected 42 fields, saw 45\\nSkipping line 482: expected 42 fields, saw 45\\nSkipping line 483: expected 42 fields, saw 45\\nSkipping line 484: expected 42 fields, saw 45\\nSkipping line 485: expected 42 fields, saw 45\\nSkipping line 486: expected 42 fields, saw 45\\nSkipping line 487: expected 42 fields, saw 45\\nSkipping line 488: expected 42 fields, saw 45\\nSkipping line 489: expected 42 fields, saw 45\\nSkipping line 490: expected 42 fields, saw 45\\nSkipping line 491: expected 42 fields, saw 45\\nSkipping line 492: expected 42 fields, saw 45\\nSkipping line 493: expected 42 fields, saw 45\\nSkipping line 494: expected 42 fields, saw 45\\nSkipping line 495: expected 42 fields, saw 45\\nSkipping line 496: expected 42 fields, saw 45\\nSkipping line 497: expected 42 fields, saw 44\\nSkipping line 498: expected 42 fields, saw 44\\nSkipping line 499: expected 42 fields, saw 44\\nSkipping line 500: expected 42 fields, saw 44\\nSkipping line 501: expected 42 fields, saw 44\\nSkipping line 502: expected 42 fields, saw 44\\nSkipping line 503: expected 42 fields, saw 44\\nSkipping line 504: expected 42 fields, saw 44\\nSkipping line 505: expected 42 fields, saw 44\\nSkipping line 506: expected 42 fields, saw 44\\nSkipping line 507: expected 42 fields, saw 44\\nSkipping line 508: expected 42 fields, saw 44\\nSkipping line 509: expected 42 fields, saw 44\\nSkipping line 510: expected 42 fields, saw 44\\nSkipping line 511: expected 42 fields, saw 44\\nSkipping line 512: expected 42 fields, saw 44\\nSkipping line 513: expected 42 fields, saw 45\\nSkipping line 514: expected 42 fields, saw 45\\nSkipping line 515: expected 42 fields, saw 45\\nSkipping line 516: expected 42 fields, saw 45\\nSkipping line 517: expected 42 fields, saw 45\\nSkipping line 518: expected 42 fields, saw 45\\nSkipping line 519: expected 42 fields, saw 45\\nSkipping line 520: expected 42 fields, saw 45\\nSkipping line 521: expected 42 fields, saw 45\\nSkipping line 522: expected 42 fields, saw 45\\nSkipping line 523: expected 42 fields, saw 45\\nSkipping line 524: expected 42 fields, saw 45\\nSkipping line 525: expected 42 fields, saw 45\\nSkipping line 526: expected 42 fields, saw 45\\nSkipping line 527: expected 42 fields, saw 45\\nSkipping line 528: expected 42 fields, saw 45\\n'\n"
          ]
        },
        {
          "output_type": "stream",
          "name": "stdout",
          "text": [
            "SERIE_B\n"
          ]
        },
        {
          "output_type": "stream",
          "name": "stderr",
          "text": [
            "b'Skipping line 97: expected 30 fields, saw 32\\nSkipping line 98: expected 30 fields, saw 32\\nSkipping line 99: expected 30 fields, saw 32\\nSkipping line 100: expected 30 fields, saw 32\\nSkipping line 101: expected 30 fields, saw 32\\nSkipping line 102: expected 30 fields, saw 32\\nSkipping line 103: expected 30 fields, saw 32\\nSkipping line 104: expected 30 fields, saw 32\\nSkipping line 105: expected 30 fields, saw 32\\nSkipping line 106: expected 30 fields, saw 32\\nSkipping line 107: expected 30 fields, saw 32\\nSkipping line 108: expected 30 fields, saw 32\\nSkipping line 109: expected 30 fields, saw 32\\nSkipping line 110: expected 30 fields, saw 32\\nSkipping line 111: expected 30 fields, saw 32\\nSkipping line 112: expected 30 fields, saw 32\\nSkipping line 129: expected 30 fields, saw 32\\nSkipping line 130: expected 30 fields, saw 32\\nSkipping line 131: expected 30 fields, saw 32\\nSkipping line 132: expected 30 fields, saw 32\\nSkipping line 133: expected 30 fields, saw 32\\nSkipping line 134: expected 30 fields, saw 32\\nSkipping line 135: expected 30 fields, saw 32\\nSkipping line 136: expected 30 fields, saw 32\\nSkipping line 137: expected 30 fields, saw 32\\nSkipping line 138: expected 30 fields, saw 32\\nSkipping line 139: expected 30 fields, saw 32\\nSkipping line 140: expected 30 fields, saw 32\\nSkipping line 141: expected 30 fields, saw 32\\nSkipping line 142: expected 30 fields, saw 32\\nSkipping line 143: expected 30 fields, saw 32\\nSkipping line 144: expected 30 fields, saw 32\\nSkipping line 145: expected 30 fields, saw 32\\nSkipping line 146: expected 30 fields, saw 32\\nSkipping line 147: expected 30 fields, saw 32\\nSkipping line 148: expected 30 fields, saw 32\\nSkipping line 149: expected 30 fields, saw 32\\nSkipping line 150: expected 30 fields, saw 32\\nSkipping line 151: expected 30 fields, saw 32\\nSkipping line 152: expected 30 fields, saw 32\\nSkipping line 153: expected 30 fields, saw 32\\nSkipping line 154: expected 30 fields, saw 32\\nSkipping line 155: expected 30 fields, saw 32\\nSkipping line 156: expected 30 fields, saw 32\\nSkipping line 157: expected 30 fields, saw 32\\nSkipping line 158: expected 30 fields, saw 32\\nSkipping line 159: expected 30 fields, saw 32\\nSkipping line 160: expected 30 fields, saw 32\\nSkipping line 161: expected 30 fields, saw 32\\nSkipping line 162: expected 30 fields, saw 32\\nSkipping line 163: expected 30 fields, saw 32\\nSkipping line 164: expected 30 fields, saw 32\\nSkipping line 165: expected 30 fields, saw 32\\nSkipping line 166: expected 30 fields, saw 32\\nSkipping line 167: expected 30 fields, saw 32\\nSkipping line 168: expected 30 fields, saw 32\\nSkipping line 169: expected 30 fields, saw 32\\nSkipping line 170: expected 30 fields, saw 32\\nSkipping line 171: expected 30 fields, saw 32\\nSkipping line 172: expected 30 fields, saw 32\\nSkipping line 173: expected 30 fields, saw 32\\nSkipping line 174: expected 30 fields, saw 32\\nSkipping line 175: expected 30 fields, saw 32\\nSkipping line 176: expected 30 fields, saw 32\\nSkipping line 177: expected 30 fields, saw 39\\nSkipping line 178: expected 30 fields, saw 39\\nSkipping line 179: expected 30 fields, saw 39\\nSkipping line 180: expected 30 fields, saw 39\\nSkipping line 181: expected 30 fields, saw 39\\nSkipping line 182: expected 30 fields, saw 39\\nSkipping line 183: expected 30 fields, saw 39\\nSkipping line 184: expected 30 fields, saw 39\\nSkipping line 185: expected 30 fields, saw 39\\nSkipping line 186: expected 30 fields, saw 39\\nSkipping line 187: expected 30 fields, saw 39\\nSkipping line 188: expected 30 fields, saw 39\\nSkipping line 189: expected 30 fields, saw 39\\nSkipping line 190: expected 30 fields, saw 39\\nSkipping line 191: expected 30 fields, saw 39\\nSkipping line 192: expected 30 fields, saw 39\\nSkipping line 225: expected 30 fields, saw 31\\nSkipping line 226: expected 30 fields, saw 31\\nSkipping line 227: expected 30 fields, saw 31\\nSkipping line 228: expected 30 fields, saw 31\\nSkipping line 229: expected 30 fields, saw 31\\nSkipping line 230: expected 30 fields, saw 31\\nSkipping line 231: expected 30 fields, saw 31\\nSkipping line 232: expected 30 fields, saw 31\\nSkipping line 233: expected 30 fields, saw 31\\nSkipping line 234: expected 30 fields, saw 31\\nSkipping line 235: expected 30 fields, saw 31\\nSkipping line 236: expected 30 fields, saw 31\\nSkipping line 237: expected 30 fields, saw 31\\nSkipping line 238: expected 30 fields, saw 31\\nSkipping line 239: expected 30 fields, saw 31\\nSkipping line 240: expected 30 fields, saw 31\\nSkipping line 241: expected 30 fields, saw 35\\nSkipping line 242: expected 30 fields, saw 35\\nSkipping line 243: expected 30 fields, saw 35\\nSkipping line 244: expected 30 fields, saw 35\\nSkipping line 245: expected 30 fields, saw 35\\nSkipping line 246: expected 30 fields, saw 35\\nSkipping line 247: expected 30 fields, saw 35\\nSkipping line 248: expected 30 fields, saw 35\\nSkipping line 249: expected 30 fields, saw 35\\nSkipping line 250: expected 30 fields, saw 35\\nSkipping line 251: expected 30 fields, saw 35\\nSkipping line 252: expected 30 fields, saw 35\\nSkipping line 253: expected 30 fields, saw 35\\nSkipping line 254: expected 30 fields, saw 35\\nSkipping line 255: expected 30 fields, saw 35\\nSkipping line 256: expected 30 fields, saw 35\\nSkipping line 273: expected 30 fields, saw 32\\nSkipping line 274: expected 30 fields, saw 32\\nSkipping line 275: expected 30 fields, saw 32\\nSkipping line 276: expected 30 fields, saw 32\\nSkipping line 277: expected 30 fields, saw 32\\nSkipping line 278: expected 30 fields, saw 32\\nSkipping line 279: expected 30 fields, saw 32\\nSkipping line 280: expected 30 fields, saw 32\\nSkipping line 281: expected 30 fields, saw 32\\nSkipping line 282: expected 30 fields, saw 32\\nSkipping line 283: expected 30 fields, saw 32\\nSkipping line 284: expected 30 fields, saw 32\\nSkipping line 285: expected 30 fields, saw 32\\nSkipping line 286: expected 30 fields, saw 32\\nSkipping line 287: expected 30 fields, saw 32\\nSkipping line 288: expected 30 fields, saw 32\\nSkipping line 289: expected 30 fields, saw 32\\nSkipping line 290: expected 30 fields, saw 32\\nSkipping line 291: expected 30 fields, saw 32\\nSkipping line 292: expected 30 fields, saw 32\\nSkipping line 293: expected 30 fields, saw 32\\nSkipping line 294: expected 30 fields, saw 32\\nSkipping line 295: expected 30 fields, saw 32\\nSkipping line 296: expected 30 fields, saw 32\\nSkipping line 297: expected 30 fields, saw 32\\nSkipping line 298: expected 30 fields, saw 32\\nSkipping line 299: expected 30 fields, saw 32\\nSkipping line 300: expected 30 fields, saw 32\\nSkipping line 301: expected 30 fields, saw 32\\nSkipping line 302: expected 30 fields, saw 32\\nSkipping line 303: expected 30 fields, saw 32\\nSkipping line 304: expected 30 fields, saw 32\\nSkipping line 305: expected 30 fields, saw 35\\nSkipping line 306: expected 30 fields, saw 35\\nSkipping line 307: expected 30 fields, saw 35\\nSkipping line 308: expected 30 fields, saw 35\\nSkipping line 309: expected 30 fields, saw 35\\nSkipping line 310: expected 30 fields, saw 35\\nSkipping line 311: expected 30 fields, saw 35\\nSkipping line 312: expected 30 fields, saw 35\\nSkipping line 313: expected 30 fields, saw 35\\nSkipping line 314: expected 30 fields, saw 35\\nSkipping line 315: expected 30 fields, saw 35\\nSkipping line 316: expected 30 fields, saw 35\\nSkipping line 317: expected 30 fields, saw 35\\nSkipping line 318: expected 30 fields, saw 35\\nSkipping line 319: expected 30 fields, saw 35\\nSkipping line 320: expected 30 fields, saw 35\\nSkipping line 321: expected 30 fields, saw 35\\nSkipping line 322: expected 30 fields, saw 35\\nSkipping line 323: expected 30 fields, saw 35\\nSkipping line 324: expected 30 fields, saw 35\\nSkipping line 325: expected 30 fields, saw 35\\nSkipping line 326: expected 30 fields, saw 35\\nSkipping line 327: expected 30 fields, saw 35\\nSkipping line 328: expected 30 fields, saw 35\\nSkipping line 329: expected 30 fields, saw 35\\nSkipping line 330: expected 30 fields, saw 35\\nSkipping line 331: expected 30 fields, saw 35\\nSkipping line 332: expected 30 fields, saw 35\\nSkipping line 333: expected 30 fields, saw 35\\nSkipping line 334: expected 30 fields, saw 35\\nSkipping line 335: expected 30 fields, saw 35\\nSkipping line 336: expected 30 fields, saw 35\\nSkipping line 337: expected 30 fields, saw 35\\nSkipping line 338: expected 30 fields, saw 35\\nSkipping line 339: expected 30 fields, saw 35\\nSkipping line 340: expected 30 fields, saw 35\\nSkipping line 341: expected 30 fields, saw 35\\nSkipping line 342: expected 30 fields, saw 35\\nSkipping line 343: expected 30 fields, saw 35\\nSkipping line 344: expected 30 fields, saw 35\\nSkipping line 345: expected 30 fields, saw 35\\nSkipping line 346: expected 30 fields, saw 35\\nSkipping line 347: expected 30 fields, saw 35\\nSkipping line 348: expected 30 fields, saw 35\\nSkipping line 349: expected 30 fields, saw 35\\nSkipping line 350: expected 30 fields, saw 35\\nSkipping line 351: expected 30 fields, saw 35\\nSkipping line 352: expected 30 fields, saw 35\\nSkipping line 353: expected 30 fields, saw 35\\nSkipping line 354: expected 30 fields, saw 35\\nSkipping line 355: expected 30 fields, saw 35\\nSkipping line 356: expected 30 fields, saw 35\\nSkipping line 357: expected 30 fields, saw 35\\nSkipping line 358: expected 30 fields, saw 35\\nSkipping line 359: expected 30 fields, saw 35\\nSkipping line 360: expected 30 fields, saw 35\\nSkipping line 361: expected 30 fields, saw 35\\nSkipping line 362: expected 30 fields, saw 35\\nSkipping line 363: expected 30 fields, saw 35\\nSkipping line 364: expected 30 fields, saw 35\\nSkipping line 365: expected 30 fields, saw 35\\nSkipping line 366: expected 30 fields, saw 35\\nSkipping line 367: expected 30 fields, saw 35\\nSkipping line 368: expected 30 fields, saw 35\\nSkipping line 369: expected 30 fields, saw 33\\nSkipping line 370: expected 30 fields, saw 33\\nSkipping line 371: expected 30 fields, saw 33\\nSkipping line 372: expected 30 fields, saw 33\\nSkipping line 373: expected 30 fields, saw 33\\nSkipping line 374: expected 30 fields, saw 33\\nSkipping line 375: expected 30 fields, saw 33\\nSkipping line 376: expected 30 fields, saw 33\\nSkipping line 377: expected 30 fields, saw 33\\nSkipping line 378: expected 30 fields, saw 33\\nSkipping line 379: expected 30 fields, saw 33\\nSkipping line 380: expected 30 fields, saw 33\\nSkipping line 381: expected 30 fields, saw 33\\nSkipping line 382: expected 30 fields, saw 33\\n'\n"
          ]
        },
        {
          "output_type": "stream",
          "name": "stdout",
          "text": [
            "SERIE_B\n",
            "SERIE_B\n"
          ]
        },
        {
          "output_type": "stream",
          "name": "stderr",
          "text": [
            "b'Skipping line 305: expected 22 fields, saw 25\\nSkipping line 306: expected 22 fields, saw 25\\nSkipping line 307: expected 22 fields, saw 25\\nSkipping line 308: expected 22 fields, saw 25\\nSkipping line 309: expected 22 fields, saw 25\\nSkipping line 310: expected 22 fields, saw 25\\nSkipping line 311: expected 22 fields, saw 25\\nSkipping line 312: expected 22 fields, saw 25\\nSkipping line 313: expected 22 fields, saw 25\\nSkipping line 314: expected 22 fields, saw 25\\nSkipping line 315: expected 22 fields, saw 25\\nSkipping line 316: expected 22 fields, saw 25\\nSkipping line 317: expected 22 fields, saw 25\\nSkipping line 318: expected 22 fields, saw 25\\nSkipping line 319: expected 22 fields, saw 25\\nSkipping line 320: expected 22 fields, saw 25\\nSkipping line 321: expected 22 fields, saw 28\\nSkipping line 322: expected 22 fields, saw 28\\nSkipping line 323: expected 22 fields, saw 28\\nSkipping line 324: expected 22 fields, saw 28\\nSkipping line 325: expected 22 fields, saw 28\\nSkipping line 326: expected 22 fields, saw 28\\nSkipping line 327: expected 22 fields, saw 28\\nSkipping line 328: expected 22 fields, saw 28\\nSkipping line 329: expected 22 fields, saw 28\\nSkipping line 330: expected 22 fields, saw 28\\nSkipping line 331: expected 22 fields, saw 28\\nSkipping line 332: expected 22 fields, saw 28\\nSkipping line 333: expected 22 fields, saw 28\\nSkipping line 334: expected 22 fields, saw 28\\nSkipping line 335: expected 22 fields, saw 28\\nSkipping line 336: expected 22 fields, saw 28\\nSkipping line 337: expected 22 fields, saw 25\\nSkipping line 338: expected 22 fields, saw 25\\nSkipping line 339: expected 22 fields, saw 25\\nSkipping line 340: expected 22 fields, saw 25\\nSkipping line 341: expected 22 fields, saw 25\\nSkipping line 342: expected 22 fields, saw 25\\nSkipping line 343: expected 22 fields, saw 25\\nSkipping line 344: expected 22 fields, saw 25\\nSkipping line 345: expected 22 fields, saw 25\\nSkipping line 346: expected 22 fields, saw 25\\nSkipping line 347: expected 22 fields, saw 25\\nSkipping line 348: expected 22 fields, saw 25\\nSkipping line 349: expected 22 fields, saw 25\\nSkipping line 350: expected 22 fields, saw 25\\nSkipping line 351: expected 22 fields, saw 25\\nSkipping line 352: expected 22 fields, saw 25\\n'\n"
          ]
        }
      ]
    },
    {
      "cell_type": "markdown",
      "source": [
        "Note per i dati di calcio\n",
        "\n",
        "Tutti i dati sono in formato csv, pronti per l'uso all'interno di applicazioni di fogli di calcolo standard. Si prega di notare che alcune abbreviazioni non sono più in uso (in particolare le quote di specifici bookmaker non più utilizzate) e si riferiscono ai dati raccolti nelle stagioni precedenti. Per un elenco aggiornato di quali bookmaker sono inclusi nel set di dati, visitare http://www.football-data.co.uk/matches.php\n",
        "\n",
        "Chiave per i dati dei risultati:\n",
        "\n",
        "Div = Divisione League\n",
        "\n",
        "Date = Data della partita (gg/mm/aa)\n",
        "\n",
        "Time = Momento del calcio d'inizio della partita\n",
        "\n",
        "HomeTeam = Squadra di casa\n",
        "\n",
        "AwayTeam = Squadra ospite\n",
        "\n",
        "FTHG and HG = Obiettivi della squadra di casa a tempo pieno\n",
        "\n",
        "FTAG and AG = Obiettivi di squadra in trasferta a tempo pieno\n",
        "\n",
        "FTR and Res = Risultato a tempo pieno (h=vittoria in casa, D=pareggio, a=vittoria in trasferta)\n",
        "\n",
        "HTHG = Gol della squadra di casa a metà tempo\n",
        "\n",
        "HTAG = Gol di squadra in trasferta a metà tempo\n",
        "\n",
        "HTR = Risultato del primo tempo (h=vittoria in casa, D=pareggio, a=vittoria in trasferta)\n",
        "\n",
        "Statistiche delle partite (ove disponibili)\n",
        "\n",
        "Attendance = Affluenza alla folla\n",
        "\n",
        "Referee = Arbitro della partita\n",
        "\n",
        "HS = Colpi della squadra di casa\n",
        "\n",
        "AS = Tiri in trasferta\n",
        "\n",
        "HST = Colpi della squadra di casa sul bersaglio\n",
        "\n",
        "AST = Tiri in trasferta sul bersaglio\n",
        "\n",
        "HHW = Home Team Hit Woodwork\n",
        "\n",
        "AHW = Squadra in trasferta Hit Woodwork\n",
        "\n",
        "HC = Corner della squadra di casa\n",
        "\n",
        "AC = Angoli della squadra in trasferta\n",
        "\n",
        "HF = Fallo commesso dalla squadra di casa\n",
        "\n",
        "AF = Falli commessi in trasferta\n",
        "\n",
        "HFKC = Calci di punizione concessi dalla squadra di casa\n",
        "\n",
        "AFKC = Calci di punizione concessi dalla squadra ospite\n",
        "\n",
        "HO = Fuorigioco della squadra di casa\n",
        "\n",
        "AO = Fuorigioco della squadra in trasferta\n",
        "\n",
        "HY = Cartellini gialli della squadra di casa\n",
        "\n",
        "AY = Cartellini gialli della squadra ospite\n",
        "\n",
        "HR = Cartellini rossi della squadra di casa\n",
        "\n",
        "AR = Cartellini rossi della squadra in trasferta\n",
        "\n",
        "HBP = Home Team Bookings Points (10 = giallo, 25 = rosso)\n",
        "\n",
        "ABP = Punti Prenotazioni Squadre Away (10 = giallo, 25 = rosso)\n",
        "\n",
        "Si noti che i calci di punizione conceeded includono falli, fuorigioco e qualsiasi altra offesa commessa e saranno sempre uguali o superiori al numero di falli. I falli costituiscono la stragrande maggioranza dei calci di punizione concessi. I calci di punizione concessi vengono mostrati quando non sono disponibili dati specifici sui falli (Francia 2a, Belgio 1a e Grecia 1a divisione).\n",
        "\n",
        "Si noti inoltre che i cartellini gialli inglesi e scozzesi non includono il cartellino giallo iniziale quando un secondo viene mostrato a un giocatore che lo converte in rosso, ma questo è incluso come giallo (più rosso) per le partite europee.\n",
        "\n",
        "\n",
        "Chiave per i dati sulle quote di scommessa 1X2 (partita):\n",
        "\n",
        "B365H = Bet365 quote vittoria in casa\n",
        "\n",
        "B365D = Quote di estrazione Bet365\n",
        "\n",
        "B365A = Bet365 quote vittoria in trasferta\n",
        "\n",
        "BSH = Blue Square quote di vittoria in casa\n",
        "\n",
        "BSD = Quote di estrazione Blue Square\n",
        "\n",
        "BSA = Blue Square quote di vittoria in trasferta\n",
        "\n",
        "BWH = Quote di vincita in casa Bet&Win\n",
        "\n",
        "BWD = Quote di estrazione Bet&Win\n",
        "\n",
        "BWA = Quote di vincita in trasferta Bet&Win\n",
        "\n",
        "GBH = Quote di vincita in casa di Gamebookers\n",
        "\n",
        "GBD = Quote di sorteggio Gamebookers\n",
        "\n",
        "GBA = Quote di vincita in trasferta dei Gamebookers\n",
        "\n",
        "IWH = Quote di vittoria in casa Interwetten\n",
        "\n",
        "IWD = Quote di pareggio Interwetten\n",
        "\n",
        "IWA = Quote di vittoria in trasferta interwetten\n",
        "\n",
        "LBH = Ladbrokes quote di vittoria in casa\n",
        "\n",
        "LBD = Quote di estrazione di Ladbrokes\n",
        "\n",
        "LBA = Ladbrokes in trasferta quote di vittoria\n",
        "\n",
        "PSH e PH = Pinnacle quote di vittoria in casa\n",
        "\n",
        "PSD e PD = Quote di pareggio Pinnacle\n",
        "\n",
        "PSA e PA = Pinnacle quote di vittoria in trasferta\n",
        "\n",
        "SOH = Sporting Odds quote vittoria in casa\n",
        "\n",
        "SOD = Quote sportive quote di estrazione\n",
        "\n",
        "SOA = Quote Sportive quote vittoria in trasferta\n",
        "\n",
        "SBH = Sportingbet quote di vittoria in casa\n",
        "\n",
        "SBD = Quote di pareggio Sportingbet\n",
        "\n",
        "SBA = Sportingbet quote vittoria in trasferta\n",
        "\n",
        "SJH = Stan James quote di vittoria in casa\n",
        "\n",
        "SJD = Stan James pareggio quote\n",
        "\n",
        "SJA = Stan James in trasferta quote vittoria\n",
        "\n",
        "SYH = Stanleybet quote di vittoria in casa\n",
        "\n",
        "SYD = Stanleybet quote di pareggio\n",
        "\n",
        "SYA = Stanleybet in trasferta quote di vittoria\n",
        "\n",
        "VCH = VC Bet quote di vincita in casa\n",
        "\n",
        "VCD = Vc Bet quote di estrazione\n",
        "\n",
        "VCA = VC Bet quote di vincita in trasferta\n",
        "\n",
        "WHH = William Hill quote vittoria in casa\n",
        "\n",
        "WHD = William Hill quote di pareggio\n",
        "\n",
        "WHA = William Hill in trasferta quote vittoria\n",
        "\n",
        "Bb1X2 = Numero di bookmaker BetBrain utilizzati per calcolare le medie e i massimi delle quote delle partite\n",
        "\n",
        "BbMxH = Betbrain massimo di vincita in casa\n",
        "\n",
        "BbAvH = Betbrain probabilità medie di vittoria in casa\n",
        "\n",
        "BbMxD = Betbrain quote di pareggio massimo\n",
        "\n",
        "BbAvD = Betbrain media delle quote di vincita\n",
        "\n",
        "BbMxA = Betbrain massimo di vittorie in trasferta\n",
        "\n",
        "BbAvA = Betbrain media di vittorie in trasferta\n",
        "\n",
        "MaxH = Quote di vincita in casa massime del mercato\n",
        "\n",
        "MaxD = Quote di vincita massima del pareggio di mercato\n",
        "\n",
        "MaxA = Quote di vincita in trasferta massime del mercato\n",
        "\n",
        "AvgH = Probabilità di vincita in casa medie di mercato\n",
        "\n",
        "AvgD = Quote di vincita medie del mercato\n",
        "\n",
        "AvgA = Quote di vincita in trasferta medie di mercato\n",
        "\n",
        "\n",
        "\n",
        "Chiave per le quote totali di scommessa sugli obiettivi:\n",
        "\n",
        "\n",
        "BbOU = Numero di bookmaker BetBrain utilizzati per calcolare medie e massimi di over/under 2,5 goal (goal totali)\n",
        "\n",
        "BbMx>2.5 = Betbrain massimo oltre 2.5 goal\n",
        "\n",
        "BbAv>2.5 = Betbrain media oltre 2.5 gol\n",
        "\n",
        "BbMx<2.5 = Betbrain massimo sotto i 2.5 gol\n",
        "\n",
        "BbAv<2.5 = Betbrain media sotto i 2.5 gol\n",
        "\n",
        "\n",
        "\n",
        "GB>2.5 = Gamebookers oltre 2.5 gol\n",
        "\n",
        "GB<2.5 = Gamebookers sotto i 2,5 gol\n",
        "\n",
        "B365>2.5 = Bet365 oltre 2.5 gol\n",
        "\n",
        "B365<2.5 = Bet365 sotto i 2,5 gol\n",
        "\n",
        "P>2.5 = Pinnacle oltre 2.5 gol\n",
        "\n",
        "P<2.5 = Pinnacle sotto i 2,5 gol\n",
        "\n",
        "Max>2.5 = Massimo di mercato oltre 2,5 obiettivi\n",
        "\n",
        "Max<2.5 = Massimo di mercato sotto i 2,5 obiettivi\n",
        "\n",
        "Avg>2.5 = Media di mercato superiore a 2,5 gol\n",
        "\n",
        "Avg <2,5 = Media di mercato inferiore a 2,5 gol\n",
        "\n",
        "\n",
        "\n",
        "\n",
        "Chiave per le quote di scommesse con handicap asiatico:\n",
        "\n",
        "BbAH = Numero di bookmaker BetBrain utilizzati per medie e massimi di handicap asiatici\n",
        "\n",
        "BbAHh = Betbrain dimensione dell'handicap (squadra di casa)\n",
        "\n",
        "AHh = Dimensione del mercato dell'handicap (squadra di casa) (dal 2019/2020)\n",
        "\n",
        "BbMxAHH = Betbrain massimo asiatico handicap squadra di casa quote\n",
        "\n",
        "BbAvAHH = Betbrain media asiatica handicap squadra di casa quote\n",
        "\n",
        "BbMxAHA = Betbrain massimo handicap asiatico in trasferta quote squadra\n",
        "\n",
        "BbAvAHA = Betbrain media asiatica handicap in trasferta quote squadra\n",
        "\n",
        "\n",
        "\n",
        "GBAHH = Quote della squadra di casa con handicap asiatico gamebookers\n",
        "\n",
        "GBAHA = Quote squadra in trasferta handicap asiatico Gamebookers\n",
        "\n",
        "GBAH = Gamebookers dimensione dell'handicap (squadra di casa)\n",
        "\n",
        "LBAHH = Ladbrokes Asian handicap squadra di casa quote\n",
        "\n",
        "LBAHA = Ladbrokes Asian handicap away team odds\n",
        "\n",
        "LBAH = Ladbrokes dimensione dell'handicap (squadra di casa)\n",
        "\n",
        "B365AHH = Bet365 Asian handicap home team quote\n",
        "\n",
        "B365AHA = Bet365 Asian handicap quote squadra in trasferta\n",
        "\n",
        "B365AH = Bet365 dimensione dell'handicap (squadra di casa)\n",
        "\n",
        "PAHH = Pinnacle Asian handicap squadra di casa quote\n",
        "\n",
        "PAHA = Pinnacle Asian handicap quote squadra in trasferta\n",
        "\n",
        "MaxAHH = Quote di squadra di casa con handicap asiatico massimo di mercato\n",
        "\n",
        "MaxAHA = Quote di squadra in trasferta con handicap asiatico massimo di mercato\t\n",
        "\n",
        "AvgAHH = Quote medie di mercato della squadra di casa asiatica\n",
        "\n",
        "AvgAHA = Quote medie di mercato della squadra asiatica handicap in trasferta\n",
        "\n",
        "\n",
        "\n",
        "Quote di chiusura (ultime quote prima dell'inizio della partita)\n",
        "\n",
        "Come sopra ma con un carattere \"C\" aggiuntivo che segue l'abbreviazione del bookmaker / Max / Avg\n",
        "\n",
        "Football-Data desidera riconoscere le seguenti fonti che sono state utilizzate nella compilazione dei risultati e dei file delle quote di Football-Data.\n",
        "\n",
        "\n",
        "Risultati attuali (tempo pieno, metà tempo)\n",
        "XScores - http://www.xscores .com\n",
        "\n",
        "Statistiche delle partite\n",
        "BBC, ESPN Soccer, Bundesliga.de, Gazzetta.it e Football.fr\n",
        "\n",
        "Quote scommesse bookmakers\n",
        "Bookmaker individuali\n",
        "\n",
        "Le quote di scommessa per le partite del fine settimana vengono raccolte il venerdì pomeriggio e il martedì pomeriggio per le partite infrasettimanali.\n",
        "\n",
        "Ulteriori statistiche delle partite (corner, tiri, prenotazioni, arbitro, ecc.) per le stagioni 2000/01 e 2001/02 per i campionati inglese, scozzese e tedesco sono state fornite da Sports.com (ora sotto nuova proprietà e non più disponibile).\n",
        "\n"
      ],
      "metadata": {
        "id": "IX042DOzI7pn"
      }
    },
    {
      "cell_type": "code",
      "source": [
        "ds_serieA=SERIE_A[0]\n",
        "for da in SERIE_A[1:]:\n",
        "  ds_serieA=ds_serieA.append(da, ignore_index=True).reset_index(drop=True)\n",
        "ds_serieB=SERIE_B[0]\n",
        "for db in SERIE_B[1:]:\n",
        "  ds_serieB=ds_serieB.append(db, ignore_index=True).reset_index(drop=True)\n",
        "ds_serieB"
      ],
      "metadata": {
        "colab": {
          "base_uri": "https://localhost:8080/",
          "height": 424
        },
        "id": "Z4zctF_-BN5K",
        "outputId": "131489e4-833b-4ed6-a089-8ca5c30f7739"
      },
      "execution_count": 4,
      "outputs": [
        {
          "output_type": "execute_result",
          "data": {
            "text/plain": [
              "      Div        Date   Time    HomeTeam     AwayTeam  FTHG  FTAG FTR  HTHG  \\\n",
              "0      I2  12/08/2022  19:45       Parma         Bari   2.0   2.0   D   2.0   \n",
              "1      I2  13/08/2022  19:45  Cittadella         Pisa   4.0   3.0   H   1.0   \n",
              "2      I2  13/08/2022  19:45        Como     Cagliari   1.0   1.0   D   1.0   \n",
              "3      I2  13/08/2022  19:45     Palermo      Perugia   2.0   0.0   H   1.0   \n",
              "4      I2  14/08/2022  19:45      Ascoli      Ternana   2.0   1.0   H   2.0   \n",
              "...    ..         ...    ...         ...          ...   ...   ...  ..   ...   \n",
              "10166  I2    02/06/02    NaN      Modena  Salernitana   5.0   2.0   H   1.0   \n",
              "10167  I2    02/06/02    NaN      Napoli         Como   1.0   2.0   A   1.0   \n",
              "10168  I2    02/06/02    NaN     Palermo       Ancona   2.0   3.0   A   1.0   \n",
              "10169  I2    02/06/02    NaN     Reggina        Genoa   2.0   2.0   D   1.0   \n",
              "10170  I2    02/06/02    NaN   Sampdoria        Siena   0.0   1.0   A   0.0   \n",
              "\n",
              "       HTAG  ... Unnamed: 42  Unnamed: 43  Unnamed: 44  Unnamed: 45  \\\n",
              "0       2.0  ...         NaN          NaN          NaN          NaN   \n",
              "1       1.0  ...         NaN          NaN          NaN          NaN   \n",
              "2       0.0  ...         NaN          NaN          NaN          NaN   \n",
              "3       0.0  ...         NaN          NaN          NaN          NaN   \n",
              "4       0.0  ...         NaN          NaN          NaN          NaN   \n",
              "...     ...  ...         ...          ...          ...          ...   \n",
              "10166   0.0  ...         NaN          NaN          NaN          NaN   \n",
              "10167   2.0  ...         NaN          NaN          NaN          NaN   \n",
              "10168   2.0  ...         NaN          NaN          NaN          NaN   \n",
              "10169   2.0  ...         NaN          NaN          NaN          NaN   \n",
              "10170   0.0  ...         NaN          NaN          NaN          NaN   \n",
              "\n",
              "       Unnamed: 33  Unnamed: 34  Unnamed: 35  SYH  SYD  SYA  \n",
              "0              NaN          NaN          NaN  NaN  NaN  NaN  \n",
              "1              NaN          NaN          NaN  NaN  NaN  NaN  \n",
              "2              NaN          NaN          NaN  NaN  NaN  NaN  \n",
              "3              NaN          NaN          NaN  NaN  NaN  NaN  \n",
              "4              NaN          NaN          NaN  NaN  NaN  NaN  \n",
              "...            ...          ...          ...  ...  ...  ...  \n",
              "10166          NaN          NaN          NaN  NaN  NaN  NaN  \n",
              "10167          NaN          NaN          NaN  NaN  NaN  NaN  \n",
              "10168          NaN          NaN          NaN  NaN  NaN  NaN  \n",
              "10169          NaN          NaN          NaN  NaN  NaN  NaN  \n",
              "10170          NaN          NaN          NaN  NaN  NaN  NaN  \n",
              "\n",
              "[10171 rows x 183 columns]"
            ],
            "text/html": [
              "\n",
              "  <div id=\"df-7b90a862-8dd8-4526-9ad1-12e4132b2341\">\n",
              "    <div class=\"colab-df-container\">\n",
              "      <div>\n",
              "<style scoped>\n",
              "    .dataframe tbody tr th:only-of-type {\n",
              "        vertical-align: middle;\n",
              "    }\n",
              "\n",
              "    .dataframe tbody tr th {\n",
              "        vertical-align: top;\n",
              "    }\n",
              "\n",
              "    .dataframe thead th {\n",
              "        text-align: right;\n",
              "    }\n",
              "</style>\n",
              "<table border=\"1\" class=\"dataframe\">\n",
              "  <thead>\n",
              "    <tr style=\"text-align: right;\">\n",
              "      <th></th>\n",
              "      <th>Div</th>\n",
              "      <th>Date</th>\n",
              "      <th>Time</th>\n",
              "      <th>HomeTeam</th>\n",
              "      <th>AwayTeam</th>\n",
              "      <th>FTHG</th>\n",
              "      <th>FTAG</th>\n",
              "      <th>FTR</th>\n",
              "      <th>HTHG</th>\n",
              "      <th>HTAG</th>\n",
              "      <th>...</th>\n",
              "      <th>Unnamed: 42</th>\n",
              "      <th>Unnamed: 43</th>\n",
              "      <th>Unnamed: 44</th>\n",
              "      <th>Unnamed: 45</th>\n",
              "      <th>Unnamed: 33</th>\n",
              "      <th>Unnamed: 34</th>\n",
              "      <th>Unnamed: 35</th>\n",
              "      <th>SYH</th>\n",
              "      <th>SYD</th>\n",
              "      <th>SYA</th>\n",
              "    </tr>\n",
              "  </thead>\n",
              "  <tbody>\n",
              "    <tr>\n",
              "      <th>0</th>\n",
              "      <td>I2</td>\n",
              "      <td>12/08/2022</td>\n",
              "      <td>19:45</td>\n",
              "      <td>Parma</td>\n",
              "      <td>Bari</td>\n",
              "      <td>2.0</td>\n",
              "      <td>2.0</td>\n",
              "      <td>D</td>\n",
              "      <td>2.0</td>\n",
              "      <td>2.0</td>\n",
              "      <td>...</td>\n",
              "      <td>NaN</td>\n",
              "      <td>NaN</td>\n",
              "      <td>NaN</td>\n",
              "      <td>NaN</td>\n",
              "      <td>NaN</td>\n",
              "      <td>NaN</td>\n",
              "      <td>NaN</td>\n",
              "      <td>NaN</td>\n",
              "      <td>NaN</td>\n",
              "      <td>NaN</td>\n",
              "    </tr>\n",
              "    <tr>\n",
              "      <th>1</th>\n",
              "      <td>I2</td>\n",
              "      <td>13/08/2022</td>\n",
              "      <td>19:45</td>\n",
              "      <td>Cittadella</td>\n",
              "      <td>Pisa</td>\n",
              "      <td>4.0</td>\n",
              "      <td>3.0</td>\n",
              "      <td>H</td>\n",
              "      <td>1.0</td>\n",
              "      <td>1.0</td>\n",
              "      <td>...</td>\n",
              "      <td>NaN</td>\n",
              "      <td>NaN</td>\n",
              "      <td>NaN</td>\n",
              "      <td>NaN</td>\n",
              "      <td>NaN</td>\n",
              "      <td>NaN</td>\n",
              "      <td>NaN</td>\n",
              "      <td>NaN</td>\n",
              "      <td>NaN</td>\n",
              "      <td>NaN</td>\n",
              "    </tr>\n",
              "    <tr>\n",
              "      <th>2</th>\n",
              "      <td>I2</td>\n",
              "      <td>13/08/2022</td>\n",
              "      <td>19:45</td>\n",
              "      <td>Como</td>\n",
              "      <td>Cagliari</td>\n",
              "      <td>1.0</td>\n",
              "      <td>1.0</td>\n",
              "      <td>D</td>\n",
              "      <td>1.0</td>\n",
              "      <td>0.0</td>\n",
              "      <td>...</td>\n",
              "      <td>NaN</td>\n",
              "      <td>NaN</td>\n",
              "      <td>NaN</td>\n",
              "      <td>NaN</td>\n",
              "      <td>NaN</td>\n",
              "      <td>NaN</td>\n",
              "      <td>NaN</td>\n",
              "      <td>NaN</td>\n",
              "      <td>NaN</td>\n",
              "      <td>NaN</td>\n",
              "    </tr>\n",
              "    <tr>\n",
              "      <th>3</th>\n",
              "      <td>I2</td>\n",
              "      <td>13/08/2022</td>\n",
              "      <td>19:45</td>\n",
              "      <td>Palermo</td>\n",
              "      <td>Perugia</td>\n",
              "      <td>2.0</td>\n",
              "      <td>0.0</td>\n",
              "      <td>H</td>\n",
              "      <td>1.0</td>\n",
              "      <td>0.0</td>\n",
              "      <td>...</td>\n",
              "      <td>NaN</td>\n",
              "      <td>NaN</td>\n",
              "      <td>NaN</td>\n",
              "      <td>NaN</td>\n",
              "      <td>NaN</td>\n",
              "      <td>NaN</td>\n",
              "      <td>NaN</td>\n",
              "      <td>NaN</td>\n",
              "      <td>NaN</td>\n",
              "      <td>NaN</td>\n",
              "    </tr>\n",
              "    <tr>\n",
              "      <th>4</th>\n",
              "      <td>I2</td>\n",
              "      <td>14/08/2022</td>\n",
              "      <td>19:45</td>\n",
              "      <td>Ascoli</td>\n",
              "      <td>Ternana</td>\n",
              "      <td>2.0</td>\n",
              "      <td>1.0</td>\n",
              "      <td>H</td>\n",
              "      <td>2.0</td>\n",
              "      <td>0.0</td>\n",
              "      <td>...</td>\n",
              "      <td>NaN</td>\n",
              "      <td>NaN</td>\n",
              "      <td>NaN</td>\n",
              "      <td>NaN</td>\n",
              "      <td>NaN</td>\n",
              "      <td>NaN</td>\n",
              "      <td>NaN</td>\n",
              "      <td>NaN</td>\n",
              "      <td>NaN</td>\n",
              "      <td>NaN</td>\n",
              "    </tr>\n",
              "    <tr>\n",
              "      <th>...</th>\n",
              "      <td>...</td>\n",
              "      <td>...</td>\n",
              "      <td>...</td>\n",
              "      <td>...</td>\n",
              "      <td>...</td>\n",
              "      <td>...</td>\n",
              "      <td>...</td>\n",
              "      <td>...</td>\n",
              "      <td>...</td>\n",
              "      <td>...</td>\n",
              "      <td>...</td>\n",
              "      <td>...</td>\n",
              "      <td>...</td>\n",
              "      <td>...</td>\n",
              "      <td>...</td>\n",
              "      <td>...</td>\n",
              "      <td>...</td>\n",
              "      <td>...</td>\n",
              "      <td>...</td>\n",
              "      <td>...</td>\n",
              "      <td>...</td>\n",
              "    </tr>\n",
              "    <tr>\n",
              "      <th>10166</th>\n",
              "      <td>I2</td>\n",
              "      <td>02/06/02</td>\n",
              "      <td>NaN</td>\n",
              "      <td>Modena</td>\n",
              "      <td>Salernitana</td>\n",
              "      <td>5.0</td>\n",
              "      <td>2.0</td>\n",
              "      <td>H</td>\n",
              "      <td>1.0</td>\n",
              "      <td>0.0</td>\n",
              "      <td>...</td>\n",
              "      <td>NaN</td>\n",
              "      <td>NaN</td>\n",
              "      <td>NaN</td>\n",
              "      <td>NaN</td>\n",
              "      <td>NaN</td>\n",
              "      <td>NaN</td>\n",
              "      <td>NaN</td>\n",
              "      <td>NaN</td>\n",
              "      <td>NaN</td>\n",
              "      <td>NaN</td>\n",
              "    </tr>\n",
              "    <tr>\n",
              "      <th>10167</th>\n",
              "      <td>I2</td>\n",
              "      <td>02/06/02</td>\n",
              "      <td>NaN</td>\n",
              "      <td>Napoli</td>\n",
              "      <td>Como</td>\n",
              "      <td>1.0</td>\n",
              "      <td>2.0</td>\n",
              "      <td>A</td>\n",
              "      <td>1.0</td>\n",
              "      <td>2.0</td>\n",
              "      <td>...</td>\n",
              "      <td>NaN</td>\n",
              "      <td>NaN</td>\n",
              "      <td>NaN</td>\n",
              "      <td>NaN</td>\n",
              "      <td>NaN</td>\n",
              "      <td>NaN</td>\n",
              "      <td>NaN</td>\n",
              "      <td>NaN</td>\n",
              "      <td>NaN</td>\n",
              "      <td>NaN</td>\n",
              "    </tr>\n",
              "    <tr>\n",
              "      <th>10168</th>\n",
              "      <td>I2</td>\n",
              "      <td>02/06/02</td>\n",
              "      <td>NaN</td>\n",
              "      <td>Palermo</td>\n",
              "      <td>Ancona</td>\n",
              "      <td>2.0</td>\n",
              "      <td>3.0</td>\n",
              "      <td>A</td>\n",
              "      <td>1.0</td>\n",
              "      <td>2.0</td>\n",
              "      <td>...</td>\n",
              "      <td>NaN</td>\n",
              "      <td>NaN</td>\n",
              "      <td>NaN</td>\n",
              "      <td>NaN</td>\n",
              "      <td>NaN</td>\n",
              "      <td>NaN</td>\n",
              "      <td>NaN</td>\n",
              "      <td>NaN</td>\n",
              "      <td>NaN</td>\n",
              "      <td>NaN</td>\n",
              "    </tr>\n",
              "    <tr>\n",
              "      <th>10169</th>\n",
              "      <td>I2</td>\n",
              "      <td>02/06/02</td>\n",
              "      <td>NaN</td>\n",
              "      <td>Reggina</td>\n",
              "      <td>Genoa</td>\n",
              "      <td>2.0</td>\n",
              "      <td>2.0</td>\n",
              "      <td>D</td>\n",
              "      <td>1.0</td>\n",
              "      <td>2.0</td>\n",
              "      <td>...</td>\n",
              "      <td>NaN</td>\n",
              "      <td>NaN</td>\n",
              "      <td>NaN</td>\n",
              "      <td>NaN</td>\n",
              "      <td>NaN</td>\n",
              "      <td>NaN</td>\n",
              "      <td>NaN</td>\n",
              "      <td>NaN</td>\n",
              "      <td>NaN</td>\n",
              "      <td>NaN</td>\n",
              "    </tr>\n",
              "    <tr>\n",
              "      <th>10170</th>\n",
              "      <td>I2</td>\n",
              "      <td>02/06/02</td>\n",
              "      <td>NaN</td>\n",
              "      <td>Sampdoria</td>\n",
              "      <td>Siena</td>\n",
              "      <td>0.0</td>\n",
              "      <td>1.0</td>\n",
              "      <td>A</td>\n",
              "      <td>0.0</td>\n",
              "      <td>0.0</td>\n",
              "      <td>...</td>\n",
              "      <td>NaN</td>\n",
              "      <td>NaN</td>\n",
              "      <td>NaN</td>\n",
              "      <td>NaN</td>\n",
              "      <td>NaN</td>\n",
              "      <td>NaN</td>\n",
              "      <td>NaN</td>\n",
              "      <td>NaN</td>\n",
              "      <td>NaN</td>\n",
              "      <td>NaN</td>\n",
              "    </tr>\n",
              "  </tbody>\n",
              "</table>\n",
              "<p>10171 rows × 183 columns</p>\n",
              "</div>\n",
              "      <button class=\"colab-df-convert\" onclick=\"convertToInteractive('df-7b90a862-8dd8-4526-9ad1-12e4132b2341')\"\n",
              "              title=\"Convert this dataframe to an interactive table.\"\n",
              "              style=\"display:none;\">\n",
              "        \n",
              "  <svg xmlns=\"http://www.w3.org/2000/svg\" height=\"24px\"viewBox=\"0 0 24 24\"\n",
              "       width=\"24px\">\n",
              "    <path d=\"M0 0h24v24H0V0z\" fill=\"none\"/>\n",
              "    <path d=\"M18.56 5.44l.94 2.06.94-2.06 2.06-.94-2.06-.94-.94-2.06-.94 2.06-2.06.94zm-11 1L8.5 8.5l.94-2.06 2.06-.94-2.06-.94L8.5 2.5l-.94 2.06-2.06.94zm10 10l.94 2.06.94-2.06 2.06-.94-2.06-.94-.94-2.06-.94 2.06-2.06.94z\"/><path d=\"M17.41 7.96l-1.37-1.37c-.4-.4-.92-.59-1.43-.59-.52 0-1.04.2-1.43.59L10.3 9.45l-7.72 7.72c-.78.78-.78 2.05 0 2.83L4 21.41c.39.39.9.59 1.41.59.51 0 1.02-.2 1.41-.59l7.78-7.78 2.81-2.81c.8-.78.8-2.07 0-2.86zM5.41 20L4 18.59l7.72-7.72 1.47 1.35L5.41 20z\"/>\n",
              "  </svg>\n",
              "      </button>\n",
              "      \n",
              "  <style>\n",
              "    .colab-df-container {\n",
              "      display:flex;\n",
              "      flex-wrap:wrap;\n",
              "      gap: 12px;\n",
              "    }\n",
              "\n",
              "    .colab-df-convert {\n",
              "      background-color: #E8F0FE;\n",
              "      border: none;\n",
              "      border-radius: 50%;\n",
              "      cursor: pointer;\n",
              "      display: none;\n",
              "      fill: #1967D2;\n",
              "      height: 32px;\n",
              "      padding: 0 0 0 0;\n",
              "      width: 32px;\n",
              "    }\n",
              "\n",
              "    .colab-df-convert:hover {\n",
              "      background-color: #E2EBFA;\n",
              "      box-shadow: 0px 1px 2px rgba(60, 64, 67, 0.3), 0px 1px 3px 1px rgba(60, 64, 67, 0.15);\n",
              "      fill: #174EA6;\n",
              "    }\n",
              "\n",
              "    [theme=dark] .colab-df-convert {\n",
              "      background-color: #3B4455;\n",
              "      fill: #D2E3FC;\n",
              "    }\n",
              "\n",
              "    [theme=dark] .colab-df-convert:hover {\n",
              "      background-color: #434B5C;\n",
              "      box-shadow: 0px 1px 3px 1px rgba(0, 0, 0, 0.15);\n",
              "      filter: drop-shadow(0px 1px 2px rgba(0, 0, 0, 0.3));\n",
              "      fill: #FFFFFF;\n",
              "    }\n",
              "  </style>\n",
              "\n",
              "      <script>\n",
              "        const buttonEl =\n",
              "          document.querySelector('#df-7b90a862-8dd8-4526-9ad1-12e4132b2341 button.colab-df-convert');\n",
              "        buttonEl.style.display =\n",
              "          google.colab.kernel.accessAllowed ? 'block' : 'none';\n",
              "\n",
              "        async function convertToInteractive(key) {\n",
              "          const element = document.querySelector('#df-7b90a862-8dd8-4526-9ad1-12e4132b2341');\n",
              "          const dataTable =\n",
              "            await google.colab.kernel.invokeFunction('convertToInteractive',\n",
              "                                                     [key], {});\n",
              "          if (!dataTable) return;\n",
              "\n",
              "          const docLinkHtml = 'Like what you see? Visit the ' +\n",
              "            '<a target=\"_blank\" href=https://colab.research.google.com/notebooks/data_table.ipynb>data table notebook</a>'\n",
              "            + ' to learn more about interactive tables.';\n",
              "          element.innerHTML = '';\n",
              "          dataTable['output_type'] = 'display_data';\n",
              "          await google.colab.output.renderOutput(dataTable, element);\n",
              "          const docLink = document.createElement('div');\n",
              "          docLink.innerHTML = docLinkHtml;\n",
              "          element.appendChild(docLink);\n",
              "        }\n",
              "      </script>\n",
              "    </div>\n",
              "  </div>\n",
              "  "
            ]
          },
          "metadata": {},
          "execution_count": 4
        }
      ]
    },
    {
      "cell_type": "code",
      "source": [
        "matches=ds_serieA.append(ds_serieB, ignore_index=True).reset_index(drop=True)\n",
        "# matches.info"
      ],
      "metadata": {
        "id": "qghGSa-jV9_j"
      },
      "execution_count": 5,
      "outputs": []
    },
    {
      "cell_type": "code",
      "source": [
        "x=matches.isnull().sum()\n",
        "eliminate=[]"
      ],
      "metadata": {
        "id": "-iztaTz4WRW6"
      },
      "execution_count": 6,
      "outputs": []
    },
    {
      "cell_type": "code",
      "source": [
        "count=0\n",
        "for col in range (len(x)):\n",
        "  if(x[col]>=len(matches)-1000):\n",
        "    count+=1\n",
        "    matches=matches.drop([x.keys()[col]],axis=1)\n",
        "    eliminate.append(x.keys()[col])\n",
        "print('count=',count)"
      ],
      "metadata": {
        "colab": {
          "base_uri": "https://localhost:8080/"
        },
        "id": "ERaUWXM9Wjgf",
        "outputId": "cf6596d1-21ab-45ee-dec3-7af329e0d0d8"
      },
      "execution_count": 7,
      "outputs": [
        {
          "output_type": "stream",
          "name": "stdout",
          "text": [
            "count= 57\n"
          ]
        }
      ]
    },
    {
      "cell_type": "code",
      "source": [
        "matches['FTR']"
      ],
      "metadata": {
        "colab": {
          "base_uri": "https://localhost:8080/"
        },
        "id": "ft_fEMHEeHQo",
        "outputId": "d2df14fa-8a12-4a80-f5bd-5417b77f981e"
      },
      "execution_count": 8,
      "outputs": [
        {
          "output_type": "execute_result",
          "data": {
            "text/plain": [
              "0        H\n",
              "1        A\n",
              "2        A\n",
              "3        A\n",
              "4        H\n",
              "        ..\n",
              "21504    H\n",
              "21505    A\n",
              "21506    A\n",
              "21507    D\n",
              "21508    A\n",
              "Name: FTR, Length: 21509, dtype: object"
            ]
          },
          "metadata": {},
          "execution_count": 8
        }
      ]
    },
    {
      "cell_type": "code",
      "source": [
        "matches['risultato']=matches['FTR']\n",
        "matches['risultato'][matches['risultato']==\"A\"]=\"2\"\n",
        "matches['risultato'][matches['risultato']==\"D\"]=\"X\"\n",
        "matches['risultato'][matches['risultato']==\"H\"]=\"1\"\n",
        "# matches"
      ],
      "metadata": {
        "id": "3czxiRC2bFKS"
      },
      "execution_count": 9,
      "outputs": []
    },
    {
      "cell_type": "code",
      "source": [
        "dataset=matches[[\"Date\",\"HomeTeam\",\"AwayTeam\",\"B365H\",\"B365D\",\"B365A\",\"BWH\",\"BWD\",\"BWA\",\"IWH\",\"IWD\",\"IWA\",\"PSH\",\"PSD\",\"PSA\",\"WHH\",\"WHD\",\"WHA\",\"VCH\",\"VCD\",\"VCA\",\"risultato\"]]\n",
        "dataset=dataset.dropna()\n",
        "dataset"
      ],
      "metadata": {
        "colab": {
          "base_uri": "https://localhost:8080/",
          "height": 424
        },
        "id": "cRo144ctgJLf",
        "outputId": "682d7d97-3592-4d2d-a9f0-2c9382b3c470"
      },
      "execution_count": 10,
      "outputs": [
        {
          "output_type": "execute_result",
          "data": {
            "text/plain": [
              "             Date    HomeTeam     AwayTeam  B365H  B365D  B365A   BWH   BWD  \\\n",
              "0      13/08/2022       Milan      Udinese   1.44   4.75   7.00  1.41  4.75   \n",
              "1      13/08/2022   Sampdoria     Atalanta   4.33   3.90   1.75  4.33  3.80   \n",
              "2      13/08/2022       Lecce        Inter  10.00   5.75   1.28  9.75  5.50   \n",
              "3      13/08/2022       Monza       Torino   2.60   3.30   2.75  2.55  3.25   \n",
              "4      14/08/2022  Fiorentina    Cremonese   1.36   5.00   8.50  1.39  4.80   \n",
              "...           ...         ...          ...    ...    ...    ...   ...   ...   \n",
              "20591  11/05/2019      Padova      Livorno   6.50   3.80   1.55  5.75  3.60   \n",
              "20592  11/05/2019     Palermo   Cittadella   1.66   3.50   5.50  1.67  3.60   \n",
              "20593  11/05/2019     Perugia    Cremonese   2.25   3.10   3.40  2.20  3.10   \n",
              "20594  11/05/2019     Pescara  Salernitana   2.15   3.20   3.50  2.30  3.10   \n",
              "20595  11/05/2019      Verona       Foggia   2.10   3.10   3.75  2.20  3.20   \n",
              "\n",
              "        BWA   IWH  ...    PSH   PSD   PSA    WHH   WHD   WHA    VCH  VCD  \\\n",
              "0      7.50  1.40  ...   1.43  4.66  8.84   1.38  4.60  8.50   1.36  4.6   \n",
              "1      1.77  4.30  ...   4.72  3.98  1.78   4.50  3.80  1.73   4.75  3.7   \n",
              "2      1.30  9.50  ...  10.75  5.92  1.31  11.00  5.50  1.27  12.00  5.5   \n",
              "3      2.80  2.60  ...   2.64  3.36  2.90   2.50  3.25  2.80   2.55  3.1   \n",
              "4      7.75  1.40  ...   1.39  5.33  8.49   1.36  4.60  9.00   1.33  4.8   \n",
              "...     ...   ...  ...    ...   ...   ...    ...   ...   ...    ...  ...   \n",
              "20591  1.60  5.60  ...   5.90  3.87  1.62   6.00  3.80  1.55   6.50  3.8   \n",
              "20592  5.00  1.70  ...   1.77  3.47  5.28   1.70  3.60  5.00   1.73  3.6   \n",
              "20593  3.25  2.15  ...   2.31  3.28  3.34   2.20  3.20  3.25   2.25  3.2   \n",
              "20594  3.10  2.15  ...   2.27  3.16  3.57   2.15  3.25  3.40   2.20  3.3   \n",
              "20595  3.20  2.15  ...   2.22  3.22  3.61   2.15  3.25  3.40   2.15  3.3   \n",
              "\n",
              "        VCA  risultato  \n",
              "0      9.00          1  \n",
              "1      1.73          2  \n",
              "2      1.25          2  \n",
              "3      2.88          2  \n",
              "4      9.50          1  \n",
              "...     ...        ...  \n",
              "20591  1.60          X  \n",
              "20592  5.20          X  \n",
              "20593  3.40          1  \n",
              "20594  3.40          1  \n",
              "20595  3.50          1  \n",
              "\n",
              "[7888 rows x 22 columns]"
            ],
            "text/html": [
              "\n",
              "  <div id=\"df-10cffe07-24ce-41fe-8a95-a97bb29e41e8\">\n",
              "    <div class=\"colab-df-container\">\n",
              "      <div>\n",
              "<style scoped>\n",
              "    .dataframe tbody tr th:only-of-type {\n",
              "        vertical-align: middle;\n",
              "    }\n",
              "\n",
              "    .dataframe tbody tr th {\n",
              "        vertical-align: top;\n",
              "    }\n",
              "\n",
              "    .dataframe thead th {\n",
              "        text-align: right;\n",
              "    }\n",
              "</style>\n",
              "<table border=\"1\" class=\"dataframe\">\n",
              "  <thead>\n",
              "    <tr style=\"text-align: right;\">\n",
              "      <th></th>\n",
              "      <th>Date</th>\n",
              "      <th>HomeTeam</th>\n",
              "      <th>AwayTeam</th>\n",
              "      <th>B365H</th>\n",
              "      <th>B365D</th>\n",
              "      <th>B365A</th>\n",
              "      <th>BWH</th>\n",
              "      <th>BWD</th>\n",
              "      <th>BWA</th>\n",
              "      <th>IWH</th>\n",
              "      <th>...</th>\n",
              "      <th>PSH</th>\n",
              "      <th>PSD</th>\n",
              "      <th>PSA</th>\n",
              "      <th>WHH</th>\n",
              "      <th>WHD</th>\n",
              "      <th>WHA</th>\n",
              "      <th>VCH</th>\n",
              "      <th>VCD</th>\n",
              "      <th>VCA</th>\n",
              "      <th>risultato</th>\n",
              "    </tr>\n",
              "  </thead>\n",
              "  <tbody>\n",
              "    <tr>\n",
              "      <th>0</th>\n",
              "      <td>13/08/2022</td>\n",
              "      <td>Milan</td>\n",
              "      <td>Udinese</td>\n",
              "      <td>1.44</td>\n",
              "      <td>4.75</td>\n",
              "      <td>7.00</td>\n",
              "      <td>1.41</td>\n",
              "      <td>4.75</td>\n",
              "      <td>7.50</td>\n",
              "      <td>1.40</td>\n",
              "      <td>...</td>\n",
              "      <td>1.43</td>\n",
              "      <td>4.66</td>\n",
              "      <td>8.84</td>\n",
              "      <td>1.38</td>\n",
              "      <td>4.60</td>\n",
              "      <td>8.50</td>\n",
              "      <td>1.36</td>\n",
              "      <td>4.6</td>\n",
              "      <td>9.00</td>\n",
              "      <td>1</td>\n",
              "    </tr>\n",
              "    <tr>\n",
              "      <th>1</th>\n",
              "      <td>13/08/2022</td>\n",
              "      <td>Sampdoria</td>\n",
              "      <td>Atalanta</td>\n",
              "      <td>4.33</td>\n",
              "      <td>3.90</td>\n",
              "      <td>1.75</td>\n",
              "      <td>4.33</td>\n",
              "      <td>3.80</td>\n",
              "      <td>1.77</td>\n",
              "      <td>4.30</td>\n",
              "      <td>...</td>\n",
              "      <td>4.72</td>\n",
              "      <td>3.98</td>\n",
              "      <td>1.78</td>\n",
              "      <td>4.50</td>\n",
              "      <td>3.80</td>\n",
              "      <td>1.73</td>\n",
              "      <td>4.75</td>\n",
              "      <td>3.7</td>\n",
              "      <td>1.73</td>\n",
              "      <td>2</td>\n",
              "    </tr>\n",
              "    <tr>\n",
              "      <th>2</th>\n",
              "      <td>13/08/2022</td>\n",
              "      <td>Lecce</td>\n",
              "      <td>Inter</td>\n",
              "      <td>10.00</td>\n",
              "      <td>5.75</td>\n",
              "      <td>1.28</td>\n",
              "      <td>9.75</td>\n",
              "      <td>5.50</td>\n",
              "      <td>1.30</td>\n",
              "      <td>9.50</td>\n",
              "      <td>...</td>\n",
              "      <td>10.75</td>\n",
              "      <td>5.92</td>\n",
              "      <td>1.31</td>\n",
              "      <td>11.00</td>\n",
              "      <td>5.50</td>\n",
              "      <td>1.27</td>\n",
              "      <td>12.00</td>\n",
              "      <td>5.5</td>\n",
              "      <td>1.25</td>\n",
              "      <td>2</td>\n",
              "    </tr>\n",
              "    <tr>\n",
              "      <th>3</th>\n",
              "      <td>13/08/2022</td>\n",
              "      <td>Monza</td>\n",
              "      <td>Torino</td>\n",
              "      <td>2.60</td>\n",
              "      <td>3.30</td>\n",
              "      <td>2.75</td>\n",
              "      <td>2.55</td>\n",
              "      <td>3.25</td>\n",
              "      <td>2.80</td>\n",
              "      <td>2.60</td>\n",
              "      <td>...</td>\n",
              "      <td>2.64</td>\n",
              "      <td>3.36</td>\n",
              "      <td>2.90</td>\n",
              "      <td>2.50</td>\n",
              "      <td>3.25</td>\n",
              "      <td>2.80</td>\n",
              "      <td>2.55</td>\n",
              "      <td>3.1</td>\n",
              "      <td>2.88</td>\n",
              "      <td>2</td>\n",
              "    </tr>\n",
              "    <tr>\n",
              "      <th>4</th>\n",
              "      <td>14/08/2022</td>\n",
              "      <td>Fiorentina</td>\n",
              "      <td>Cremonese</td>\n",
              "      <td>1.36</td>\n",
              "      <td>5.00</td>\n",
              "      <td>8.50</td>\n",
              "      <td>1.39</td>\n",
              "      <td>4.80</td>\n",
              "      <td>7.75</td>\n",
              "      <td>1.40</td>\n",
              "      <td>...</td>\n",
              "      <td>1.39</td>\n",
              "      <td>5.33</td>\n",
              "      <td>8.49</td>\n",
              "      <td>1.36</td>\n",
              "      <td>4.60</td>\n",
              "      <td>9.00</td>\n",
              "      <td>1.33</td>\n",
              "      <td>4.8</td>\n",
              "      <td>9.50</td>\n",
              "      <td>1</td>\n",
              "    </tr>\n",
              "    <tr>\n",
              "      <th>...</th>\n",
              "      <td>...</td>\n",
              "      <td>...</td>\n",
              "      <td>...</td>\n",
              "      <td>...</td>\n",
              "      <td>...</td>\n",
              "      <td>...</td>\n",
              "      <td>...</td>\n",
              "      <td>...</td>\n",
              "      <td>...</td>\n",
              "      <td>...</td>\n",
              "      <td>...</td>\n",
              "      <td>...</td>\n",
              "      <td>...</td>\n",
              "      <td>...</td>\n",
              "      <td>...</td>\n",
              "      <td>...</td>\n",
              "      <td>...</td>\n",
              "      <td>...</td>\n",
              "      <td>...</td>\n",
              "      <td>...</td>\n",
              "      <td>...</td>\n",
              "    </tr>\n",
              "    <tr>\n",
              "      <th>20591</th>\n",
              "      <td>11/05/2019</td>\n",
              "      <td>Padova</td>\n",
              "      <td>Livorno</td>\n",
              "      <td>6.50</td>\n",
              "      <td>3.80</td>\n",
              "      <td>1.55</td>\n",
              "      <td>5.75</td>\n",
              "      <td>3.60</td>\n",
              "      <td>1.60</td>\n",
              "      <td>5.60</td>\n",
              "      <td>...</td>\n",
              "      <td>5.90</td>\n",
              "      <td>3.87</td>\n",
              "      <td>1.62</td>\n",
              "      <td>6.00</td>\n",
              "      <td>3.80</td>\n",
              "      <td>1.55</td>\n",
              "      <td>6.50</td>\n",
              "      <td>3.8</td>\n",
              "      <td>1.60</td>\n",
              "      <td>X</td>\n",
              "    </tr>\n",
              "    <tr>\n",
              "      <th>20592</th>\n",
              "      <td>11/05/2019</td>\n",
              "      <td>Palermo</td>\n",
              "      <td>Cittadella</td>\n",
              "      <td>1.66</td>\n",
              "      <td>3.50</td>\n",
              "      <td>5.50</td>\n",
              "      <td>1.67</td>\n",
              "      <td>3.60</td>\n",
              "      <td>5.00</td>\n",
              "      <td>1.70</td>\n",
              "      <td>...</td>\n",
              "      <td>1.77</td>\n",
              "      <td>3.47</td>\n",
              "      <td>5.28</td>\n",
              "      <td>1.70</td>\n",
              "      <td>3.60</td>\n",
              "      <td>5.00</td>\n",
              "      <td>1.73</td>\n",
              "      <td>3.6</td>\n",
              "      <td>5.20</td>\n",
              "      <td>X</td>\n",
              "    </tr>\n",
              "    <tr>\n",
              "      <th>20593</th>\n",
              "      <td>11/05/2019</td>\n",
              "      <td>Perugia</td>\n",
              "      <td>Cremonese</td>\n",
              "      <td>2.25</td>\n",
              "      <td>3.10</td>\n",
              "      <td>3.40</td>\n",
              "      <td>2.20</td>\n",
              "      <td>3.10</td>\n",
              "      <td>3.25</td>\n",
              "      <td>2.15</td>\n",
              "      <td>...</td>\n",
              "      <td>2.31</td>\n",
              "      <td>3.28</td>\n",
              "      <td>3.34</td>\n",
              "      <td>2.20</td>\n",
              "      <td>3.20</td>\n",
              "      <td>3.25</td>\n",
              "      <td>2.25</td>\n",
              "      <td>3.2</td>\n",
              "      <td>3.40</td>\n",
              "      <td>1</td>\n",
              "    </tr>\n",
              "    <tr>\n",
              "      <th>20594</th>\n",
              "      <td>11/05/2019</td>\n",
              "      <td>Pescara</td>\n",
              "      <td>Salernitana</td>\n",
              "      <td>2.15</td>\n",
              "      <td>3.20</td>\n",
              "      <td>3.50</td>\n",
              "      <td>2.30</td>\n",
              "      <td>3.10</td>\n",
              "      <td>3.10</td>\n",
              "      <td>2.15</td>\n",
              "      <td>...</td>\n",
              "      <td>2.27</td>\n",
              "      <td>3.16</td>\n",
              "      <td>3.57</td>\n",
              "      <td>2.15</td>\n",
              "      <td>3.25</td>\n",
              "      <td>3.40</td>\n",
              "      <td>2.20</td>\n",
              "      <td>3.3</td>\n",
              "      <td>3.40</td>\n",
              "      <td>1</td>\n",
              "    </tr>\n",
              "    <tr>\n",
              "      <th>20595</th>\n",
              "      <td>11/05/2019</td>\n",
              "      <td>Verona</td>\n",
              "      <td>Foggia</td>\n",
              "      <td>2.10</td>\n",
              "      <td>3.10</td>\n",
              "      <td>3.75</td>\n",
              "      <td>2.20</td>\n",
              "      <td>3.20</td>\n",
              "      <td>3.20</td>\n",
              "      <td>2.15</td>\n",
              "      <td>...</td>\n",
              "      <td>2.22</td>\n",
              "      <td>3.22</td>\n",
              "      <td>3.61</td>\n",
              "      <td>2.15</td>\n",
              "      <td>3.25</td>\n",
              "      <td>3.40</td>\n",
              "      <td>2.15</td>\n",
              "      <td>3.3</td>\n",
              "      <td>3.50</td>\n",
              "      <td>1</td>\n",
              "    </tr>\n",
              "  </tbody>\n",
              "</table>\n",
              "<p>7888 rows × 22 columns</p>\n",
              "</div>\n",
              "      <button class=\"colab-df-convert\" onclick=\"convertToInteractive('df-10cffe07-24ce-41fe-8a95-a97bb29e41e8')\"\n",
              "              title=\"Convert this dataframe to an interactive table.\"\n",
              "              style=\"display:none;\">\n",
              "        \n",
              "  <svg xmlns=\"http://www.w3.org/2000/svg\" height=\"24px\"viewBox=\"0 0 24 24\"\n",
              "       width=\"24px\">\n",
              "    <path d=\"M0 0h24v24H0V0z\" fill=\"none\"/>\n",
              "    <path d=\"M18.56 5.44l.94 2.06.94-2.06 2.06-.94-2.06-.94-.94-2.06-.94 2.06-2.06.94zm-11 1L8.5 8.5l.94-2.06 2.06-.94-2.06-.94L8.5 2.5l-.94 2.06-2.06.94zm10 10l.94 2.06.94-2.06 2.06-.94-2.06-.94-.94-2.06-.94 2.06-2.06.94z\"/><path d=\"M17.41 7.96l-1.37-1.37c-.4-.4-.92-.59-1.43-.59-.52 0-1.04.2-1.43.59L10.3 9.45l-7.72 7.72c-.78.78-.78 2.05 0 2.83L4 21.41c.39.39.9.59 1.41.59.51 0 1.02-.2 1.41-.59l7.78-7.78 2.81-2.81c.8-.78.8-2.07 0-2.86zM5.41 20L4 18.59l7.72-7.72 1.47 1.35L5.41 20z\"/>\n",
              "  </svg>\n",
              "      </button>\n",
              "      \n",
              "  <style>\n",
              "    .colab-df-container {\n",
              "      display:flex;\n",
              "      flex-wrap:wrap;\n",
              "      gap: 12px;\n",
              "    }\n",
              "\n",
              "    .colab-df-convert {\n",
              "      background-color: #E8F0FE;\n",
              "      border: none;\n",
              "      border-radius: 50%;\n",
              "      cursor: pointer;\n",
              "      display: none;\n",
              "      fill: #1967D2;\n",
              "      height: 32px;\n",
              "      padding: 0 0 0 0;\n",
              "      width: 32px;\n",
              "    }\n",
              "\n",
              "    .colab-df-convert:hover {\n",
              "      background-color: #E2EBFA;\n",
              "      box-shadow: 0px 1px 2px rgba(60, 64, 67, 0.3), 0px 1px 3px 1px rgba(60, 64, 67, 0.15);\n",
              "      fill: #174EA6;\n",
              "    }\n",
              "\n",
              "    [theme=dark] .colab-df-convert {\n",
              "      background-color: #3B4455;\n",
              "      fill: #D2E3FC;\n",
              "    }\n",
              "\n",
              "    [theme=dark] .colab-df-convert:hover {\n",
              "      background-color: #434B5C;\n",
              "      box-shadow: 0px 1px 3px 1px rgba(0, 0, 0, 0.15);\n",
              "      filter: drop-shadow(0px 1px 2px rgba(0, 0, 0, 0.3));\n",
              "      fill: #FFFFFF;\n",
              "    }\n",
              "  </style>\n",
              "\n",
              "      <script>\n",
              "        const buttonEl =\n",
              "          document.querySelector('#df-10cffe07-24ce-41fe-8a95-a97bb29e41e8 button.colab-df-convert');\n",
              "        buttonEl.style.display =\n",
              "          google.colab.kernel.accessAllowed ? 'block' : 'none';\n",
              "\n",
              "        async function convertToInteractive(key) {\n",
              "          const element = document.querySelector('#df-10cffe07-24ce-41fe-8a95-a97bb29e41e8');\n",
              "          const dataTable =\n",
              "            await google.colab.kernel.invokeFunction('convertToInteractive',\n",
              "                                                     [key], {});\n",
              "          if (!dataTable) return;\n",
              "\n",
              "          const docLinkHtml = 'Like what you see? Visit the ' +\n",
              "            '<a target=\"_blank\" href=https://colab.research.google.com/notebooks/data_table.ipynb>data table notebook</a>'\n",
              "            + ' to learn more about interactive tables.';\n",
              "          element.innerHTML = '';\n",
              "          dataTable['output_type'] = 'display_data';\n",
              "          await google.colab.output.renderOutput(dataTable, element);\n",
              "          const docLink = document.createElement('div');\n",
              "          docLink.innerHTML = docLinkHtml;\n",
              "          element.appendChild(docLink);\n",
              "        }\n",
              "      </script>\n",
              "    </div>\n",
              "  </div>\n",
              "  "
            ]
          },
          "metadata": {},
          "execution_count": 10
        }
      ]
    },
    {
      "cell_type": "code",
      "source": [
        "new_date=[]\n",
        "for date in dataset['Date']:\n",
        "  date_string = str(date)\n",
        "  timestamp=0.0\n",
        "  try:\n",
        "    timestamp = time.mktime(datetime.datetime.strptime(date_string, \"%d/%m/%Y\").timetuple())\n",
        "  except:\n",
        "    date_string=date_string[:len(date_string)-2]+'20'+date_string[len(date_string)-2:]\n",
        "    timestamp = time.mktime(datetime.datetime.strptime(date_string, \"%d/%m/%Y\").timetuple())\n",
        "  new_date.append(timestamp)\n",
        "dataset['Date']=new_date"
      ],
      "metadata": {
        "id": "bDw0CZbYGcYe"
      },
      "execution_count": 11,
      "outputs": []
    },
    {
      "cell_type": "code",
      "source": [
        "list_home_team=dataset['HomeTeam'].unique()\n",
        "list_home_team.sort()\n",
        "list_away_team=dataset['AwayTeam'].unique()\n",
        "list_away_team.sort()\n",
        "print(list_away_team==list_home_team)\n",
        "team_dict=dict(zip(list_home_team,np.arange(len(list_home_team))))\n",
        "for k in team_dict:\n",
        "  dataset['HomeTeam'][matches['HomeTeam']==k]=team_dict[k]\n",
        "  dataset['AwayTeam'][matches['AwayTeam']==k]=team_dict[k]\n",
        "\n",
        "dataset"
      ],
      "metadata": {
        "colab": {
          "base_uri": "https://localhost:8080/",
          "height": 528
        },
        "id": "0fWbUlK4MHzv",
        "outputId": "a2c7d710-4ed1-4975-d9b0-f2352b11209a"
      },
      "execution_count": 12,
      "outputs": [
        {
          "output_type": "stream",
          "name": "stdout",
          "text": [
            "[ True  True  True  True  True  True  True  True  True  True  True  True\n",
            "  True  True  True  True  True  True  True  True  True  True  True  True\n",
            "  True  True  True  True  True  True  True  True  True  True  True  True\n",
            "  True  True  True  True  True  True  True  True  True  True  True  True\n",
            "  True  True  True  True  True  True  True  True  True  True  True  True\n",
            "  True  True  True  True]\n"
          ]
        },
        {
          "output_type": "execute_result",
          "data": {
            "text/plain": [
              "               Date HomeTeam AwayTeam  B365H  B365D  B365A   BWH   BWD   BWA  \\\n",
              "0      1.660349e+09       31       57   1.44   4.75   7.00  1.41  4.75  7.50   \n",
              "1      1.660349e+09       48        2   4.33   3.90   1.75  4.33  3.80  1.77   \n",
              "2      1.660349e+09       29       24  10.00   5.75   1.28  9.75  5.50  1.30   \n",
              "3      1.660349e+09       33       55   2.60   3.30   2.75  2.55  3.25  2.80   \n",
              "4      1.660435e+09       19       16   1.36   5.00   8.50  1.39  4.80  7.75   \n",
              "...             ...      ...      ...    ...    ...    ...   ...   ...   ...   \n",
              "20591  1.557533e+09       36       30   6.50   3.80   1.55  5.75  3.60  1.60   \n",
              "20592  1.557533e+09       37       13   1.66   3.50   5.50  1.67  3.60  5.00   \n",
              "20593  1.557533e+09       39       16   2.25   3.10   3.40  2.20  3.10  3.25   \n",
              "20594  1.557533e+09       40       47   2.15   3.20   3.50  2.30  3.10  3.10   \n",
              "20595  1.557533e+09       60       20   2.10   3.10   3.75  2.20  3.20  3.20   \n",
              "\n",
              "        IWH  ...    PSH   PSD   PSA    WHH   WHD   WHA    VCH  VCD   VCA  \\\n",
              "0      1.40  ...   1.43  4.66  8.84   1.38  4.60  8.50   1.36  4.6  9.00   \n",
              "1      4.30  ...   4.72  3.98  1.78   4.50  3.80  1.73   4.75  3.7  1.73   \n",
              "2      9.50  ...  10.75  5.92  1.31  11.00  5.50  1.27  12.00  5.5  1.25   \n",
              "3      2.60  ...   2.64  3.36  2.90   2.50  3.25  2.80   2.55  3.1  2.88   \n",
              "4      1.40  ...   1.39  5.33  8.49   1.36  4.60  9.00   1.33  4.8  9.50   \n",
              "...     ...  ...    ...   ...   ...    ...   ...   ...    ...  ...   ...   \n",
              "20591  5.60  ...   5.90  3.87  1.62   6.00  3.80  1.55   6.50  3.8  1.60   \n",
              "20592  1.70  ...   1.77  3.47  5.28   1.70  3.60  5.00   1.73  3.6  5.20   \n",
              "20593  2.15  ...   2.31  3.28  3.34   2.20  3.20  3.25   2.25  3.2  3.40   \n",
              "20594  2.15  ...   2.27  3.16  3.57   2.15  3.25  3.40   2.20  3.3  3.40   \n",
              "20595  2.15  ...   2.22  3.22  3.61   2.15  3.25  3.40   2.15  3.3  3.50   \n",
              "\n",
              "       risultato  \n",
              "0              1  \n",
              "1              2  \n",
              "2              2  \n",
              "3              2  \n",
              "4              1  \n",
              "...          ...  \n",
              "20591          X  \n",
              "20592          X  \n",
              "20593          1  \n",
              "20594          1  \n",
              "20595          1  \n",
              "\n",
              "[7888 rows x 22 columns]"
            ],
            "text/html": [
              "\n",
              "  <div id=\"df-1e48bb52-d9ac-4aab-9a49-ffd8a122edc1\">\n",
              "    <div class=\"colab-df-container\">\n",
              "      <div>\n",
              "<style scoped>\n",
              "    .dataframe tbody tr th:only-of-type {\n",
              "        vertical-align: middle;\n",
              "    }\n",
              "\n",
              "    .dataframe tbody tr th {\n",
              "        vertical-align: top;\n",
              "    }\n",
              "\n",
              "    .dataframe thead th {\n",
              "        text-align: right;\n",
              "    }\n",
              "</style>\n",
              "<table border=\"1\" class=\"dataframe\">\n",
              "  <thead>\n",
              "    <tr style=\"text-align: right;\">\n",
              "      <th></th>\n",
              "      <th>Date</th>\n",
              "      <th>HomeTeam</th>\n",
              "      <th>AwayTeam</th>\n",
              "      <th>B365H</th>\n",
              "      <th>B365D</th>\n",
              "      <th>B365A</th>\n",
              "      <th>BWH</th>\n",
              "      <th>BWD</th>\n",
              "      <th>BWA</th>\n",
              "      <th>IWH</th>\n",
              "      <th>...</th>\n",
              "      <th>PSH</th>\n",
              "      <th>PSD</th>\n",
              "      <th>PSA</th>\n",
              "      <th>WHH</th>\n",
              "      <th>WHD</th>\n",
              "      <th>WHA</th>\n",
              "      <th>VCH</th>\n",
              "      <th>VCD</th>\n",
              "      <th>VCA</th>\n",
              "      <th>risultato</th>\n",
              "    </tr>\n",
              "  </thead>\n",
              "  <tbody>\n",
              "    <tr>\n",
              "      <th>0</th>\n",
              "      <td>1.660349e+09</td>\n",
              "      <td>31</td>\n",
              "      <td>57</td>\n",
              "      <td>1.44</td>\n",
              "      <td>4.75</td>\n",
              "      <td>7.00</td>\n",
              "      <td>1.41</td>\n",
              "      <td>4.75</td>\n",
              "      <td>7.50</td>\n",
              "      <td>1.40</td>\n",
              "      <td>...</td>\n",
              "      <td>1.43</td>\n",
              "      <td>4.66</td>\n",
              "      <td>8.84</td>\n",
              "      <td>1.38</td>\n",
              "      <td>4.60</td>\n",
              "      <td>8.50</td>\n",
              "      <td>1.36</td>\n",
              "      <td>4.6</td>\n",
              "      <td>9.00</td>\n",
              "      <td>1</td>\n",
              "    </tr>\n",
              "    <tr>\n",
              "      <th>1</th>\n",
              "      <td>1.660349e+09</td>\n",
              "      <td>48</td>\n",
              "      <td>2</td>\n",
              "      <td>4.33</td>\n",
              "      <td>3.90</td>\n",
              "      <td>1.75</td>\n",
              "      <td>4.33</td>\n",
              "      <td>3.80</td>\n",
              "      <td>1.77</td>\n",
              "      <td>4.30</td>\n",
              "      <td>...</td>\n",
              "      <td>4.72</td>\n",
              "      <td>3.98</td>\n",
              "      <td>1.78</td>\n",
              "      <td>4.50</td>\n",
              "      <td>3.80</td>\n",
              "      <td>1.73</td>\n",
              "      <td>4.75</td>\n",
              "      <td>3.7</td>\n",
              "      <td>1.73</td>\n",
              "      <td>2</td>\n",
              "    </tr>\n",
              "    <tr>\n",
              "      <th>2</th>\n",
              "      <td>1.660349e+09</td>\n",
              "      <td>29</td>\n",
              "      <td>24</td>\n",
              "      <td>10.00</td>\n",
              "      <td>5.75</td>\n",
              "      <td>1.28</td>\n",
              "      <td>9.75</td>\n",
              "      <td>5.50</td>\n",
              "      <td>1.30</td>\n",
              "      <td>9.50</td>\n",
              "      <td>...</td>\n",
              "      <td>10.75</td>\n",
              "      <td>5.92</td>\n",
              "      <td>1.31</td>\n",
              "      <td>11.00</td>\n",
              "      <td>5.50</td>\n",
              "      <td>1.27</td>\n",
              "      <td>12.00</td>\n",
              "      <td>5.5</td>\n",
              "      <td>1.25</td>\n",
              "      <td>2</td>\n",
              "    </tr>\n",
              "    <tr>\n",
              "      <th>3</th>\n",
              "      <td>1.660349e+09</td>\n",
              "      <td>33</td>\n",
              "      <td>55</td>\n",
              "      <td>2.60</td>\n",
              "      <td>3.30</td>\n",
              "      <td>2.75</td>\n",
              "      <td>2.55</td>\n",
              "      <td>3.25</td>\n",
              "      <td>2.80</td>\n",
              "      <td>2.60</td>\n",
              "      <td>...</td>\n",
              "      <td>2.64</td>\n",
              "      <td>3.36</td>\n",
              "      <td>2.90</td>\n",
              "      <td>2.50</td>\n",
              "      <td>3.25</td>\n",
              "      <td>2.80</td>\n",
              "      <td>2.55</td>\n",
              "      <td>3.1</td>\n",
              "      <td>2.88</td>\n",
              "      <td>2</td>\n",
              "    </tr>\n",
              "    <tr>\n",
              "      <th>4</th>\n",
              "      <td>1.660435e+09</td>\n",
              "      <td>19</td>\n",
              "      <td>16</td>\n",
              "      <td>1.36</td>\n",
              "      <td>5.00</td>\n",
              "      <td>8.50</td>\n",
              "      <td>1.39</td>\n",
              "      <td>4.80</td>\n",
              "      <td>7.75</td>\n",
              "      <td>1.40</td>\n",
              "      <td>...</td>\n",
              "      <td>1.39</td>\n",
              "      <td>5.33</td>\n",
              "      <td>8.49</td>\n",
              "      <td>1.36</td>\n",
              "      <td>4.60</td>\n",
              "      <td>9.00</td>\n",
              "      <td>1.33</td>\n",
              "      <td>4.8</td>\n",
              "      <td>9.50</td>\n",
              "      <td>1</td>\n",
              "    </tr>\n",
              "    <tr>\n",
              "      <th>...</th>\n",
              "      <td>...</td>\n",
              "      <td>...</td>\n",
              "      <td>...</td>\n",
              "      <td>...</td>\n",
              "      <td>...</td>\n",
              "      <td>...</td>\n",
              "      <td>...</td>\n",
              "      <td>...</td>\n",
              "      <td>...</td>\n",
              "      <td>...</td>\n",
              "      <td>...</td>\n",
              "      <td>...</td>\n",
              "      <td>...</td>\n",
              "      <td>...</td>\n",
              "      <td>...</td>\n",
              "      <td>...</td>\n",
              "      <td>...</td>\n",
              "      <td>...</td>\n",
              "      <td>...</td>\n",
              "      <td>...</td>\n",
              "      <td>...</td>\n",
              "    </tr>\n",
              "    <tr>\n",
              "      <th>20591</th>\n",
              "      <td>1.557533e+09</td>\n",
              "      <td>36</td>\n",
              "      <td>30</td>\n",
              "      <td>6.50</td>\n",
              "      <td>3.80</td>\n",
              "      <td>1.55</td>\n",
              "      <td>5.75</td>\n",
              "      <td>3.60</td>\n",
              "      <td>1.60</td>\n",
              "      <td>5.60</td>\n",
              "      <td>...</td>\n",
              "      <td>5.90</td>\n",
              "      <td>3.87</td>\n",
              "      <td>1.62</td>\n",
              "      <td>6.00</td>\n",
              "      <td>3.80</td>\n",
              "      <td>1.55</td>\n",
              "      <td>6.50</td>\n",
              "      <td>3.8</td>\n",
              "      <td>1.60</td>\n",
              "      <td>X</td>\n",
              "    </tr>\n",
              "    <tr>\n",
              "      <th>20592</th>\n",
              "      <td>1.557533e+09</td>\n",
              "      <td>37</td>\n",
              "      <td>13</td>\n",
              "      <td>1.66</td>\n",
              "      <td>3.50</td>\n",
              "      <td>5.50</td>\n",
              "      <td>1.67</td>\n",
              "      <td>3.60</td>\n",
              "      <td>5.00</td>\n",
              "      <td>1.70</td>\n",
              "      <td>...</td>\n",
              "      <td>1.77</td>\n",
              "      <td>3.47</td>\n",
              "      <td>5.28</td>\n",
              "      <td>1.70</td>\n",
              "      <td>3.60</td>\n",
              "      <td>5.00</td>\n",
              "      <td>1.73</td>\n",
              "      <td>3.6</td>\n",
              "      <td>5.20</td>\n",
              "      <td>X</td>\n",
              "    </tr>\n",
              "    <tr>\n",
              "      <th>20593</th>\n",
              "      <td>1.557533e+09</td>\n",
              "      <td>39</td>\n",
              "      <td>16</td>\n",
              "      <td>2.25</td>\n",
              "      <td>3.10</td>\n",
              "      <td>3.40</td>\n",
              "      <td>2.20</td>\n",
              "      <td>3.10</td>\n",
              "      <td>3.25</td>\n",
              "      <td>2.15</td>\n",
              "      <td>...</td>\n",
              "      <td>2.31</td>\n",
              "      <td>3.28</td>\n",
              "      <td>3.34</td>\n",
              "      <td>2.20</td>\n",
              "      <td>3.20</td>\n",
              "      <td>3.25</td>\n",
              "      <td>2.25</td>\n",
              "      <td>3.2</td>\n",
              "      <td>3.40</td>\n",
              "      <td>1</td>\n",
              "    </tr>\n",
              "    <tr>\n",
              "      <th>20594</th>\n",
              "      <td>1.557533e+09</td>\n",
              "      <td>40</td>\n",
              "      <td>47</td>\n",
              "      <td>2.15</td>\n",
              "      <td>3.20</td>\n",
              "      <td>3.50</td>\n",
              "      <td>2.30</td>\n",
              "      <td>3.10</td>\n",
              "      <td>3.10</td>\n",
              "      <td>2.15</td>\n",
              "      <td>...</td>\n",
              "      <td>2.27</td>\n",
              "      <td>3.16</td>\n",
              "      <td>3.57</td>\n",
              "      <td>2.15</td>\n",
              "      <td>3.25</td>\n",
              "      <td>3.40</td>\n",
              "      <td>2.20</td>\n",
              "      <td>3.3</td>\n",
              "      <td>3.40</td>\n",
              "      <td>1</td>\n",
              "    </tr>\n",
              "    <tr>\n",
              "      <th>20595</th>\n",
              "      <td>1.557533e+09</td>\n",
              "      <td>60</td>\n",
              "      <td>20</td>\n",
              "      <td>2.10</td>\n",
              "      <td>3.10</td>\n",
              "      <td>3.75</td>\n",
              "      <td>2.20</td>\n",
              "      <td>3.20</td>\n",
              "      <td>3.20</td>\n",
              "      <td>2.15</td>\n",
              "      <td>...</td>\n",
              "      <td>2.22</td>\n",
              "      <td>3.22</td>\n",
              "      <td>3.61</td>\n",
              "      <td>2.15</td>\n",
              "      <td>3.25</td>\n",
              "      <td>3.40</td>\n",
              "      <td>2.15</td>\n",
              "      <td>3.3</td>\n",
              "      <td>3.50</td>\n",
              "      <td>1</td>\n",
              "    </tr>\n",
              "  </tbody>\n",
              "</table>\n",
              "<p>7888 rows × 22 columns</p>\n",
              "</div>\n",
              "      <button class=\"colab-df-convert\" onclick=\"convertToInteractive('df-1e48bb52-d9ac-4aab-9a49-ffd8a122edc1')\"\n",
              "              title=\"Convert this dataframe to an interactive table.\"\n",
              "              style=\"display:none;\">\n",
              "        \n",
              "  <svg xmlns=\"http://www.w3.org/2000/svg\" height=\"24px\"viewBox=\"0 0 24 24\"\n",
              "       width=\"24px\">\n",
              "    <path d=\"M0 0h24v24H0V0z\" fill=\"none\"/>\n",
              "    <path d=\"M18.56 5.44l.94 2.06.94-2.06 2.06-.94-2.06-.94-.94-2.06-.94 2.06-2.06.94zm-11 1L8.5 8.5l.94-2.06 2.06-.94-2.06-.94L8.5 2.5l-.94 2.06-2.06.94zm10 10l.94 2.06.94-2.06 2.06-.94-2.06-.94-.94-2.06-.94 2.06-2.06.94z\"/><path d=\"M17.41 7.96l-1.37-1.37c-.4-.4-.92-.59-1.43-.59-.52 0-1.04.2-1.43.59L10.3 9.45l-7.72 7.72c-.78.78-.78 2.05 0 2.83L4 21.41c.39.39.9.59 1.41.59.51 0 1.02-.2 1.41-.59l7.78-7.78 2.81-2.81c.8-.78.8-2.07 0-2.86zM5.41 20L4 18.59l7.72-7.72 1.47 1.35L5.41 20z\"/>\n",
              "  </svg>\n",
              "      </button>\n",
              "      \n",
              "  <style>\n",
              "    .colab-df-container {\n",
              "      display:flex;\n",
              "      flex-wrap:wrap;\n",
              "      gap: 12px;\n",
              "    }\n",
              "\n",
              "    .colab-df-convert {\n",
              "      background-color: #E8F0FE;\n",
              "      border: none;\n",
              "      border-radius: 50%;\n",
              "      cursor: pointer;\n",
              "      display: none;\n",
              "      fill: #1967D2;\n",
              "      height: 32px;\n",
              "      padding: 0 0 0 0;\n",
              "      width: 32px;\n",
              "    }\n",
              "\n",
              "    .colab-df-convert:hover {\n",
              "      background-color: #E2EBFA;\n",
              "      box-shadow: 0px 1px 2px rgba(60, 64, 67, 0.3), 0px 1px 3px 1px rgba(60, 64, 67, 0.15);\n",
              "      fill: #174EA6;\n",
              "    }\n",
              "\n",
              "    [theme=dark] .colab-df-convert {\n",
              "      background-color: #3B4455;\n",
              "      fill: #D2E3FC;\n",
              "    }\n",
              "\n",
              "    [theme=dark] .colab-df-convert:hover {\n",
              "      background-color: #434B5C;\n",
              "      box-shadow: 0px 1px 3px 1px rgba(0, 0, 0, 0.15);\n",
              "      filter: drop-shadow(0px 1px 2px rgba(0, 0, 0, 0.3));\n",
              "      fill: #FFFFFF;\n",
              "    }\n",
              "  </style>\n",
              "\n",
              "      <script>\n",
              "        const buttonEl =\n",
              "          document.querySelector('#df-1e48bb52-d9ac-4aab-9a49-ffd8a122edc1 button.colab-df-convert');\n",
              "        buttonEl.style.display =\n",
              "          google.colab.kernel.accessAllowed ? 'block' : 'none';\n",
              "\n",
              "        async function convertToInteractive(key) {\n",
              "          const element = document.querySelector('#df-1e48bb52-d9ac-4aab-9a49-ffd8a122edc1');\n",
              "          const dataTable =\n",
              "            await google.colab.kernel.invokeFunction('convertToInteractive',\n",
              "                                                     [key], {});\n",
              "          if (!dataTable) return;\n",
              "\n",
              "          const docLinkHtml = 'Like what you see? Visit the ' +\n",
              "            '<a target=\"_blank\" href=https://colab.research.google.com/notebooks/data_table.ipynb>data table notebook</a>'\n",
              "            + ' to learn more about interactive tables.';\n",
              "          element.innerHTML = '';\n",
              "          dataTable['output_type'] = 'display_data';\n",
              "          await google.colab.output.renderOutput(dataTable, element);\n",
              "          const docLink = document.createElement('div');\n",
              "          docLink.innerHTML = docLinkHtml;\n",
              "          element.appendChild(docLink);\n",
              "        }\n",
              "      </script>\n",
              "    </div>\n",
              "  </div>\n",
              "  "
            ]
          },
          "metadata": {},
          "execution_count": 12
        }
      ]
    },
    {
      "cell_type": "code",
      "source": [
        "labels=['1','2','X']\n",
        "print(dataset['risultato'].value_counts())\n",
        "# dataset['risultato'][dataset['risultato']==\"1\"]=0\n",
        "# dataset['risultato'][dataset['risultato']==\"2\"]=1\n",
        "# dataset['risultato'][dataset['risultato']==\"X\"]=2"
      ],
      "metadata": {
        "colab": {
          "base_uri": "https://localhost:8080/"
        },
        "id": "qcigpscDCDI_",
        "outputId": "dbddcf66-614a-49c2-9850-1a50b2faf296"
      },
      "execution_count": 13,
      "outputs": [
        {
          "output_type": "stream",
          "name": "stdout",
          "text": [
            "1    3414\n",
            "X    2259\n",
            "2    2215\n",
            "Name: risultato, dtype: int64\n"
          ]
        }
      ]
    },
    {
      "cell_type": "code",
      "source": [
        "X=dataset.drop('risultato',axis=1)\n",
        "Y=dataset['risultato']\n",
        "\n",
        "x_train, x_test, y_train, y_test = train_test_split(X, Y, test_size=0.30,stratify=Y, random_state=42)\n",
        "x_validation, x_test, y_validation, y_test = train_test_split(x_test, y_test, test_size=0.33,stratify=y_test, random_state=42)\n",
        "\n",
        "y_train=y_train.astype('str')\n",
        "y_validation=y_validation.astype('str')\n",
        "y_test=y_test.astype('str')"
      ],
      "metadata": {
        "id": "GLpba1UCgrU8"
      },
      "execution_count": 14,
      "outputs": []
    },
    {
      "cell_type": "code",
      "source": [
        "print(y_train.value_counts())"
      ],
      "metadata": {
        "colab": {
          "base_uri": "https://localhost:8080/"
        },
        "id": "MYFMyomDR9cr",
        "outputId": "d75d20c2-b71e-4daf-e93d-7404d4c076c8"
      },
      "execution_count": 15,
      "outputs": [
        {
          "output_type": "stream",
          "name": "stdout",
          "text": [
            "1    2390\n",
            "X    1581\n",
            "2    1550\n",
            "Name: risultato, dtype: int64\n"
          ]
        }
      ]
    },
    {
      "cell_type": "code",
      "source": [
        "scaler=StandardScaler()\n",
        "x_train=pd.DataFrame(scaler.fit_transform(x_train))\n",
        "x_validation=pd.DataFrame(scaler.transform(x_validation))\n",
        "x_test=pd.DataFrame(scaler.transform(x_test))"
      ],
      "metadata": {
        "id": "ucgHWTPQSutE"
      },
      "execution_count": 16,
      "outputs": []
    },
    {
      "cell_type": "markdown",
      "metadata": {
        "id": "-09ewzLX8Jc5"
      },
      "source": [
        "---\n",
        "# MODEL TRAINING"
      ]
    },
    {
      "cell_type": "code",
      "execution_count": 17,
      "metadata": {
        "id": "y18qJaOmh5Tr"
      },
      "outputs": [],
      "source": [
        "#caricamento \n",
        "def load_model(model_path, model):\n",
        "    model=load(model_path)\n",
        "    return model\n",
        "\n",
        "#salvataggio\n",
        "def save_model(model,model_path):\n",
        "    dump(model,model_path)\n",
        "    return model\n",
        "    \n",
        "def verifica_esistenza_modello(file_name):\n",
        "    esiste=False\n",
        "    try:\n",
        "        my_file = Path(file_name)\n",
        "        if my_file.is_file():\n",
        "          esiste=True\n",
        "    except IOError:\n",
        "        print(\"File not accessible\")\n",
        "    print(\"Il modello addestrato esiste?\",esiste)\n",
        "    return esiste"
      ]
    },
    {
      "cell_type": "markdown",
      "source": [
        "---\n",
        "#SVM"
      ],
      "metadata": {
        "id": "mjXSeM20Vop0"
      }
    },
    {
      "cell_type": "code",
      "source": [
        "from sklearn.svm import SVC"
      ],
      "metadata": {
        "id": "TPLGvxyjWxRP"
      },
      "execution_count": 18,
      "outputs": []
    },
    {
      "cell_type": "code",
      "source": [
        "path_name='/content/drive/MyDrive/project/Model/'+\"model_prediction_risultato_match\"+\"_SVM_Scaler_\"+\"ep.model\"\n",
        "print(\"Path =\",path_name)\n",
        "exist_model=verifica_esistenza_modello(path_name)"
      ],
      "metadata": {
        "colab": {
          "base_uri": "https://localhost:8080/"
        },
        "id": "yJ3_48APPFjA",
        "outputId": "f9b2e572-38e1-488b-bc98-1f4dfdf745b1"
      },
      "execution_count": 19,
      "outputs": [
        {
          "output_type": "stream",
          "name": "stdout",
          "text": [
            "Path = /content/drive/MyDrive/project/Model/model_prediction_risultato_match_SVM_Scaler_ep.model\n",
            "Il modello addestrato esiste? True\n"
          ]
        }
      ]
    },
    {
      "cell_type": "code",
      "source": [
        "# SVC\n",
        "if exist_model==False:\n",
        "  model_SVC=SVC()\n",
        "  # define the ovr strategy\n",
        "  ovr_SVC = OneVsRestClassifier(model_SVC)\n",
        "  ovr_SVC.fit(x_train, y_train)\n",
        "  ovr_SVC=save_model(ovr_SVC,path_name)\n",
        "else:\n",
        "  model_SVC=SVC()\n",
        "  ovr_SVC = OneVsRestClassifier(model_SVC)\n",
        "  ovr_SVC=load_model(path_name, ovr_SVC)"
      ],
      "metadata": {
        "id": "ZOM93pWVEfbo"
      },
      "execution_count": 20,
      "outputs": []
    },
    {
      "cell_type": "code",
      "source": [
        "y_pred_SVC=ovr_SVC.predict(x_validation)\n",
        "print(accuracy_score(y_validation,y_pred_SVC))\n",
        "print(classification_report(y_validation,y_pred_SVC))"
      ],
      "metadata": {
        "colab": {
          "base_uri": "https://localhost:8080/"
        },
        "id": "UhScqnc0E04Y",
        "outputId": "c7bbaee4-29c8-47c5-e6b8-1237a9e0fed7"
      },
      "execution_count": 21,
      "outputs": [
        {
          "output_type": "stream",
          "name": "stdout",
          "text": [
            "0.5072555205047319\n",
            "              precision    recall  f1-score   support\n",
            "\n",
            "           1       0.52      0.81      0.63       686\n",
            "           2       0.52      0.45      0.48       445\n",
            "           X       0.39      0.11      0.17       454\n",
            "\n",
            "    accuracy                           0.51      1585\n",
            "   macro avg       0.47      0.46      0.43      1585\n",
            "weighted avg       0.48      0.51      0.46      1585\n",
            "\n"
          ]
        }
      ]
    },
    {
      "cell_type": "markdown",
      "source": [
        "---\n",
        "#RandomForestClassifier"
      ],
      "metadata": {
        "id": "vO_kASFOVsqd"
      }
    },
    {
      "cell_type": "code",
      "source": [
        "from sklearn.ensemble import RandomForestClassifier"
      ],
      "metadata": {
        "id": "zdUHhM0GVrnu"
      },
      "execution_count": 22,
      "outputs": []
    },
    {
      "cell_type": "code",
      "source": [
        "path_name='/content/drive/MyDrive/project/Model/'+\"model_prediction_risultato_match\"+\"_RandomForestClassifier_Scaler_\"+\"ep.model\"\n",
        "print(\"Path =\",path_name)\n",
        "exist_model=verifica_esistenza_modello(path_name)"
      ],
      "metadata": {
        "colab": {
          "base_uri": "https://localhost:8080/"
        },
        "outputId": "c886c444-0cc3-4b6b-fe5a-d81cfd90caa4",
        "id": "zCrnSJfXWIN1"
      },
      "execution_count": 23,
      "outputs": [
        {
          "output_type": "stream",
          "name": "stdout",
          "text": [
            "Path = /content/drive/MyDrive/project/Model/model_prediction_risultato_match_RandomForestClassifier_Scaler_ep.model\n",
            "Il modello addestrato esiste? True\n"
          ]
        }
      ]
    },
    {
      "cell_type": "code",
      "source": [
        "# RandomForest\n",
        "if exist_model==False:\n",
        "  model_RandomForest=RandomForestClassifier()\n",
        "  # define the ovr strategy\n",
        "  ovr_RandomForest = OneVsRestClassifier(model_RandomForest)\n",
        "  ovr_RandomForest.fit(x_train, y_train)\n",
        "  ovr_RandomForest=save_model(ovr_RandomForest,path_name)\n",
        "else:\n",
        "  model_RandomForest=RandomForestClassifier()\n",
        "  ovr_RandomForest = OneVsRestClassifier(model_RandomForest)\n",
        "  ovr_RandomForest=load_model(path_name, ovr_RandomForest)"
      ],
      "metadata": {
        "id": "ml6q9R5cWIN1"
      },
      "execution_count": 24,
      "outputs": []
    },
    {
      "cell_type": "code",
      "source": [
        "y_pred_RandomForest=ovr_RandomForest.predict(x_validation)\n",
        "print(accuracy_score(y_validation,y_pred_RandomForest))\n",
        "print(classification_report(y_validation,y_pred_RandomForest))"
      ],
      "metadata": {
        "colab": {
          "base_uri": "https://localhost:8080/"
        },
        "outputId": "6dbff061-dbc2-4141-cd96-4a6b2068de5a",
        "id": "0gGToQv-WIN1"
      },
      "execution_count": 25,
      "outputs": [
        {
          "output_type": "stream",
          "name": "stdout",
          "text": [
            "0.49842271293375395\n",
            "              precision    recall  f1-score   support\n",
            "\n",
            "           1       0.53      0.76      0.62       686\n",
            "           2       0.51      0.42      0.46       445\n",
            "           X       0.36      0.19      0.24       454\n",
            "\n",
            "    accuracy                           0.50      1585\n",
            "   macro avg       0.46      0.45      0.44      1585\n",
            "weighted avg       0.47      0.50      0.47      1585\n",
            "\n"
          ]
        }
      ]
    },
    {
      "cell_type": "markdown",
      "source": [
        "---\n",
        "#DecisionTreeClassifier"
      ],
      "metadata": {
        "id": "a0mGxALFW1gy"
      }
    },
    {
      "cell_type": "code",
      "source": [
        "from sklearn.tree import DecisionTreeClassifier"
      ],
      "metadata": {
        "id": "afTSE_1kW1gy"
      },
      "execution_count": 26,
      "outputs": []
    },
    {
      "cell_type": "code",
      "source": [
        "path_name='/content/drive/MyDrive/project/Model/'+\"model_prediction_risultato_match\"+\"_DecisionTree_Scaler_\"+\"ep.model\"\n",
        "print(\"Path =\",path_name)\n",
        "exist_model=verifica_esistenza_modello(path_name)"
      ],
      "metadata": {
        "colab": {
          "base_uri": "https://localhost:8080/"
        },
        "outputId": "cc85a78e-d3a5-40b9-eacc-2b0577a4ddcd",
        "id": "GX7QsyT8W1gz"
      },
      "execution_count": 27,
      "outputs": [
        {
          "output_type": "stream",
          "name": "stdout",
          "text": [
            "Path = /content/drive/MyDrive/project/Model/model_prediction_risultato_match_DecisionTree_Scaler_ep.model\n",
            "Il modello addestrato esiste? True\n"
          ]
        }
      ]
    },
    {
      "cell_type": "code",
      "source": [
        "# DecisionTree\n",
        "if exist_model==False:\n",
        "  model_DecisionTree=DecisionTreeClassifier()\n",
        "  # define the ovr strategy\n",
        "  ovr_DecisionTree = OneVsRestClassifier(model_DecisionTree)\n",
        "  ovr_DecisionTree.fit(x_train, y_train)\n",
        "  ovr_DecisionTree=save_model(ovr_DecisionTree,path_name)\n",
        "else:\n",
        "  model_DecisionTree=DecisionTreeClassifier()\n",
        "  ovr_DecisionTree = OneVsRestClassifier(model_DecisionTree)\n",
        "  ovr_DecisionTree=load_model(path_name, ovr_DecisionTree)"
      ],
      "metadata": {
        "id": "9Vfz_vmYW1gz"
      },
      "execution_count": 28,
      "outputs": []
    },
    {
      "cell_type": "code",
      "source": [
        "y_pred_DecisionTree=ovr_DecisionTree.predict(x_validation)\n",
        "print(accuracy_score(y_validation,y_pred_DecisionTree))\n",
        "print(classification_report(y_validation,y_pred_DecisionTree))"
      ],
      "metadata": {
        "colab": {
          "base_uri": "https://localhost:8080/"
        },
        "outputId": "53380f99-3f82-44fc-ccf1-d87c0dc0b495",
        "id": "Uf4zJxkdW1gz"
      },
      "execution_count": 29,
      "outputs": [
        {
          "output_type": "stream",
          "name": "stdout",
          "text": [
            "0.38422712933753944\n",
            "              precision    recall  f1-score   support\n",
            "\n",
            "           1       0.55      0.33      0.42       686\n",
            "           2       0.37      0.27      0.31       445\n",
            "           X       0.31      0.57      0.40       454\n",
            "\n",
            "    accuracy                           0.38      1585\n",
            "   macro avg       0.41      0.39      0.38      1585\n",
            "weighted avg       0.43      0.38      0.38      1585\n",
            "\n"
          ]
        }
      ]
    },
    {
      "cell_type": "markdown",
      "source": [
        "---\n",
        "#kNN"
      ],
      "metadata": {
        "id": "sfJwoPUpX4mS"
      }
    },
    {
      "cell_type": "code",
      "source": [
        "from sklearn.neighbors import KNeighborsClassifier"
      ],
      "metadata": {
        "id": "aHZrn958X4mX"
      },
      "execution_count": 30,
      "outputs": []
    },
    {
      "cell_type": "code",
      "source": [
        "path_name='/content/drive/MyDrive/project/Model/'+\"model_prediction_risultato_match\"+\"_KNearestNeighbors_Scaler_\"+\"ep.model\"\n",
        "print(\"Path =\",path_name)\n",
        "exist_model=verifica_esistenza_modello(path_name)"
      ],
      "metadata": {
        "colab": {
          "base_uri": "https://localhost:8080/"
        },
        "outputId": "c3dc2ae1-ee6f-4439-d30d-8af383fa2070",
        "id": "EDeCk_vsX4mX"
      },
      "execution_count": 31,
      "outputs": [
        {
          "output_type": "stream",
          "name": "stdout",
          "text": [
            "Path = /content/drive/MyDrive/project/Model/model_prediction_risultato_match_KNearestNeighbors_Scaler_ep.model\n",
            "Il modello addestrato esiste? True\n"
          ]
        }
      ]
    },
    {
      "cell_type": "code",
      "source": [
        "# kNN\n",
        "if exist_model==False:\n",
        "  model_kNN=KNeighborsClassifier()\n",
        "  # define the ovr strategy\n",
        "  ovr_kNN = OneVsRestClassifier(model_kNN)\n",
        "  ovr_kNN.fit(x_train, y_train)\n",
        "  ovr_kNN=save_model(ovr_kNN,path_name)\n",
        "else:\n",
        "  model_kNN=KNeighborsClassifier()\n",
        "  ovr_kNN = OneVsRestClassifier(model_kNN)\n",
        "  ovr_kNN=load_model(path_name, ovr_kNN)"
      ],
      "metadata": {
        "id": "VxKySTIlX4mX"
      },
      "execution_count": 32,
      "outputs": []
    },
    {
      "cell_type": "code",
      "source": [
        "y_pred_kNN=ovr_kNN.predict(x_validation)\n",
        "print(accuracy_score(y_validation,y_pred_kNN))\n",
        "print(classification_report(y_validation,y_pred_kNN))"
      ],
      "metadata": {
        "colab": {
          "base_uri": "https://localhost:8080/"
        },
        "outputId": "d1a00b13-603e-488b-f005-ab5ad8afe37d",
        "id": "yU-UHV9wX4mX"
      },
      "execution_count": 33,
      "outputs": [
        {
          "output_type": "stream",
          "name": "stdout",
          "text": [
            "0.4302839116719243\n",
            "              precision    recall  f1-score   support\n",
            "\n",
            "           1       0.55      0.53      0.54       686\n",
            "           2       0.40      0.38      0.39       445\n",
            "           X       0.29      0.33      0.31       454\n",
            "\n",
            "    accuracy                           0.43      1585\n",
            "   macro avg       0.42      0.41      0.41      1585\n",
            "weighted avg       0.44      0.43      0.43      1585\n",
            "\n"
          ]
        }
      ]
    },
    {
      "cell_type": "markdown",
      "source": [
        "---\n",
        "#AdaBoost Classifier\n",
        "\n"
      ],
      "metadata": {
        "id": "5vffOb-MZA0I"
      }
    },
    {
      "cell_type": "code",
      "source": [
        "from sklearn.ensemble import AdaBoostClassifier"
      ],
      "metadata": {
        "id": "sxG3ujz0ZA0N"
      },
      "execution_count": 34,
      "outputs": []
    },
    {
      "cell_type": "code",
      "source": [
        "path_name='/content/drive/MyDrive/project/Model/'+\"model_prediction_risultato_match\"+\"_AdaBoostClassifier_Scaler_\"+\"ep.model\"\n",
        "print(\"Path =\",path_name)\n",
        "exist_model=verifica_esistenza_modello(path_name)"
      ],
      "metadata": {
        "colab": {
          "base_uri": "https://localhost:8080/"
        },
        "outputId": "0fd0184c-8262-4e50-daf4-c49e8fe55540",
        "id": "6lqDh36wZA0O"
      },
      "execution_count": 35,
      "outputs": [
        {
          "output_type": "stream",
          "name": "stdout",
          "text": [
            "Path = /content/drive/MyDrive/project/Model/model_prediction_risultato_match_AdaBoostClassifier_Scaler_ep.model\n",
            "Il modello addestrato esiste? True\n"
          ]
        }
      ]
    },
    {
      "cell_type": "code",
      "source": [
        "# AdaBoostClassifier\n",
        "if exist_model==False:\n",
        "  model_AdaBoost=AdaBoostClassifier()\n",
        "  # define the ovr strategy\n",
        "  ovr_AdaBoost = OneVsRestClassifier(model_AdaBoost)\n",
        "  ovr_AdaBoost.fit(x_train, y_train)\n",
        "  ovr_AdaBoost=save_model(ovr_AdaBoost,path_name)\n",
        "else:\n",
        "  model_AdaBoost=AdaBoostClassifier()\n",
        "  ovr_AdaBoost = OneVsRestClassifier(model_AdaBoost)\n",
        "  ovr_AdaBoost=load_model(path_name, ovr_AdaBoost)"
      ],
      "metadata": {
        "id": "eEPosh4OZA0O"
      },
      "execution_count": 36,
      "outputs": []
    },
    {
      "cell_type": "code",
      "source": [
        "y_pred_AdaBoost=ovr_AdaBoost.predict(x_validation)\n",
        "print(accuracy_score(y_validation,y_pred_AdaBoost))\n",
        "print(classification_report(y_validation,y_pred_AdaBoost))"
      ],
      "metadata": {
        "colab": {
          "base_uri": "https://localhost:8080/"
        },
        "outputId": "2486e68f-48e0-4597-c781-606738bb5f75",
        "id": "Qd0gzv7yZA0O"
      },
      "execution_count": 37,
      "outputs": [
        {
          "output_type": "stream",
          "name": "stdout",
          "text": [
            "0.5041009463722398\n",
            "              precision    recall  f1-score   support\n",
            "\n",
            "           1       0.53      0.80      0.63       686\n",
            "           2       0.47      0.51      0.49       445\n",
            "           X       0.37      0.05      0.09       454\n",
            "\n",
            "    accuracy                           0.50      1585\n",
            "   macro avg       0.46      0.45      0.41      1585\n",
            "weighted avg       0.47      0.50      0.44      1585\n",
            "\n"
          ]
        }
      ]
    },
    {
      "cell_type": "markdown",
      "source": [
        "---\n",
        "#Neural Networks\n",
        "\n"
      ],
      "metadata": {
        "id": "f_If3I37Ze2g"
      }
    },
    {
      "cell_type": "code",
      "source": [
        "from tensorflow import keras"
      ],
      "metadata": {
        "id": "e9t9mXUlZA0O"
      },
      "execution_count": 38,
      "outputs": []
    },
    {
      "cell_type": "code",
      "execution_count": 39,
      "metadata": {
        "id": "ca3-1hiXYdbH"
      },
      "outputs": [],
      "source": [
        "#Costruiamo il network model\n",
        "def Neural_network_model():\n",
        "  model = keras.Sequential([\n",
        "    keras.layers.Dense(32,input_dim=21,activation='relu'),\n",
        "    keras.layers.Dense(16,activation='relu'),\n",
        "    keras.layers.Dropout(0.3),\n",
        "    keras.layers.Dense(8,activation='relu'),\n",
        "    keras.layers.Dense(3,activation='softmax')\n",
        "  ])\n",
        "  return model\n",
        "\n",
        "model=Neural_network_model()\n",
        "\n",
        "#Compila il modello model.compile\n",
        "model.compile(optimizer='sgd', loss='categorical_crossentropy', metrics=['accuracy'])"
      ]
    },
    {
      "cell_type": "code",
      "source": [
        "y_train_enc=pd.get_dummies(y_train)\n",
        "y_validation_enc=pd.get_dummies(y_validation)\n",
        "y_test_enc=pd.get_dummies(y_test)"
      ],
      "metadata": {
        "id": "FMsDIebGau7v"
      },
      "execution_count": 40,
      "outputs": []
    },
    {
      "cell_type": "code",
      "source": [
        "epochs=500\n",
        "path_name='/content/drive/MyDrive/project/Model/'+\"model_prediction_risultato_match\"+\"_NNClassifier_Scaler_\"+str(epochs)+\"_ep.model\"\n",
        "print(\"Path =\",path_name)\n",
        "exist_model=verifica_esistenza_modello(path_name)"
      ],
      "metadata": {
        "colab": {
          "base_uri": "https://localhost:8080/"
        },
        "id": "fh5yItcZb3Yc",
        "outputId": "e18cbf46-46c9-4fb7-ee9c-583512ecdcf0"
      },
      "execution_count": 41,
      "outputs": [
        {
          "output_type": "stream",
          "name": "stdout",
          "text": [
            "Path = /content/drive/MyDrive/project/Model/model_prediction_risultato_match_NNClassifier_Scaler_500_ep.model\n",
            "Il modello addestrato esiste? True\n"
          ]
        }
      ]
    },
    {
      "cell_type": "code",
      "source": [
        "# NeuralNet\n",
        "if exist_model==False:\n",
        "  history=model.fit(x_train,y_train_enc, epochs=epochs,validation_split=0.2)\n",
        "  history=save_model(history,path_name)\n",
        "else:\n",
        "  history=load_model(path_name, model)"
      ],
      "metadata": {
        "id": "1hUa_dkubQOu"
      },
      "execution_count": 42,
      "outputs": []
    },
    {
      "cell_type": "code",
      "source": [
        "plt.plot(history.history['accuracy'])\n",
        "plt.plot(history.history['val_accuracy'])"
      ],
      "metadata": {
        "colab": {
          "base_uri": "https://localhost:8080/",
          "height": 282
        },
        "id": "reP4PE1GcGvz",
        "outputId": "61326581-427b-4de2-d1d4-48ec977ecf31"
      },
      "execution_count": 43,
      "outputs": [
        {
          "output_type": "execute_result",
          "data": {
            "text/plain": [
              "[<matplotlib.lines.Line2D at 0x7fa7a8099210>]"
            ]
          },
          "metadata": {},
          "execution_count": 43
        },
        {
          "output_type": "display_data",
          "data": {
            "text/plain": [
              "<Figure size 432x288 with 1 Axes>"
            ],
            "image/png": "[encoded data removed]"
          },
          "metadata": {
            "needs_background": "light"
          }
        }
      ]
    },
    {
      "cell_type": "code",
      "source": [
        "plt.plot(history.history['loss'])\n",
        "plt.plot(history.history['val_loss'])"
      ],
      "metadata": {
        "colab": {
          "base_uri": "https://localhost:8080/",
          "height": 282
        },
        "id": "QpqQg4L1cXGg",
        "outputId": "c7f52d8a-b6b2-4d89-9669-eaba8512930e"
      },
      "execution_count": 44,
      "outputs": [
        {
          "output_type": "execute_result",
          "data": {
            "text/plain": [
              "[<matplotlib.lines.Line2D at 0x7fa7a7be48d0>]"
            ]
          },
          "metadata": {},
          "execution_count": 44
        },
        {
          "output_type": "display_data",
          "data": {
            "text/plain": [
              "<Figure size 432x288 with 1 Axes>"
            ],
            "image/png": "[encoded data removed]"
          },
          "metadata": {
            "needs_background": "light"
          }
        }
      ]
    },
    {
      "cell_type": "code",
      "source": [
        "y_pred_NN=model.predict(x_validation)\n",
        "y_pred_NN=np.argmax(y_pred_NN,axis=1)\n",
        "y_pred_NN_enc=pd.get_dummies(y_pred_NN)\n",
        "print(accuracy_score(y_validation_enc,y_pred_NN_enc))\n",
        "print(classification_report(y_validation_enc,y_pred_NN_enc))"
      ],
      "metadata": {
        "colab": {
          "base_uri": "https://localhost:8080/"
        },
        "id": "fYsFxLLOccTF",
        "outputId": "641c3243-c48a-492c-ca7c-6cd360f15f3e"
      },
      "execution_count": 45,
      "outputs": [
        {
          "output_type": "stream",
          "name": "stdout",
          "text": [
            "0.3665615141955836\n",
            "              precision    recall  f1-score   support\n",
            "\n",
            "           0       0.42      0.54      0.48       686\n",
            "           1       0.25      0.08      0.12       445\n",
            "           2       0.31      0.38      0.34       454\n",
            "\n",
            "   micro avg       0.37      0.37      0.37      1585\n",
            "   macro avg       0.33      0.34      0.31      1585\n",
            "weighted avg       0.34      0.37      0.34      1585\n",
            " samples avg       0.37      0.37      0.37      1585\n",
            "\n"
          ]
        }
      ]
    },
    {
      "cell_type": "markdown",
      "source": [
        "---\n",
        "Confronto su un nuovo dataset per determinare il classificatore migliore"
      ],
      "metadata": {
        "id": "QeBeSd5_jnw5"
      }
    },
    {
      "cell_type": "code",
      "source": [
        "ris_model=dict()\n",
        "\n",
        "y_pred_SVC_test=ovr_SVC.predict(x_test)\n",
        "acc_prediction_SVC=accuracy_score(y_test,y_pred_SVC_test)\n",
        "classification_report_prediction_SVC=classification_report(y_test,y_pred_SVC_test)\n",
        "weighted_avg_SVC=float(classification_report_prediction_SVC.split('weighted avg')[1].split()[2])\n",
        "print((\"_\"*55)+\"\\nSVC\\naccuracy:\",acc_prediction_SVC,\"\\nweighted avg:\",weighted_avg_SVC)\n",
        "print(classification_report_prediction_SVC)\n",
        "ris_model['SVC']=weighted_avg_SVC\n",
        "\n",
        "y_pred_RandomForest_test=ovr_RandomForest.predict(x_test)\n",
        "acc_prediction_RandomForest=accuracy_score(y_test,y_pred_RandomForest_test)\n",
        "classification_report_prediction_RandomForest=classification_report(y_test,y_pred_RandomForest_test)\n",
        "weighted_avg_RandomForest=float(classification_report_prediction_RandomForest.split('weighted avg')[1].split()[2])\n",
        "print((\"_\"*55)+\"\\nRandomForest\\naccuracy:\",acc_prediction_RandomForest,\"\\nweighted avg:\",weighted_avg_RandomForest)\n",
        "print(classification_report_prediction_RandomForest)\n",
        "ris_model['RandomForest']=weighted_avg_RandomForest\n",
        "\n",
        "y_pred_DecisionTree_test=ovr_DecisionTree.predict(x_test)\n",
        "acc_prediction_DecisionTree=accuracy_score(y_test,y_pred_DecisionTree_test)\n",
        "classification_report_prediction_DecisionTree=classification_report(y_test,y_pred_DecisionTree_test)\n",
        "weighted_avg_DecisionTree=float(classification_report_prediction_DecisionTree.split('weighted avg')[1].split()[2])\n",
        "print((\"_\"*55)+\"\\nDecisionTree\\naccuracy:\",acc_prediction_DecisionTree,\"\\nweighted avg:\",weighted_avg_DecisionTree)\n",
        "print(classification_report_prediction_DecisionTree)\n",
        "ris_model['DecisionTree']=weighted_avg_DecisionTree\n",
        "\n",
        "y_pred_kNN_test=ovr_kNN.predict(x_test)\n",
        "acc_prediction_kNN=accuracy_score(y_test,y_pred_kNN_test)\n",
        "classification_report_prediction_kNN=classification_report(y_test,y_pred_kNN_test)\n",
        "weighted_avg_kNN=float(classification_report_prediction_kNN.split('weighted avg')[1].split()[2])\n",
        "print((\"_\"*55)+\"\\nkNN\\naccuracy:\",acc_prediction_kNN,\"\\nweighted avg:\",weighted_avg_kNN)\n",
        "print(classification_report_prediction_kNN)\n",
        "ris_model['kNN']=weighted_avg_kNN\n",
        "\n",
        "y_pred_AdaBoost_test=ovr_AdaBoost.predict(x_test)\n",
        "acc_prediction_AdaBoost=accuracy_score(y_test,y_pred_AdaBoost_test)\n",
        "classification_report_prediction_AdaBoost=classification_report(y_test,y_pred_AdaBoost_test)\n",
        "weighted_avg_AdaBoost=float(classification_report_prediction_AdaBoost.split('weighted avg')[1].split()[2])\n",
        "print((\"_\"*55)+\"\\nAdaBoost\\naccuracy:\",acc_prediction_AdaBoost,\"\\nweighted avg:\",weighted_avg_AdaBoost)\n",
        "print(classification_report_prediction_AdaBoost)\n",
        "ris_model['AdaBoost']=weighted_avg_AdaBoost\n",
        "\n",
        "y_pred_NN_test=model.predict(x_test)\n",
        "y_pred_NN_test=np.argmax(y_pred_NN_test,axis=1)\n",
        "y_pred_NN_test_enc=pd.get_dummies(y_pred_NN_test)\n",
        "acc_prediction_NN=accuracy_score(y_test_enc,y_pred_NN_test_enc)\n",
        "classification_report_prediction_NN=classification_report(y_test_enc,y_pred_NN_test_enc)\n",
        "weighted_avg_NN=float(classification_report_prediction_NN.split('weighted avg')[1].split()[2])\n",
        "print((\"_\"*55)+\"\\nNeuralNetwork\\naccuracy:\",acc_prediction_NN,\"\\nweighted avg:\",weighted_avg_NN)\n",
        "print(classification_report_prediction_NN)\n",
        "ris_model['NeuralNetwork']=weighted_avg_NN\n",
        "\n",
        "max_acc_model=max(ris_model.values())\n",
        "print(\"Il miglior modello è :\",list(ris_model.keys())[list(ris_model.values()).index(max_acc_model)])"
      ],
      "metadata": {
        "colab": {
          "base_uri": "https://localhost:8080/"
        },
        "id": "rNXoDPGesPQD",
        "outputId": "3ae58667-bcc5-4c8b-9604-d0458d6978ba"
      },
      "execution_count": 46,
      "outputs": [
        {
          "output_type": "stream",
          "name": "stdout",
          "text": [
            "_______________________________________________________\n",
            "SVC\n",
            "accuracy: 0.4948849104859335 \n",
            "weighted avg: 0.44\n",
            "              precision    recall  f1-score   support\n",
            "\n",
            "           1       0.52      0.78      0.62       338\n",
            "           2       0.50      0.51      0.51       220\n",
            "           X       0.22      0.05      0.09       224\n",
            "\n",
            "    accuracy                           0.49       782\n",
            "   macro avg       0.41      0.45      0.41       782\n",
            "weighted avg       0.43      0.49      0.44       782\n",
            "\n",
            "_______________________________________________________\n",
            "RandomForest\n",
            "accuracy: 0.4744245524296675 \n",
            "weighted avg: 0.45\n",
            "              precision    recall  f1-score   support\n",
            "\n",
            "           1       0.52      0.69      0.59       338\n",
            "           2       0.49      0.46      0.48       220\n",
            "           X       0.30      0.17      0.21       224\n",
            "\n",
            "    accuracy                           0.47       782\n",
            "   macro avg       0.43      0.44      0.43       782\n",
            "weighted avg       0.45      0.47      0.45       782\n",
            "\n",
            "_______________________________________________________\n",
            "DecisionTree\n",
            "accuracy: 0.35421994884910485 \n",
            "weighted avg: 0.35\n",
            "              precision    recall  f1-score   support\n",
            "\n",
            "           1       0.52      0.30      0.38       338\n",
            "           2       0.32      0.25      0.28       220\n",
            "           X       0.29      0.55      0.38       224\n",
            "\n",
            "    accuracy                           0.35       782\n",
            "   macro avg       0.38      0.36      0.35       782\n",
            "weighted avg       0.40      0.35      0.35       782\n",
            "\n",
            "_______________________________________________________\n",
            "kNN\n",
            "accuracy: 0.4053708439897698 \n",
            "weighted avg: 0.41\n",
            "              precision    recall  f1-score   support\n",
            "\n",
            "           1       0.53      0.46      0.49       338\n",
            "           2       0.40      0.39      0.40       220\n",
            "           X       0.28      0.34      0.31       224\n",
            "\n",
            "    accuracy                           0.41       782\n",
            "   macro avg       0.40      0.40      0.40       782\n",
            "weighted avg       0.42      0.41      0.41       782\n",
            "\n",
            "_______________________________________________________\n",
            "AdaBoost\n",
            "accuracy: 0.4859335038363171 \n",
            "weighted avg: 0.43\n",
            "              precision    recall  f1-score   support\n",
            "\n",
            "           1       0.52      0.74      0.61       338\n",
            "           2       0.47      0.55      0.50       220\n",
            "           X       0.26      0.05      0.08       224\n",
            "\n",
            "    accuracy                           0.49       782\n",
            "   macro avg       0.41      0.44      0.40       782\n",
            "weighted avg       0.43      0.49      0.43       782\n",
            "\n",
            "_______________________________________________________\n",
            "NeuralNetwork\n",
            "accuracy: 0.3657289002557545 \n",
            "weighted avg: 0.33\n",
            "              precision    recall  f1-score   support\n",
            "\n",
            "           0       0.43      0.55      0.48       338\n",
            "           1       0.18      0.06      0.09       220\n",
            "           2       0.32      0.38      0.35       224\n",
            "\n",
            "   micro avg       0.37      0.37      0.37       782\n",
            "   macro avg       0.31      0.33      0.31       782\n",
            "weighted avg       0.33      0.37      0.33       782\n",
            " samples avg       0.37      0.37      0.37       782\n",
            "\n",
            "Il miglior modello è : RandomForest\n"
          ]
        }
      ]
    },
    {
      "cell_type": "markdown",
      "source": [
        "Se confrontiamo i rapporti di classificazione di tutti i classificatori che abbiamo provato, possiamo vedere che il classificatore RandomForest ha ottenuto i risultati migliori. Possiamo eseguire l'ottimizzazione degli iperparametri per AdaBoost per migliorare le prestazioni e trovare il miglior set di valori di iperparametri. Userò GridSearchCV per ottimizzare i parametri learning_rate e n_estimators. Come metrica di punteggio, abbiamo scelto \"f1_weighted\" che assegna un peso di classe in base alla distribuzione delle classi. "
      ],
      "metadata": {
        "id": "Hzpu7LcBth6d"
      }
    },
    {
      "cell_type": "markdown",
      "source": [
        "## RandomForest OPT"
      ],
      "metadata": {
        "id": "7elNiS-CBNcs"
      }
    },
    {
      "cell_type": "code",
      "source": [
        "from sklearn.model_selection import GridSearchCV\n",
        "path_name='/content/drive/MyDrive/project/Model/'+\"model_prediction_risultato_match\"+\"_RandomForestClassifier_Scaler_OPT_\"+\"ep.model\"\n",
        "print(\"Path =\",path_name)\n",
        "exist_model=verifica_esistenza_modello(path_name)\n",
        "\n",
        "\n",
        "# RandomForest\n",
        "if exist_model==False:\n",
        "  params={\n",
        "    'estimator__bootstrap': [True, False],\n",
        "    'estimator__max_depth': [10, 20, None],\n",
        "    'estimator__max_features': ['auto', 'sqrt'],\n",
        "    'estimator__min_samples_leaf': [1, 2],\n",
        "    'estimator__min_samples_split': [2, 4],\n",
        "    'estimator__n_estimators': [10, 20]\n",
        "  }\n",
        "  classes=y_train.unique()\n",
        "  model_RandomForest=RandomForestClassifier()\n",
        "  ovr_RandomForest = OneVsRestClassifier(model_RandomForest)\n",
        "  grid_clf=GridSearchCV(estimator=ovr_RandomForest, scoring='f1_weighted',param_grid=params,cv=5,n_jobs=-1,verbose=3)\n",
        "  grid_clf.fit(x_train,y_train)\n",
        "  print(\"the best parameters are: \",grid_clf.best_estimator_)\n",
        "  # model_RandomForest=grid_clf.best_estimator_\n",
        "\n",
        "  # # define the ovr strategy\n",
        "  # ovr_RandomForest = OneVsRestClassifier(model_RandomForest)\n",
        "  ovr_RandomForest=grid_clf.best_estimator_\n",
        "  ovr_RandomForest.fit(x_train, y_train)\n",
        "  ovr_RandomForest=save_model(ovr_RandomForest,path_name)\n",
        "else:\n",
        "  model_RandomForest=RandomForestClassifier()\n",
        "  ovr_RandomForest = OneVsRestClassifier(model_RandomForest)\n",
        "  ovr_RandomForest=load_model(path_name, ovr_RandomForest)"
      ],
      "metadata": {
        "colab": {
          "base_uri": "https://localhost:8080/"
        },
        "id": "mlSj4uqJkfU5",
        "outputId": "56d4d788-2e8c-4eb2-b4ba-58d15bdf3713"
      },
      "execution_count": 86,
      "outputs": [
        {
          "output_type": "stream",
          "name": "stdout",
          "text": [
            "Path = /content/drive/MyDrive/project/Model/model_prediction_risultato_match_RandomForestClassifier_Scaler_OPT_ep.model\n",
            "Il modello addestrato esiste? False\n",
            "Fitting 5 folds for each of 96 candidates, totalling 480 fits\n",
            "the best parameters are:  OneVsRestClassifier(estimator=RandomForestClassifier(min_samples_leaf=2,\n",
            "                                                     n_estimators=20))\n"
          ]
        }
      ]
    },
    {
      "cell_type": "code",
      "source": [
        "y_pred_RandomForest=ovr_RandomForest.predict(x_validation)\n",
        "print(accuracy_score(y_validation,y_pred_RandomForest))\n",
        "print(classification_report(y_validation,y_pred_RandomForest))"
      ],
      "metadata": {
        "colab": {
          "base_uri": "https://localhost:8080/"
        },
        "id": "ZSc2hu_y7uCV",
        "outputId": "517c9b12-98ba-4f92-da6b-0ed1984e9e17"
      },
      "execution_count": 87,
      "outputs": [
        {
          "output_type": "stream",
          "name": "stdout",
          "text": [
            "0.4971608832807571\n",
            "              precision    recall  f1-score   support\n",
            "\n",
            "           1       0.54      0.75      0.63       686\n",
            "           2       0.51      0.41      0.46       445\n",
            "           X       0.33      0.20      0.25       454\n",
            "\n",
            "    accuracy                           0.50      1585\n",
            "   macro avg       0.46      0.45      0.44      1585\n",
            "weighted avg       0.47      0.50      0.47      1585\n",
            "\n"
          ]
        }
      ]
    },
    {
      "cell_type": "markdown",
      "source": [
        "## SVC OPT"
      ],
      "metadata": {
        "id": "Vr1TjzhPBTyP"
      }
    },
    {
      "cell_type": "code",
      "source": [
        "path_name='/content/drive/MyDrive/project/Model/'+\"model_prediction_risultato_match\"+\"_SVM_Scaler_OPT_\"+\"ep.model\"\n",
        "print(\"Path =\",path_name)\n",
        "exist_model=verifica_esistenza_modello(path_name)\n",
        "# RandomForest\n",
        "if exist_model==False:\n",
        "  params={\n",
        "    \"estimator__C\": np.arange(0,6,2),\n",
        "    \"estimator__kernel\": [\"linear\",\"poly\",\"rbf\"],\n",
        "    \"estimator__degree\":np.arange(1,5)\n",
        "  }\n",
        "  classes=y_train.unique()\n",
        "  model_SVC=SVC()\n",
        "  ovr_SVC = OneVsRestClassifier(model_SVC)\n",
        "  grid_clf=GridSearchCV(estimator=ovr_SVC, scoring='f1_weighted',param_grid=params,cv=5,n_jobs=-1,verbose=3)\n",
        "  grid_clf.fit(x_train,y_train)\n",
        "  print(\"the best parameters are: \",grid_clf.best_estimator_)\n",
        "  \n",
        "  ovr_SVC = grid_clf.best_estimator_\n",
        "  ovr_SVC.fit(x_train, y_train)\n",
        "  ovr_SVC=save_model(ovr_SVC,path_name)\n",
        "else:\n",
        "  model_SVC=SVC()\n",
        "  ovr_SVC = OneVsRestClassifier(model_SVC)\n",
        "  ovr_SVC=load_model(path_name, ovr_SVC)"
      ],
      "metadata": {
        "colab": {
          "base_uri": "https://localhost:8080/"
        },
        "outputId": "142d2650-c091-4afd-fc84-5e93c6c5b487",
        "id": "PD9tZrWm-7NV"
      },
      "execution_count": 88,
      "outputs": [
        {
          "output_type": "stream",
          "name": "stdout",
          "text": [
            "Path = /content/drive/MyDrive/project/Model/model_prediction_risultato_match_SVM_Scaler_OPT_ep.model\n",
            "Il modello addestrato esiste? False\n",
            "Fitting 5 folds for each of 36 candidates, totalling 180 fits\n",
            "the best parameters are:  OneVsRestClassifier(estimator=SVC(C=2, degree=1))\n"
          ]
        }
      ]
    },
    {
      "cell_type": "code",
      "source": [
        "y_pred_SVC=ovr_SVC.predict(x_validation)\n",
        "print(accuracy_score(y_validation,y_pred_SVC))\n",
        "print(classification_report(y_validation,y_pred_SVC))"
      ],
      "metadata": {
        "colab": {
          "base_uri": "https://localhost:8080/"
        },
        "outputId": "257a7f73-8a8a-4a71-c284-6742a4243358",
        "id": "PfXj6J2C-7NW"
      },
      "execution_count": 89,
      "outputs": [
        {
          "output_type": "stream",
          "name": "stdout",
          "text": [
            "0.5072555205047319\n",
            "              precision    recall  f1-score   support\n",
            "\n",
            "           1       0.52      0.82      0.63       686\n",
            "           2       0.52      0.44      0.48       445\n",
            "           X       0.38      0.10      0.16       454\n",
            "\n",
            "    accuracy                           0.51      1585\n",
            "   macro avg       0.47      0.45      0.42      1585\n",
            "weighted avg       0.48      0.51      0.45      1585\n",
            "\n"
          ]
        }
      ]
    },
    {
      "cell_type": "markdown",
      "source": [
        "## ADABOOST OPT"
      ],
      "metadata": {
        "id": "sphFAdUGBbl0"
      }
    },
    {
      "cell_type": "code",
      "source": [
        "path_name='/content/drive/MyDrive/project/Model/'+\"model_prediction_risultato_match\"+\"_AdaBoostClassifier_Scaler_OPT_\"+\"ep.model\"\n",
        "print(\"Path =\",path_name)\n",
        "exist_model=verifica_esistenza_modello(path_name)\n",
        "# AdaBoostClassifier\n",
        "if exist_model==False:\n",
        "  params={\n",
        "    \"estimator__n_estimators\": np.arange(10,100,10),\n",
        "    \"estimator__learning_rate\": [0.05, 0.1, 1]\n",
        "  }\n",
        "  classes=y_train.unique()\n",
        "  model_AdaBoost=AdaBoostClassifier()\n",
        "  ovr_AdaBoost = OneVsRestClassifier(model_AdaBoost)\n",
        "  grid_clf=GridSearchCV(estimator=ovr_AdaBoost, scoring='f1_weighted',param_grid=params,cv=5,n_jobs=-1,verbose=3)\n",
        "  grid_clf.fit(x_train,y_train)\n",
        "  print(\"the best parameters are: \",grid_clf.best_estimator_)\n",
        "  \n",
        "  ovr_AdaBoost = grid_clf.best_estimator_\n",
        "  ovr_AdaBoost.fit(x_train, y_train)\n",
        "  ovr_AdaBoost=save_model(ovr_AdaBoost,path_name)\n",
        "else:\n",
        "  model_AdaBoost=AdaBoostClassifier()\n",
        "  ovr_AdaBoost = OneVsRestClassifier(model_AdaBoost)\n",
        "  ovr_AdaBoost=load_model(path_name, ovr_AdaBoost)"
      ],
      "metadata": {
        "colab": {
          "base_uri": "https://localhost:8080/"
        },
        "outputId": "a7c250aa-cb9d-4ed6-c45b-c7dcb96b8c69",
        "id": "qifiQreRBbl1"
      },
      "execution_count": 71,
      "outputs": [
        {
          "output_type": "stream",
          "name": "stdout",
          "text": [
            "Path = /content/drive/MyDrive/project/Model/model_prediction_risultato_match_AdaBoostClassifier_Scaler_OPT_ep.model\n",
            "Il modello addestrato esiste? False\n",
            "the best parameters are:  OneVsRestClassifier(estimator=AdaBoostClassifier(learning_rate=1,\n",
            "                                                 n_estimators=90))\n"
          ]
        }
      ]
    },
    {
      "cell_type": "code",
      "source": [
        "y_pred_AdaBoost=ovr_AdaBoost.predict(x_validation)\n",
        "print(accuracy_score(y_validation,y_pred_AdaBoost))\n",
        "print(classification_report(y_validation,y_pred_AdaBoost))"
      ],
      "metadata": {
        "colab": {
          "base_uri": "https://localhost:8080/"
        },
        "outputId": "21992ab4-5f77-465b-e295-e14409355fc3",
        "id": "otByw8IsBbl1"
      },
      "execution_count": 72,
      "outputs": [
        {
          "output_type": "stream",
          "name": "stdout",
          "text": [
            "0.4971608832807571\n",
            "              precision    recall  f1-score   support\n",
            "\n",
            "           1       0.52      0.80      0.63       686\n",
            "           2       0.48      0.47      0.48       445\n",
            "           X       0.30      0.06      0.10       454\n",
            "\n",
            "    accuracy                           0.50      1585\n",
            "   macro avg       0.43      0.44      0.40      1585\n",
            "weighted avg       0.45      0.50      0.44      1585\n",
            "\n"
          ]
        }
      ]
    },
    {
      "cell_type": "markdown",
      "source": [
        "## DecisionTree OPT"
      ],
      "metadata": {
        "id": "Qy5kgaS3C26x"
      }
    },
    {
      "cell_type": "code",
      "source": [
        "path_name='/content/drive/MyDrive/project/Model/'+\"model_prediction_risultato_match\"+\"_DecisionTree_Scaler_OPT_\"+\"ep.model\"\n",
        "print(\"Path =\",path_name)\n",
        "exist_model=verifica_esistenza_modello(path_name)\n",
        "# RandomForest\n",
        "if exist_model==False:\n",
        "  params={\n",
        "    \"estimator__criterion\": ['gini', 'entropy'],\n",
        "    \"estimator__max_depth\": [2,4,6,8,10,12]\n",
        "  }\n",
        "  classes=y_train.unique()\n",
        "  model_DecisionTree=DecisionTreeClassifier()\n",
        "  ovr_DecisionTree = OneVsRestClassifier(model_DecisionTree)\n",
        "  grid_clf=GridSearchCV(estimator=ovr_DecisionTree, scoring='f1_weighted',param_grid=params,cv=5,n_jobs=-1,verbose=3)\n",
        "  grid_clf.fit(x_train,y_train)\n",
        "  print(\"the best parameters are: \",grid_clf.best_estimator_)\n",
        "  \n",
        "  ovr_DecisionTree = grid_clf.best_estimator_\n",
        "  ovr_DecisionTree.fit(x_train, y_train)\n",
        "  ovr_DecisionTree=save_model(ovr_DecisionTree,path_name)\n",
        "else:\n",
        "  model_DecisionTree=DecisionTreeClassifier()\n",
        "  ovr_DecisionTree = OneVsRestClassifier(model_DecisionTree)\n",
        "  ovr_DecisionTree=load_model(path_name, ovr_DecisionTree)"
      ],
      "metadata": {
        "colab": {
          "base_uri": "https://localhost:8080/"
        },
        "outputId": "07c1f17c-1de7-4bc4-f32a-dccc30eeb2a9",
        "id": "WaPhLSF7C262"
      },
      "execution_count": 82,
      "outputs": [
        {
          "output_type": "stream",
          "name": "stdout",
          "text": [
            "Path = /content/drive/MyDrive/project/Model/model_prediction_risultato_match_DecisionTree_Scaler_OPT_ep.model\n",
            "Il modello addestrato esiste? False\n",
            "Fitting 5 folds for each of 12 candidates, totalling 60 fits\n",
            "the best parameters are:  OneVsRestClassifier(estimator=DecisionTreeClassifier(criterion='entropy',\n",
            "                                                     max_depth=8))\n"
          ]
        }
      ]
    },
    {
      "cell_type": "code",
      "source": [
        "y_pred_DecisionTree=ovr_DecisionTree.predict(x_validation)\n",
        "print(accuracy_score(y_validation,y_pred_DecisionTree))\n",
        "print(classification_report(y_validation,y_pred_DecisionTree))"
      ],
      "metadata": {
        "colab": {
          "base_uri": "https://localhost:8080/"
        },
        "outputId": "829688d3-abe7-4152-ab2c-67c39a4552c6",
        "id": "vCN7aI5LC263"
      },
      "execution_count": 83,
      "outputs": [
        {
          "output_type": "stream",
          "name": "stdout",
          "text": [
            "0.47318611987381703\n",
            "              precision    recall  f1-score   support\n",
            "\n",
            "           1       0.50      0.78      0.61       686\n",
            "           2       0.49      0.36      0.42       445\n",
            "           X       0.28      0.11      0.16       454\n",
            "\n",
            "    accuracy                           0.47      1585\n",
            "   macro avg       0.42      0.42      0.40      1585\n",
            "weighted avg       0.43      0.47      0.43      1585\n",
            "\n"
          ]
        }
      ]
    },
    {
      "cell_type": "markdown",
      "source": [
        "## kNN OPT"
      ],
      "metadata": {
        "id": "gExw28pdDAn8"
      }
    },
    {
      "cell_type": "code",
      "source": [
        "path_name='/content/drive/MyDrive/project/Model/'+\"model_prediction_risultato_match\"+\"_kNN_Scaler_OPT_\"+\"ep.model\"\n",
        "print(\"Path =\",path_name)\n",
        "exist_model=verifica_esistenza_modello(path_name)\n",
        "# RandomForest\n",
        "if exist_model==False:\n",
        "  params={\n",
        "    \"estimator__leaf_size\": np.arange(2,26,2),\n",
        "    \"estimator__n_neighbors\": np.arange(2,26,2),\n",
        "    \"estimator__p\":[1,2]\n",
        "  }\n",
        "  classes=y_train.unique()\n",
        "  model_kNN=KNeighborsClassifier()\n",
        "  ovr_kNN = OneVsRestClassifier(model_kNN)\n",
        "  grid_clf=GridSearchCV(estimator=ovr_kNN, scoring='f1_weighted',param_grid=params,cv=5,n_jobs=-1,verbose=3)\n",
        "  grid_clf.fit(x_train,y_train)\n",
        "  print(\"the best parameters are: \",grid_clf.best_estimator_)\n",
        "  \n",
        "  ovr_kNN = grid_clf.best_estimator_\n",
        "  ovr_kNN.fit(x_train, y_train)\n",
        "  ovr_kNN=save_model(ovr_kNN,path_name)\n",
        "else:\n",
        "  model_kNN=KNeighborsClassifier()\n",
        "  ovr_kNN = OneVsRestClassifier(model_kNN)\n",
        "  ovr_kNN=load_model(path_name, ovr_kNN)"
      ],
      "metadata": {
        "colab": {
          "base_uri": "https://localhost:8080/"
        },
        "outputId": "d3eb246c-1c45-44ac-ae2a-f99621418e36",
        "id": "sjHAZdfmDAn8"
      },
      "execution_count": 79,
      "outputs": [
        {
          "output_type": "stream",
          "name": "stdout",
          "text": [
            "Path = /content/drive/MyDrive/project/Model/model_prediction_risultato_match_kNN_Scaler_OPT_ep.model\n",
            "Il modello addestrato esiste? False\n",
            "Fitting 5 folds for each of 288 candidates, totalling 1440 fits\n",
            "the best parameters are:  OneVsRestClassifier(estimator=KNeighborsClassifier(leaf_size=2, n_neighbors=18))\n"
          ]
        }
      ]
    },
    {
      "cell_type": "code",
      "source": [
        "y_pred_kNN=ovr_kNN.predict(x_validation)\n",
        "print(accuracy_score(y_validation,y_pred_kNN))\n",
        "print(classification_report(y_validation,y_pred_kNN))"
      ],
      "metadata": {
        "colab": {
          "base_uri": "https://localhost:8080/"
        },
        "outputId": "683cf927-78dc-4fc6-ffe6-52cf5eb9980c",
        "id": "jcHRbDBSDAn9"
      },
      "execution_count": 80,
      "outputs": [
        {
          "output_type": "stream",
          "name": "stdout",
          "text": [
            "0.4782334384858044\n",
            "              precision    recall  f1-score   support\n",
            "\n",
            "           1       0.53      0.70      0.61       686\n",
            "           2       0.47      0.42      0.45       445\n",
            "           X       0.31      0.20      0.24       454\n",
            "\n",
            "    accuracy                           0.48      1585\n",
            "   macro avg       0.44      0.44      0.43      1585\n",
            "weighted avg       0.45      0.48      0.46      1585\n",
            "\n"
          ]
        }
      ]
    },
    {
      "cell_type": "markdown",
      "source": [
        "Possiamo vedere che le prestazioni del modello sono migliorate con i parametri GridSearch e il RandomForest continua a superare gli altri modelli. \n",
        "\n",
        "Questo articolo ha discusso le sfide della classificazione multiclasse e ha dimostrato come implementare vari algoritmi per sviluppare modelli di classificazione multiclasse migliori."
      ],
      "metadata": {
        "id": "uw_y6Try35KH"
      }
    },
    {
      "cell_type": "code",
      "source": [
        "final_model=ovr_RandomForest"
      ],
      "metadata": {
        "id": "pxCWVSXRGlfp"
      },
      "execution_count": 90,
      "outputs": []
    },
    {
      "cell_type": "markdown",
      "source": [
        "#predict"
      ],
      "metadata": {
        "id": "Gtu2vuM2ifJb"
      }
    },
    {
      "cell_type": "code",
      "source": [
        "new=new[[\"Date\",\"HomeTeam\",\"AwayTeam\",\"B365H\",\"B365D\",\"B365A\",\"BWH\",\"BWD\",\"BWA\",\"IWH\",\"IWD\",\"IWA\",\"PSH\",\"PSD\",\"PSA\",\"WHH\",\"WHD\",\"WHA\",\"VCH\",\"VCD\",\"VCA\",\"risultato\"]]"
      ],
      "metadata": {
        "id": "xB-NLaJfignU"
      },
      "execution_count": null,
      "outputs": []
    }
  ],
  "metadata": {
    "accelerator": "GPU",
    "colab": {
      "collapsed_sections": [
        "LYDRiqakSmox"
      ],
      "provenance": [],
      "authorship_tag": "ABX9TyP9GHOKe71YV5pBOZ6lYb/F",
      "include_colab_link": true
    },
    "gpuClass": "standard",
    "kernelspec": {
      "display_name": "Python 3",
      "name": "python3"
    },
    "language_info": {
      "name": "python"
    }
  },
  "nbformat": 4,
  "nbformat_minor": 0
}